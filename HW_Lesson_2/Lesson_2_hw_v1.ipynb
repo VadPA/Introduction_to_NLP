{
 "cells": [
  {
   "cell_type": "code",
   "execution_count": 5,
   "id": "284cba99",
   "metadata": {},
   "outputs": [],
   "source": [
    "import pandas as pd\n",
    "import numpy as np\n",
    "import re\n",
    "import nltk\n",
    "import warnings \n",
    "warnings.filterwarnings(\"ignore\", category=DeprecationWarning)\n",
    "import os\n",
    "\n",
    "from sklearn.feature_extraction.text import CountVectorizer, TfidfVectorizer, HashingVectorizer\n",
    "from nltk.util import ngrams\n",
    "from sklearn import model_selection, preprocessing, linear_model\n",
    "from sklearn.model_selection import train_test_split\n",
    "from sklearn.metrics import *\n",
    "from pymorphy2 import MorphAnalyzer\n",
    "from collections import Counter\n",
    "import pickle\n",
    "\n",
    "from sklearn.linear_model import LogisticRegression\n",
    "\n",
    "import matplotlib.pyplot as plt\n",
    "%matplotlib inline\n",
    "import seaborn as sns"
   ]
  },
  {
   "cell_type": "code",
   "execution_count": 6,
   "id": "6ea3d1be",
   "metadata": {},
   "outputs": [
    {
     "data": {
      "text/html": [
       "<div>\n",
       "<style scoped>\n",
       "    .dataframe tbody tr th:only-of-type {\n",
       "        vertical-align: middle;\n",
       "    }\n",
       "\n",
       "    .dataframe tbody tr th {\n",
       "        vertical-align: top;\n",
       "    }\n",
       "\n",
       "    .dataframe thead th {\n",
       "        text-align: right;\n",
       "    }\n",
       "</style>\n",
       "<table border=\"1\" class=\"dataframe\">\n",
       "  <thead>\n",
       "    <tr style=\"text-align: right;\">\n",
       "      <th></th>\n",
       "      <th>id</th>\n",
       "      <th>label</th>\n",
       "      <th>tweet</th>\n",
       "      <th>tweet_token</th>\n",
       "      <th>tweet_token_filtered</th>\n",
       "      <th>tweet_stemmed</th>\n",
       "      <th>tweet_lemmatized</th>\n",
       "    </tr>\n",
       "  </thead>\n",
       "  <tbody>\n",
       "    <tr>\n",
       "      <th>0</th>\n",
       "      <td>1</td>\n",
       "      <td>0.0</td>\n",
       "      <td>when father is dysfunctional and is so selfish...</td>\n",
       "      <td>[when, father, is, dysfunctional, and, is, so,...</td>\n",
       "      <td>[father, dysfunctional, selfish, drags, kids, ...</td>\n",
       "      <td>father dysfunct selfish drag kid dysfunct run</td>\n",
       "      <td>father dysfunctional selfish drag kid dysfunct...</td>\n",
       "    </tr>\n",
       "    <tr>\n",
       "      <th>1</th>\n",
       "      <td>2</td>\n",
       "      <td>0.0</td>\n",
       "      <td>thanks for lyft credit cannot use cause they d...</td>\n",
       "      <td>[thanks, for, lyft, credit, can, not, use, cau...</td>\n",
       "      <td>[thanks, lyft, credit, use, cause, offer, whee...</td>\n",
       "      <td>thank lyft credit use caus offer wheelchair va...</td>\n",
       "      <td>thanks lyft credit use cause offer wheelchair ...</td>\n",
       "    </tr>\n",
       "    <tr>\n",
       "      <th>2</th>\n",
       "      <td>3</td>\n",
       "      <td>0.0</td>\n",
       "      <td>bihday your majesty</td>\n",
       "      <td>[bihday, your, majesty]</td>\n",
       "      <td>[bihday, majesty]</td>\n",
       "      <td>bihday majesti</td>\n",
       "      <td>bihday majesty</td>\n",
       "    </tr>\n",
       "    <tr>\n",
       "      <th>3</th>\n",
       "      <td>4</td>\n",
       "      <td>0.0</td>\n",
       "      <td>model love yoyou take with yoyou all the time ...</td>\n",
       "      <td>[model, love, yoyou, take, with, yoyou, all, t...</td>\n",
       "      <td>[model, love, yoyou, take, yoyou, time, yoyour]</td>\n",
       "      <td>model love yoyou take yoyou time yoyour</td>\n",
       "      <td>model love yoyou take yoyou time yoyour</td>\n",
       "    </tr>\n",
       "    <tr>\n",
       "      <th>4</th>\n",
       "      <td>5</td>\n",
       "      <td>0.0</td>\n",
       "      <td>factsguide society now motivation</td>\n",
       "      <td>[factsguide, society, now, motivation]</td>\n",
       "      <td>[factsguide, society, motivation]</td>\n",
       "      <td>factsguid societi motiv</td>\n",
       "      <td>factsguide society motivation</td>\n",
       "    </tr>\n",
       "  </tbody>\n",
       "</table>\n",
       "</div>"
      ],
      "text/plain": [
       "   id  label                                              tweet  \\\n",
       "0   1    0.0  when father is dysfunctional and is so selfish...   \n",
       "1   2    0.0  thanks for lyft credit cannot use cause they d...   \n",
       "2   3    0.0                                bihday your majesty   \n",
       "3   4    0.0  model love yoyou take with yoyou all the time ...   \n",
       "4   5    0.0                  factsguide society now motivation   \n",
       "\n",
       "                                         tweet_token  \\\n",
       "0  [when, father, is, dysfunctional, and, is, so,...   \n",
       "1  [thanks, for, lyft, credit, can, not, use, cau...   \n",
       "2                            [bihday, your, majesty]   \n",
       "3  [model, love, yoyou, take, with, yoyou, all, t...   \n",
       "4             [factsguide, society, now, motivation]   \n",
       "\n",
       "                                tweet_token_filtered  \\\n",
       "0  [father, dysfunctional, selfish, drags, kids, ...   \n",
       "1  [thanks, lyft, credit, use, cause, offer, whee...   \n",
       "2                                  [bihday, majesty]   \n",
       "3    [model, love, yoyou, take, yoyou, time, yoyour]   \n",
       "4                  [factsguide, society, motivation]   \n",
       "\n",
       "                                       tweet_stemmed  \\\n",
       "0      father dysfunct selfish drag kid dysfunct run   \n",
       "1  thank lyft credit use caus offer wheelchair va...   \n",
       "2                                     bihday majesti   \n",
       "3            model love yoyou take yoyou time yoyour   \n",
       "4                            factsguid societi motiv   \n",
       "\n",
       "                                    tweet_lemmatized  \n",
       "0  father dysfunctional selfish drag kid dysfunct...  \n",
       "1  thanks lyft credit use cause offer wheelchair ...  \n",
       "2                                     bihday majesty  \n",
       "3            model love yoyou take yoyou time yoyour  \n",
       "4                      factsguide society motivation  "
      ]
     },
     "execution_count": 6,
     "metadata": {},
     "output_type": "execute_result"
    }
   ],
   "source": [
    "f = open(r'combine_df.txt', 'rb')\n",
    "train_df = pickle.load(f)\n",
    "f.close()\n",
    "train_df.head()"
   ]
  },
  {
   "cell_type": "markdown",
   "id": "1520f384",
   "metadata": {},
   "source": [
    "Уберу лишнее"
   ]
  },
  {
   "cell_type": "code",
   "execution_count": 7,
   "id": "6b8f1096",
   "metadata": {},
   "outputs": [
    {
     "data": {
      "text/html": [
       "<div>\n",
       "<style scoped>\n",
       "    .dataframe tbody tr th:only-of-type {\n",
       "        vertical-align: middle;\n",
       "    }\n",
       "\n",
       "    .dataframe tbody tr th {\n",
       "        vertical-align: top;\n",
       "    }\n",
       "\n",
       "    .dataframe thead th {\n",
       "        text-align: right;\n",
       "    }\n",
       "</style>\n",
       "<table border=\"1\" class=\"dataframe\">\n",
       "  <thead>\n",
       "    <tr style=\"text-align: right;\">\n",
       "      <th></th>\n",
       "      <th>id</th>\n",
       "      <th>label</th>\n",
       "      <th>tweet_stemmed</th>\n",
       "      <th>tweet_lemmatized</th>\n",
       "    </tr>\n",
       "  </thead>\n",
       "  <tbody>\n",
       "    <tr>\n",
       "      <th>0</th>\n",
       "      <td>1</td>\n",
       "      <td>0.0</td>\n",
       "      <td>father dysfunct selfish drag kid dysfunct run</td>\n",
       "      <td>father dysfunctional selfish drag kid dysfunct...</td>\n",
       "    </tr>\n",
       "    <tr>\n",
       "      <th>1</th>\n",
       "      <td>2</td>\n",
       "      <td>0.0</td>\n",
       "      <td>thank lyft credit use caus offer wheelchair va...</td>\n",
       "      <td>thanks lyft credit use cause offer wheelchair ...</td>\n",
       "    </tr>\n",
       "    <tr>\n",
       "      <th>2</th>\n",
       "      <td>3</td>\n",
       "      <td>0.0</td>\n",
       "      <td>bihday majesti</td>\n",
       "      <td>bihday majesty</td>\n",
       "    </tr>\n",
       "    <tr>\n",
       "      <th>3</th>\n",
       "      <td>4</td>\n",
       "      <td>0.0</td>\n",
       "      <td>model love yoyou take yoyou time yoyour</td>\n",
       "      <td>model love yoyou take yoyou time yoyour</td>\n",
       "    </tr>\n",
       "    <tr>\n",
       "      <th>4</th>\n",
       "      <td>5</td>\n",
       "      <td>0.0</td>\n",
       "      <td>factsguid societi motiv</td>\n",
       "      <td>factsguide society motivation</td>\n",
       "    </tr>\n",
       "  </tbody>\n",
       "</table>\n",
       "</div>"
      ],
      "text/plain": [
       "   id  label                                      tweet_stemmed  \\\n",
       "0   1    0.0      father dysfunct selfish drag kid dysfunct run   \n",
       "1   2    0.0  thank lyft credit use caus offer wheelchair va...   \n",
       "2   3    0.0                                     bihday majesti   \n",
       "3   4    0.0            model love yoyou take yoyou time yoyour   \n",
       "4   5    0.0                            factsguid societi motiv   \n",
       "\n",
       "                                    tweet_lemmatized  \n",
       "0  father dysfunctional selfish drag kid dysfunct...  \n",
       "1  thanks lyft credit use cause offer wheelchair ...  \n",
       "2                                     bihday majesty  \n",
       "3            model love yoyou take yoyou time yoyour  \n",
       "4                      factsguide society motivation  "
      ]
     },
     "execution_count": 7,
     "metadata": {},
     "output_type": "execute_result"
    }
   ],
   "source": [
    "train_df.drop(columns = ['tweet', 'tweet_token', 'tweet_token_filtered'], axis = 1, inplace=True)\n",
    "train_df.head()"
   ]
  },
  {
   "cell_type": "code",
   "execution_count": 8,
   "id": "4c5b4506",
   "metadata": {},
   "outputs": [
    {
     "data": {
      "text/plain": [
       "id                      0\n",
       "label               17197\n",
       "tweet_stemmed           0\n",
       "tweet_lemmatized        0\n",
       "dtype: int64"
      ]
     },
     "execution_count": 8,
     "metadata": {},
     "output_type": "execute_result"
    }
   ],
   "source": [
    "train_df.isna().sum()"
   ]
  },
  {
   "cell_type": "markdown",
   "id": "8a375068",
   "metadata": {},
   "source": [
    "#### Разделю на train и test"
   ]
  },
  {
   "cell_type": "code",
   "execution_count": 9,
   "id": "00cc6505",
   "metadata": {},
   "outputs": [
    {
     "data": {
      "text/html": [
       "<div>\n",
       "<style scoped>\n",
       "    .dataframe tbody tr th:only-of-type {\n",
       "        vertical-align: middle;\n",
       "    }\n",
       "\n",
       "    .dataframe tbody tr th {\n",
       "        vertical-align: top;\n",
       "    }\n",
       "\n",
       "    .dataframe thead th {\n",
       "        text-align: right;\n",
       "    }\n",
       "</style>\n",
       "<table border=\"1\" class=\"dataframe\">\n",
       "  <thead>\n",
       "    <tr style=\"text-align: right;\">\n",
       "      <th></th>\n",
       "      <th>id</th>\n",
       "      <th>label</th>\n",
       "      <th>tweet_stemmed</th>\n",
       "      <th>tweet_lemmatized</th>\n",
       "    </tr>\n",
       "  </thead>\n",
       "  <tbody>\n",
       "    <tr>\n",
       "      <th>31962</th>\n",
       "      <td>31963</td>\n",
       "      <td>NaN</td>\n",
       "      <td>studiolif aislif requir passion dedic willpow ...</td>\n",
       "      <td>studiolife aislife requires passion dedication...</td>\n",
       "    </tr>\n",
       "    <tr>\n",
       "      <th>31963</th>\n",
       "      <td>31964</td>\n",
       "      <td>NaN</td>\n",
       "      <td>white supremacist want everyon see new bird movi</td>\n",
       "      <td>white supremacist want everyone see new bird m...</td>\n",
       "    </tr>\n",
       "    <tr>\n",
       "      <th>31964</th>\n",
       "      <td>31965</td>\n",
       "      <td>NaN</td>\n",
       "      <td>safe way heal acn altwaystoh healthi heal</td>\n",
       "      <td>safe way heal acne altwaystoheal healthy healing</td>\n",
       "    </tr>\n",
       "    <tr>\n",
       "      <th>31965</th>\n",
       "      <td>31966</td>\n",
       "      <td>NaN</td>\n",
       "      <td>hp curs child book reserv alreadi ye harrypott...</td>\n",
       "      <td>hp cursed child book reservation already yes h...</td>\n",
       "    </tr>\n",
       "    <tr>\n",
       "      <th>31966</th>\n",
       "      <td>31967</td>\n",
       "      <td>NaN</td>\n",
       "      <td>rd bihday amaz hilari nephew eli ahmir uncl da...</td>\n",
       "      <td>rd bihday amazing hilarious nephew eli ahmir u...</td>\n",
       "    </tr>\n",
       "  </tbody>\n",
       "</table>\n",
       "</div>"
      ],
      "text/plain": [
       "          id  label                                      tweet_stemmed  \\\n",
       "31962  31963    NaN  studiolif aislif requir passion dedic willpow ...   \n",
       "31963  31964    NaN   white supremacist want everyon see new bird movi   \n",
       "31964  31965    NaN          safe way heal acn altwaystoh healthi heal   \n",
       "31965  31966    NaN  hp curs child book reserv alreadi ye harrypott...   \n",
       "31966  31967    NaN  rd bihday amaz hilari nephew eli ahmir uncl da...   \n",
       "\n",
       "                                        tweet_lemmatized  \n",
       "31962  studiolife aislife requires passion dedication...  \n",
       "31963  white supremacist want everyone see new bird m...  \n",
       "31964   safe way heal acne altwaystoheal healthy healing  \n",
       "31965  hp cursed child book reservation already yes h...  \n",
       "31966  rd bihday amazing hilarious nephew eli ahmir u...  "
      ]
     },
     "execution_count": 9,
     "metadata": {},
     "output_type": "execute_result"
    }
   ],
   "source": [
    "test_df = train_df[train_df['label'].isnull()] #   train_df[train_df.isnull().any(axis=1)]\n",
    "test_df.head()"
   ]
  },
  {
   "cell_type": "code",
   "execution_count": 10,
   "id": "3c12586b",
   "metadata": {},
   "outputs": [
    {
     "data": {
      "text/html": [
       "<div>\n",
       "<style scoped>\n",
       "    .dataframe tbody tr th:only-of-type {\n",
       "        vertical-align: middle;\n",
       "    }\n",
       "\n",
       "    .dataframe tbody tr th {\n",
       "        vertical-align: top;\n",
       "    }\n",
       "\n",
       "    .dataframe thead th {\n",
       "        text-align: right;\n",
       "    }\n",
       "</style>\n",
       "<table border=\"1\" class=\"dataframe\">\n",
       "  <thead>\n",
       "    <tr style=\"text-align: right;\">\n",
       "      <th></th>\n",
       "      <th>id</th>\n",
       "      <th>label</th>\n",
       "      <th>tweet_stemmed</th>\n",
       "      <th>tweet_lemmatized</th>\n",
       "    </tr>\n",
       "  </thead>\n",
       "  <tbody>\n",
       "    <tr>\n",
       "      <th>0</th>\n",
       "      <td>1</td>\n",
       "      <td>0</td>\n",
       "      <td>father dysfunct selfish drag kid dysfunct run</td>\n",
       "      <td>father dysfunctional selfish drag kid dysfunct...</td>\n",
       "    </tr>\n",
       "    <tr>\n",
       "      <th>1</th>\n",
       "      <td>2</td>\n",
       "      <td>0</td>\n",
       "      <td>thank lyft credit use caus offer wheelchair va...</td>\n",
       "      <td>thanks lyft credit use cause offer wheelchair ...</td>\n",
       "    </tr>\n",
       "    <tr>\n",
       "      <th>2</th>\n",
       "      <td>3</td>\n",
       "      <td>0</td>\n",
       "      <td>bihday majesti</td>\n",
       "      <td>bihday majesty</td>\n",
       "    </tr>\n",
       "    <tr>\n",
       "      <th>3</th>\n",
       "      <td>4</td>\n",
       "      <td>0</td>\n",
       "      <td>model love yoyou take yoyou time yoyour</td>\n",
       "      <td>model love yoyou take yoyou time yoyour</td>\n",
       "    </tr>\n",
       "    <tr>\n",
       "      <th>4</th>\n",
       "      <td>5</td>\n",
       "      <td>0</td>\n",
       "      <td>factsguid societi motiv</td>\n",
       "      <td>factsguide society motivation</td>\n",
       "    </tr>\n",
       "  </tbody>\n",
       "</table>\n",
       "</div>"
      ],
      "text/plain": [
       "   id  label                                      tweet_stemmed  \\\n",
       "0   1      0      father dysfunct selfish drag kid dysfunct run   \n",
       "1   2      0  thank lyft credit use caus offer wheelchair va...   \n",
       "2   3      0                                     bihday majesti   \n",
       "3   4      0            model love yoyou take yoyou time yoyour   \n",
       "4   5      0                            factsguid societi motiv   \n",
       "\n",
       "                                    tweet_lemmatized  \n",
       "0  father dysfunctional selfish drag kid dysfunct...  \n",
       "1  thanks lyft credit use cause offer wheelchair ...  \n",
       "2                                     bihday majesty  \n",
       "3            model love yoyou take yoyou time yoyour  \n",
       "4                      factsguide society motivation  "
      ]
     },
     "execution_count": 10,
     "metadata": {},
     "output_type": "execute_result"
    }
   ],
   "source": [
    "train_df = train_df.loc[~train_df['label'].isnull()]\n",
    "train_df['label'] = train_df['label'].astype(int)\n",
    "train_df.head()"
   ]
  },
  {
   "cell_type": "code",
   "execution_count": 11,
   "id": "474946b8",
   "metadata": {},
   "outputs": [
    {
     "data": {
      "text/plain": [
       "0    29720\n",
       "1     2242\n",
       "Name: label, dtype: int64"
      ]
     },
     "execution_count": 11,
     "metadata": {},
     "output_type": "execute_result"
    }
   ],
   "source": [
    "train_df['label'].value_counts()"
   ]
  },
  {
   "cell_type": "markdown",
   "id": "3b5bee99",
   "metadata": {},
   "source": [
    "- Классы сильно не сбалансированны, поэтому на данном этапе в метрике буду ориентироваться на кривые Precision-Recall и так как важен вопрос выявления первого класса, в качестве метрики буду использовать F2-score"
   ]
  },
  {
   "cell_type": "code",
   "execution_count": 12,
   "id": "cf0b3304",
   "metadata": {},
   "outputs": [],
   "source": [
    "train_x, valid_x, train_y, valid_y = train_test_split(train_df['tweet_stemmed'], train_df['label'], test_size=0.33, random_state=42)"
   ]
  },
  {
   "cell_type": "markdown",
   "id": "7dc37709",
   "metadata": {},
   "source": [
    "#### Сначала обучу классификаторы на униграммах with default settings"
   ]
  },
  {
   "cell_type": "code",
   "execution_count": 13,
   "id": "6c4a390d",
   "metadata": {},
   "outputs": [],
   "source": [
    "vec = CountVectorizer(ngram_range=(1, 1))\n",
    "bow = vec.fit_transform(train_x) # bag of words"
   ]
  },
  {
   "cell_type": "code",
   "execution_count": 14,
   "id": "39112dcc",
   "metadata": {},
   "outputs": [
    {
     "data": {
      "text/plain": [
       "[('bbc', 1736),\n",
       " ('news', 14994),\n",
       " ('russia', 18604),\n",
       " ('lake', 12004),\n",
       " ('syamozero', 21100),\n",
       " ('children', 3847),\n",
       " ('die', 5621),\n",
       " ('storm', 20618),\n",
       " ('catch', 3520),\n",
       " ('boat', 2549)]"
      ]
     },
     "execution_count": 14,
     "metadata": {},
     "output_type": "execute_result"
    }
   ],
   "source": [
    "list(vec.vocabulary_.items())[:10]"
   ]
  },
  {
   "cell_type": "code",
   "execution_count": 15,
   "id": "0cd1817a",
   "metadata": {},
   "outputs": [],
   "source": [
    "clf = LogisticRegression(max_iter=200, random_state=42)\n",
    "clf.fit(bow, train_y)   # learning on a bag of words\n",
    "pred = clf.predict_proba(vec.transform(valid_x))[:,1] # predict"
   ]
  },
  {
   "cell_type": "code",
   "execution_count": 16,
   "id": "82a670a3",
   "metadata": {},
   "outputs": [
    {
     "name": "stdout",
     "output_type": "stream",
     "text": [
      "Precision=0.475, Recall=0.787\n",
      "Best Threshold=0.098, F2-Score=0.696,  Precision=0.475, Recall=0.787\n"
     ]
    }
   ],
   "source": [
    "precision_CV, recall_CV, thresholds_CV = precision_recall_curve(valid_y, pred)\n",
    "fscore = (5 * precision_CV * recall_CV) / (4 * precision_CV + recall_CV)\n",
    "# locate the index of the largest f score\n",
    "ix = np.argmax(fscore)\n",
    "print(f'Precision={precision_CV[ix]:.3f}, Recall={recall_CV[ix]:.3f}')\n",
    "print(f'Best Threshold={thresholds_CV[ix]:.3f}, F2-Score={fscore[ix]:.3f}, \\\n",
    " Precision={precision_CV[ix]:.3f}, Recall={recall_CV[ix]:.3f}')"
   ]
  },
  {
   "cell_type": "markdown",
   "id": "fa05aa21",
   "metadata": {},
   "source": [
    "- Попробуем сделать то же самое для биграмм:"
   ]
  },
  {
   "cell_type": "code",
   "execution_count": 17,
   "id": "8d7d3355",
   "metadata": {},
   "outputs": [
    {
     "name": "stdout",
     "output_type": "stream",
     "text": [
      "Precision=0.506, Recall=0.492\n",
      "Best Threshold=0.0532220334276551, F2-Score=0.495,  Precision=0.506, Recall=0.492\n"
     ]
    }
   ],
   "source": [
    "vec = CountVectorizer(ngram_range=(2, 2))\n",
    "bow = vec.fit_transform(train_x)\n",
    "clf = LogisticRegression(max_iter=200, random_state=42)\n",
    "clf.fit(bow, train_y)\n",
    "pred = clf.predict_proba(vec.transform(valid_x))[:,1] # predict\n",
    "\n",
    "precision, recall, thresholds = precision_recall_curve(valid_y, pred)\n",
    "fscore = (5 * precision * recall) / (4 * precision + recall)\n",
    "# locate the index of the largest f score\n",
    "ix = np.argmax(fscore)\n",
    "print(f'Precision={precision[ix]:.3f}, Recall={recall[ix]:.3f}')\n",
    "print(f'Best Threshold={thresholds[ix]}, F2-Score={fscore[ix]:.3f}, \\\n",
    " Precision={precision[ix]:.3f}, Recall={recall[ix]:.3f}')"
   ]
  },
  {
   "cell_type": "markdown",
   "id": "5d2500a7",
   "metadata": {},
   "source": [
    "#### Cделаю расчет применяя TfidfVectorizer "
   ]
  },
  {
   "cell_type": "code",
   "execution_count": 71,
   "id": "b24dcb87",
   "metadata": {},
   "outputs": [],
   "source": [
    "vec = TfidfVectorizer(ngram_range=(1, 1))\n",
    "bow = vec.fit_transform(train_x)\n",
    "clf = LogisticRegression(max_iter=200, random_state=42)\n",
    "clf.fit(bow, train_y)\n",
    "pred = clf.predict_proba(vec.transform(valid_x))[:,1] # predict"
   ]
  },
  {
   "cell_type": "code",
   "execution_count": 72,
   "id": "6eb8da9b",
   "metadata": {},
   "outputs": [
    {
     "name": "stdout",
     "output_type": "stream",
     "text": [
      "Precision=0.440, Recall=0.833\n",
      "Best Threshold=0.098, F2-Score=0.706, Precision=0.440, Recall=0.833\n"
     ]
    }
   ],
   "source": [
    "precision_TV, recall_TV, thresholds_TV = precision_recall_curve(valid_y, pred)\n",
    "fscore = (5 * precision_TV * recall_TV) / (4 * precision_TV + recall_TV)\n",
    "# locate the index of the largest f score\n",
    "ix = np.argmax(fscore)\n",
    "print(f'Precision={precision_TV[ix]:.3f}, Recall={recall_TV[ix]:.3f}')\n",
    "print(f'Best Threshold={thresholds_TV[ix]:.3f}, F2-Score={fscore[ix]:.3f},\\\n",
    " Precision={precision_TV[ix]:.3f}, Recall={recall_TV[ix]:.3f}')"
   ]
  },
  {
   "cell_type": "code",
   "execution_count": 122,
   "id": "01019ba7",
   "metadata": {},
   "outputs": [
    {
     "data": {
      "text/html": [
       "<div>\n",
       "<style scoped>\n",
       "    .dataframe tbody tr th:only-of-type {\n",
       "        vertical-align: middle;\n",
       "    }\n",
       "\n",
       "    .dataframe tbody tr th {\n",
       "        vertical-align: top;\n",
       "    }\n",
       "\n",
       "    .dataframe thead th {\n",
       "        text-align: right;\n",
       "    }\n",
       "</style>\n",
       "<table border=\"1\" class=\"dataframe\">\n",
       "  <thead>\n",
       "    <tr style=\"text-align: right;\">\n",
       "      <th></th>\n",
       "      <th>aaa</th>\n",
       "      <th>aaaaa</th>\n",
       "      <th>aaaaand</th>\n",
       "      <th>aaahhhh</th>\n",
       "      <th>aaahhhhh</th>\n",
       "      <th>aaand</th>\n",
       "      <th>aaaree</th>\n",
       "      <th>aaareeeejuven</th>\n",
       "      <th>aaareeeelax</th>\n",
       "      <th>aaareeeewind</th>\n",
       "      <th>...</th>\n",
       "      <th>zulu</th>\n",
       "      <th>zuma</th>\n",
       "      <th>zumba</th>\n",
       "      <th>zurich</th>\n",
       "      <th>zx</th>\n",
       "      <th>zydeco</th>\n",
       "      <th>zz</th>\n",
       "      <th>zzz</th>\n",
       "      <th>zzzzzz</th>\n",
       "      <th>zzzzzzzz</th>\n",
       "    </tr>\n",
       "  </thead>\n",
       "  <tbody>\n",
       "    <tr>\n",
       "      <th>0</th>\n",
       "      <td>0.0</td>\n",
       "      <td>0.0</td>\n",
       "      <td>0.0</td>\n",
       "      <td>0.0</td>\n",
       "      <td>0.0</td>\n",
       "      <td>0.0</td>\n",
       "      <td>0.0</td>\n",
       "      <td>0.0</td>\n",
       "      <td>0.0</td>\n",
       "      <td>0.0</td>\n",
       "      <td>...</td>\n",
       "      <td>0.0</td>\n",
       "      <td>0.0</td>\n",
       "      <td>0.0</td>\n",
       "      <td>0.0</td>\n",
       "      <td>0.0</td>\n",
       "      <td>0.0</td>\n",
       "      <td>0.0</td>\n",
       "      <td>0.0</td>\n",
       "      <td>0.0</td>\n",
       "      <td>0.0</td>\n",
       "    </tr>\n",
       "    <tr>\n",
       "      <th>1</th>\n",
       "      <td>0.0</td>\n",
       "      <td>0.0</td>\n",
       "      <td>0.0</td>\n",
       "      <td>0.0</td>\n",
       "      <td>0.0</td>\n",
       "      <td>0.0</td>\n",
       "      <td>0.0</td>\n",
       "      <td>0.0</td>\n",
       "      <td>0.0</td>\n",
       "      <td>0.0</td>\n",
       "      <td>...</td>\n",
       "      <td>0.0</td>\n",
       "      <td>0.0</td>\n",
       "      <td>0.0</td>\n",
       "      <td>0.0</td>\n",
       "      <td>0.0</td>\n",
       "      <td>0.0</td>\n",
       "      <td>0.0</td>\n",
       "      <td>0.0</td>\n",
       "      <td>0.0</td>\n",
       "      <td>0.0</td>\n",
       "    </tr>\n",
       "    <tr>\n",
       "      <th>2</th>\n",
       "      <td>0.0</td>\n",
       "      <td>0.0</td>\n",
       "      <td>0.0</td>\n",
       "      <td>0.0</td>\n",
       "      <td>0.0</td>\n",
       "      <td>0.0</td>\n",
       "      <td>0.0</td>\n",
       "      <td>0.0</td>\n",
       "      <td>0.0</td>\n",
       "      <td>0.0</td>\n",
       "      <td>...</td>\n",
       "      <td>0.0</td>\n",
       "      <td>0.0</td>\n",
       "      <td>0.0</td>\n",
       "      <td>0.0</td>\n",
       "      <td>0.0</td>\n",
       "      <td>0.0</td>\n",
       "      <td>0.0</td>\n",
       "      <td>0.0</td>\n",
       "      <td>0.0</td>\n",
       "      <td>0.0</td>\n",
       "    </tr>\n",
       "    <tr>\n",
       "      <th>3</th>\n",
       "      <td>0.0</td>\n",
       "      <td>0.0</td>\n",
       "      <td>0.0</td>\n",
       "      <td>0.0</td>\n",
       "      <td>0.0</td>\n",
       "      <td>0.0</td>\n",
       "      <td>0.0</td>\n",
       "      <td>0.0</td>\n",
       "      <td>0.0</td>\n",
       "      <td>0.0</td>\n",
       "      <td>...</td>\n",
       "      <td>0.0</td>\n",
       "      <td>0.0</td>\n",
       "      <td>0.0</td>\n",
       "      <td>0.0</td>\n",
       "      <td>0.0</td>\n",
       "      <td>0.0</td>\n",
       "      <td>0.0</td>\n",
       "      <td>0.0</td>\n",
       "      <td>0.0</td>\n",
       "      <td>0.0</td>\n",
       "    </tr>\n",
       "    <tr>\n",
       "      <th>4</th>\n",
       "      <td>0.0</td>\n",
       "      <td>0.0</td>\n",
       "      <td>0.0</td>\n",
       "      <td>0.0</td>\n",
       "      <td>0.0</td>\n",
       "      <td>0.0</td>\n",
       "      <td>0.0</td>\n",
       "      <td>0.0</td>\n",
       "      <td>0.0</td>\n",
       "      <td>0.0</td>\n",
       "      <td>...</td>\n",
       "      <td>0.0</td>\n",
       "      <td>0.0</td>\n",
       "      <td>0.0</td>\n",
       "      <td>0.0</td>\n",
       "      <td>0.0</td>\n",
       "      <td>0.0</td>\n",
       "      <td>0.0</td>\n",
       "      <td>0.0</td>\n",
       "      <td>0.0</td>\n",
       "      <td>0.0</td>\n",
       "    </tr>\n",
       "  </tbody>\n",
       "</table>\n",
       "<p>5 rows × 24774 columns</p>\n",
       "</div>"
      ],
      "text/plain": [
       "   aaa  aaaaa  aaaaand  aaahhhh  aaahhhhh  aaand  aaaree  aaareeeejuven  \\\n",
       "0  0.0    0.0      0.0      0.0       0.0    0.0     0.0            0.0   \n",
       "1  0.0    0.0      0.0      0.0       0.0    0.0     0.0            0.0   \n",
       "2  0.0    0.0      0.0      0.0       0.0    0.0     0.0            0.0   \n",
       "3  0.0    0.0      0.0      0.0       0.0    0.0     0.0            0.0   \n",
       "4  0.0    0.0      0.0      0.0       0.0    0.0     0.0            0.0   \n",
       "\n",
       "   aaareeeelax  aaareeeewind  ...  zulu  zuma  zumba  zurich   zx  zydeco  \\\n",
       "0          0.0           0.0  ...   0.0   0.0    0.0     0.0  0.0     0.0   \n",
       "1          0.0           0.0  ...   0.0   0.0    0.0     0.0  0.0     0.0   \n",
       "2          0.0           0.0  ...   0.0   0.0    0.0     0.0  0.0     0.0   \n",
       "3          0.0           0.0  ...   0.0   0.0    0.0     0.0  0.0     0.0   \n",
       "4          0.0           0.0  ...   0.0   0.0    0.0     0.0  0.0     0.0   \n",
       "\n",
       "    zz  zzz  zzzzzz  zzzzzzzz  \n",
       "0  0.0  0.0     0.0       0.0  \n",
       "1  0.0  0.0     0.0       0.0  \n",
       "2  0.0  0.0     0.0       0.0  \n",
       "3  0.0  0.0     0.0       0.0  \n",
       "4  0.0  0.0     0.0       0.0  \n",
       "\n",
       "[5 rows x 24774 columns]"
      ]
     },
     "execution_count": 122,
     "metadata": {},
     "output_type": "execute_result"
    }
   ],
   "source": [
    "features_names = vec.get_feature_names()\n",
    "temp_df = pd.DataFrame(bow.toarray(), columns=features_names)\n",
    "temp_df.head()"
   ]
  },
  {
   "cell_type": "code",
   "execution_count": 74,
   "id": "47b33373",
   "metadata": {},
   "outputs": [
    {
     "data": {
      "text/plain": [
       "array([ 9.8732346 , 10.27869971, 10.27869971, ..., 10.27869971,\n",
       "       10.27869971, 10.27869971])"
      ]
     },
     "execution_count": 74,
     "metadata": {},
     "output_type": "execute_result"
    }
   ],
   "source": [
    "vec.idf_"
   ]
  },
  {
   "cell_type": "code",
   "execution_count": 75,
   "id": "98973d4b",
   "metadata": {},
   "outputs": [
    {
     "data": {
      "text/plain": [
       "24774"
      ]
     },
     "execution_count": 75,
     "metadata": {},
     "output_type": "execute_result"
    }
   ],
   "source": [
    "len(vec.idf_)"
   ]
  },
  {
   "cell_type": "code",
   "execution_count": 80,
   "id": "557d92db",
   "metadata": {},
   "outputs": [
    {
     "data": {
      "text/plain": [
       "0.8189414473901344"
      ]
     },
     "execution_count": 80,
     "metadata": {},
     "output_type": "execute_result"
    }
   ],
   "source": [
    "temp_df.zurich.sum()"
   ]
  },
  {
   "cell_type": "code",
   "execution_count": null,
   "id": "3a17a699",
   "metadata": {},
   "outputs": [],
   "source": []
  },
  {
   "cell_type": "code",
   "execution_count": null,
   "id": "c169d0e6",
   "metadata": {},
   "outputs": [],
   "source": []
  },
  {
   "cell_type": "markdown",
   "id": "13d4b632",
   "metadata": {},
   "source": [
    "- Сделаю то же самое для биграмм:"
   ]
  },
  {
   "cell_type": "code",
   "execution_count": 20,
   "id": "2763353d",
   "metadata": {},
   "outputs": [],
   "source": [
    "vec = TfidfVectorizer(ngram_range=(2, 2))\n",
    "bow = vec.fit_transform(train_x)\n",
    "clf = LogisticRegression(max_iter=200, random_state=42)\n",
    "clf.fit(bow, train_y)\n",
    "pred = clf.predict_proba(vec.transform(valid_x))[:,1] # predict"
   ]
  },
  {
   "cell_type": "code",
   "execution_count": 21,
   "id": "30f79bb2",
   "metadata": {},
   "outputs": [
    {
     "name": "stdout",
     "output_type": "stream",
     "text": [
      "Precision=0.516, Recall=0.489\n",
      "Best Threshold=0.07485412539394204, F2-Score=0.494,  Precision=0.516, Recall=0.489\n"
     ]
    }
   ],
   "source": [
    "precision, recall, thresholds = precision_recall_curve(valid_y, pred)\n",
    "fscore = (5 * precision * recall) / (4 * precision + recall)\n",
    "# locate the index of the largest f score\n",
    "ix = np.argmax(fscore)\n",
    "print(f'Precision={precision[ix]:.3f}, Recall={recall[ix]:.3f}')\n",
    "print(f'Best Threshold={thresholds[ix]}, F2-Score={fscore[ix]:.3f}, \\\n",
    " Precision={precision[ix]:.3f}, Recall={recall[ix]:.3f}')"
   ]
  },
  {
   "cell_type": "markdown",
   "id": "2ee0a519",
   "metadata": {},
   "source": [
    "- И в случае CountVectorizer и TfidfVectorizer биграммы не дают лучшего результата в сравнении с униграммами."
   ]
  },
  {
   "cell_type": "markdown",
   "id": "4a11e6ed",
   "metadata": {},
   "source": [
    "#### Cделаю расчет применяя HashingVectorizer "
   ]
  },
  {
   "cell_type": "markdown",
   "id": "270ec2f7",
   "metadata": {},
   "source": [
    "Опытным путем определяю параметр n_features"
   ]
  },
  {
   "cell_type": "code",
   "execution_count": 22,
   "id": "91eaab7d",
   "metadata": {},
   "outputs": [],
   "source": [
    "vec = HashingVectorizer(n_features=13500)\n",
    "bow = vec.fit_transform(train_x)\n",
    "clf = LogisticRegression(max_iter=200, random_state=42)\n",
    "clf.fit(bow, train_y)\n",
    "pred = clf.predict_proba(vec.transform(valid_x))[:,1] # predict"
   ]
  },
  {
   "cell_type": "code",
   "execution_count": 23,
   "id": "a254bf1d",
   "metadata": {},
   "outputs": [
    {
     "name": "stdout",
     "output_type": "stream",
     "text": [
      "Precision=0.384, Recall=0.827\n",
      "Best Threshold=0.095, F2-Score=0.673, Precision=0.384, Recall=0.827\n"
     ]
    }
   ],
   "source": [
    "precision_HV, recall_HV, thresholds_HV = precision_recall_curve(valid_y, pred)\n",
    "fscore = (5 * precision_HV * recall_HV) / (4 * precision_HV + recall_HV)\n",
    "# locate the index of the largest f score\n",
    "ix = np.argmax(fscore)\n",
    "print(f'Precision={precision_HV[ix]:.3f}, Recall={recall_HV[ix]:.3f}')\n",
    "print(f'Best Threshold={thresholds_HV[ix]:.3f}, F2-Score={fscore[ix]:.3f},\\\n",
    " Precision={precision_HV[ix]:.3f}, Recall={recall_HV[ix]:.3f}')"
   ]
  },
  {
   "cell_type": "markdown",
   "id": "128d15cf",
   "metadata": {},
   "source": [
    "- Выведем результаты на график"
   ]
  },
  {
   "cell_type": "code",
   "execution_count": 24,
   "id": "4b9b7697",
   "metadata": {},
   "outputs": [
    {
     "data": {
      "image/png": "[encoded data removed]",
      "text/plain": [
       "<Figure size 600x400 with 1 Axes>"
      ]
     },
     "metadata": {},
     "output_type": "display_data"
    }
   ],
   "source": [
    "plt.figure(figsize=(6, 4))\n",
    "plt.plot(recall_CV, precision_CV, label='CountVectorizer')\n",
    "plt.plot(recall_TV, precision_TV, label='TfidfVectorizer')\n",
    "plt.plot(recall_HV, precision_HV, label='HashingVectorizer')\n",
    "plt.xlabel('Recall')\n",
    "plt.ylabel('Precision')\n",
    "plt.title('Precision-Recall curve')\n",
    "plt.legend()\n",
    "plt.show()"
   ]
  },
  {
   "cell_type": "markdown",
   "id": "5a2f825d",
   "metadata": {},
   "source": [
    "---"
   ]
  },
  {
   "cell_type": "markdown",
   "id": "c229fd2b",
   "metadata": {},
   "source": [
    "#### Делаю вывод\n",
    "\n",
    "- Если важна полнота (Recall) в определении первого класса, то на этом участке кривой с небольшим преимуществом лидирует TfidfVectorizer. \n",
    "\n",
    "- В целом все три векторайзера показали +- одинаковый результат"
   ]
  },
  {
   "cell_type": "markdown",
   "id": "da080cd9",
   "metadata": {},
   "source": [
    "---"
   ]
  },
  {
   "cell_type": "markdown",
   "id": "2ec7e73f",
   "metadata": {},
   "source": [
    "### Так как в предыдущем разделе лидирует TfidfVectorizer, рассмотрим его применяя дополнительные параметры."
   ]
  },
  {
   "cell_type": "markdown",
   "id": "5e669bd9",
   "metadata": {},
   "source": [
    "- Отсечем из мешка слов высокочастотные токены и посмотрим на показатели метрики."
   ]
  },
  {
   "cell_type": "code",
   "execution_count": 25,
   "id": "d717407c",
   "metadata": {},
   "outputs": [],
   "source": [
    "vec = TfidfVectorizer(ngram_range=(1, 1), max_df=0.00005)\n",
    "bow = vec.fit_transform(train_x)\n",
    "clf = LogisticRegression(max_iter=200, random_state=42)\n",
    "clf.fit(bow, train_y)\n",
    "pred = clf.predict_proba(vec.transform(valid_x))[:,1] # predict"
   ]
  },
  {
   "cell_type": "code",
   "execution_count": 26,
   "id": "d64284ce",
   "metadata": {},
   "outputs": [
    {
     "name": "stdout",
     "output_type": "stream",
     "text": [
      "Precision=0.079, Recall=0.896\n",
      "Best Threshold=0.068, F2-Score=0.292, Precision=0.079, Recall=0.896\n"
     ]
    }
   ],
   "source": [
    "precision_TV, recall_TV, thresholds_TV = precision_recall_curve(valid_y, pred)\n",
    "fscore = (5 * precision_TV * recall_TV) / (4 * precision_TV + recall_TV)\n",
    "# locate the index of the largest f score\n",
    "ix = np.argmax(fscore)\n",
    "print(f'Precision={precision_TV[ix]:.3f}, Recall={recall_TV[ix]:.3f}')\n",
    "print(f'Best Threshold={thresholds_TV[ix]:.3f}, F2-Score={fscore[ix]:.3f},\\\n",
    " Precision={precision_TV[ix]:.3f}, Recall={recall_TV[ix]:.3f}')"
   ]
  },
  {
   "cell_type": "markdown",
   "id": "cdcb4255",
   "metadata": {},
   "source": [
    "- Перебирая значение параметра max_df, получим следующие результаты"
   ]
  },
  {
   "cell_type": "markdown",
   "id": "9eb25da5",
   "metadata": {},
   "source": [
    "max_df=0.1\n",
    "Precision=0.440, Recall=0.833\n",
    "Best Threshold=0.098, F2-Score=0.706, Precision=0.440, Recall=0.833\n",
    "\n",
    "max_df=0.09\n",
    "Precision=0.434, Recall=0.832\n",
    "Best Threshold=0.096, F2-Score=0.703, Precision=0.434, Recall=0.832\n",
    "\n",
    "max_df=0.05\n",
    "Precision=0.443, Recall=0.817\n",
    "Best Threshold=0.098, F2-Score=0.699, Precision=0.443, Recall=0.817\n",
    "\n",
    "max_df=0.01\n",
    "Precision=0.496, Recall=0.747\n",
    "Best Threshold=0.107, F2-Score=0.678, Precision=0.496, Recall=0.747\n",
    "\n",
    "max_df=0.005\n",
    "Precision=0.424, Recall=0.760\n",
    "Best Threshold=0.087, F2-Score=0.656, Precision=0.424, Recall=0.760\n",
    "\n",
    "max_df=0.001\n",
    "Precision=0.394, Recall=0.667\n",
    "Best Threshold=0.085, F2-Score=0.586, Precision=0.394, Recall=0.667\n",
    "\n",
    "max_df=0.0005\n",
    "Precision=0.351, Recall=0.538\n",
    "Best Threshold=0.084, F2-Score=0.486, Precision=0.351, Recall=0.538\n",
    "\n",
    "max_df=0.0001\n",
    "Precision=0.426, Recall=0.294\n",
    "Best Threshold=0.079, F2-Score=0.313, Precision=0.426, Recall=0.294\n",
    "\n",
    "max_df=0.00005\n",
    "Precision=0.079, Recall=0.896\n",
    "Best Threshold=0.068, F2-Score=0.292, Precision=0.079, Recall=0.896"
   ]
  },
  {
   "cell_type": "markdown",
   "id": "a6d4ff5b",
   "metadata": {},
   "source": [
    "- Отсечем из мешка слов низкочастотные токены и посмотрим на показатели метрики."
   ]
  },
  {
   "cell_type": "code",
   "execution_count": 27,
   "id": "ace01ad7",
   "metadata": {},
   "outputs": [],
   "source": [
    "vec = TfidfVectorizer(ngram_range=(1, 1), min_df=0.01)\n",
    "bow = vec.fit_transform(train_x)\n",
    "clf = LogisticRegression(max_iter=200, random_state=42)\n",
    "clf.fit(bow, train_y)\n",
    "pred = clf.predict_proba(vec.transform(valid_x))[:,1] # predict"
   ]
  },
  {
   "cell_type": "code",
   "execution_count": 28,
   "id": "5b5dc04a",
   "metadata": {},
   "outputs": [
    {
     "name": "stdout",
     "output_type": "stream",
     "text": [
      "Precision=0.000, Recall=0.000\n",
      "Best Threshold=0.674, F2-Score=nan, Precision=0.000, Recall=0.000\n"
     ]
    },
    {
     "name": "stderr",
     "output_type": "stream",
     "text": [
      "C:\\Users\\Вадим\\AppData\\Local\\Temp\\ipykernel_30580\\223751344.py:2: RuntimeWarning: invalid value encountered in divide\n",
      "  fscore = (5 * precision_TV * recall_TV) / (4 * precision_TV + recall_TV)\n"
     ]
    }
   ],
   "source": [
    "precision_TV, recall_TV, thresholds_TV = precision_recall_curve(valid_y, pred)\n",
    "fscore = (5 * precision_TV * recall_TV) / (4 * precision_TV + recall_TV)\n",
    "# locate the index of the largest f score\n",
    "ix = np.argmax(fscore)\n",
    "print(f'Precision={precision_TV[ix]:.3f}, Recall={recall_TV[ix]:.3f}')\n",
    "print(f'Best Threshold={thresholds_TV[ix]:.3f}, F2-Score={fscore[ix]:.3f},\\\n",
    " Precision={precision_TV[ix]:.3f}, Recall={recall_TV[ix]:.3f}')"
   ]
  },
  {
   "cell_type": "markdown",
   "id": "9bcd6da3",
   "metadata": {},
   "source": [
    "- Перебирая значение параметра max_df, получим следующие результаты"
   ]
  },
  {
   "cell_type": "markdown",
   "id": "ecd60c7d",
   "metadata": {},
   "source": [
    "min_df=0.00005\n",
    "Precision=0.482, Recall=0.791\n",
    "Best Threshold=0.111, F2-Score=0.701, Precision=0.482, Recall=0.791\n",
    "\n",
    "min_df=0.0001\n",
    "Precision=0.455, Recall=0.806\n",
    "Best Threshold=0.105, F2-Score=0.698, Precision=0.455, Recall=0.806\n",
    "\n",
    "min_df=0.0005\n",
    "Precision=0.414, Recall=0.771\n",
    "Best Threshold=0.105, F2-Score=0.657, Precision=0.414, Recall=0.771\n",
    "\n",
    "min_df=0.001\n",
    "Precision=0.390, Recall=0.704\n",
    "Best Threshold=0.112, F2-Score=0.606, Precision=0.390, Recall=0.704\n",
    "\n",
    "min_df=0.005\n",
    "Precision=0.226, Recall=0.783\n",
    "Best Threshold=0.095, F2-Score=0.524, Precision=0.226, Recall=0.783\n",
    "\n",
    "min_df=0.01\n",
    "Precision=0.000, Recall=0.000\n",
    "Best Threshold=0.674, F2-Score=nan, Precision=0.000, Recall=0.000"
   ]
  },
  {
   "cell_type": "markdown",
   "id": "29e9bc1f",
   "metadata": {},
   "source": [
    "Построим график зависимостей"
   ]
  },
  {
   "cell_type": "code",
   "execution_count": 29,
   "id": "f1781529",
   "metadata": {},
   "outputs": [],
   "source": [
    "f2_Score_max_df = [0.706, 0.703, 0.699, 0.678, 0.656, 0.586, 0.486, 0.313, 0.292]\n",
    "f2_Score_min_df = [0.000, 0.000, 0.000, 0.000, 0.524, 0.606, 0.657, 0.698, 0.701]\n",
    "x = np.arange(1,10)"
   ]
  },
  {
   "cell_type": "code",
   "execution_count": 30,
   "id": "a5b665bf",
   "metadata": {},
   "outputs": [
    {
     "data": {
      "image/png": "[encoded data removed]",
      "text/plain": [
       "<Figure size 600x400 with 1 Axes>"
      ]
     },
     "metadata": {},
     "output_type": "display_data"
    }
   ],
   "source": [
    "plt.figure(figsize=(6, 4))\n",
    "plt.plot(x, f2_Score_max_df, label='parameter max_df')\n",
    "plt.plot(x, f2_Score_min_df, label='parameter min_df')\n",
    "# plt.plot(recall_TV, precision_TV, label='TfidfVectorizer')\n",
    "# plt.plot(recall_HV, precision_HV, label='HashingVectorizer')\n",
    "plt.xlabel('max_df')\n",
    "plt.ylabel('F2_Score')\n",
    "plt.title('F2_Score metric change curve')\n",
    "plt.legend()\n",
    "plt.show()"
   ]
  },
  {
   "cell_type": "markdown",
   "id": "2335f2c4",
   "metadata": {},
   "source": [
    "- Делаю вывод\n",
    "\n",
    "Наличие высокочастотных токенов дает хороший результат в метрике"
   ]
  },
  {
   "cell_type": "markdown",
   "id": "17d33f3c",
   "metadata": {},
   "source": [
    "---"
   ]
  },
  {
   "cell_type": "markdown",
   "id": "d6f060bc",
   "metadata": {},
   "source": [
    "### NN"
   ]
  },
  {
   "cell_type": "code",
   "execution_count": 89,
   "id": "c4baca0f",
   "metadata": {},
   "outputs": [],
   "source": [
    "import tensorflow as tf\n",
    "from keras import models\n",
    "from keras import layers\n",
    "from tensorflow.keras import Sequential\n",
    "from tensorflow.keras.layers import Dense, Embedding, GlobalAveragePooling1D, Conv1D, GRU, LSTM, Dropout\n",
    "from tensorflow.keras.layers.experimental.preprocessing import TextVectorization"
   ]
  },
  {
   "cell_type": "code",
   "execution_count": 102,
   "id": "7c3238ac",
   "metadata": {},
   "outputs": [],
   "source": [
    "train_data = tf.data.Dataset.from_tensor_slices((train_x, train_y))\n",
    "valid_data = tf.data.Dataset.from_tensor_slices((valid_x, valid_y))"
   ]
  },
  {
   "cell_type": "code",
   "execution_count": 103,
   "id": "1c970aa4",
   "metadata": {},
   "outputs": [],
   "source": [
    "train_data = train_data.batch(16)\n",
    "valid_data = valid_data.batch(16)"
   ]
  },
  {
   "cell_type": "code",
   "execution_count": 51,
   "id": "2eda705b",
   "metadata": {},
   "outputs": [],
   "source": [
    "for raw in train_data.take(1):\n",
    "    pass"
   ]
  },
  {
   "cell_type": "code",
   "execution_count": 52,
   "id": "0adf7001",
   "metadata": {},
   "outputs": [
    {
     "data": {
      "text/plain": [
       "(<tf.Tensor: shape=(16,), dtype=string, numpy=\n",
       " array([b'bbc news russia lake syamozero children die storm catch boat group poorkid',\n",
       "        b'go get sick face firebring open night close weekend late night show week',\n",
       "        b'wait tomorrow night weekend summer',\n",
       "        b'nd annual bailey day tast join us familyfun baileyday mountainliv',\n",
       "        b'got addict moonblu name took life finish sold love druid wow',\n",
       "        b'peopl cruel', b'redhead lovinglif tbt wednesday dodgechalleng',\n",
       "        b'friday rememb judg other see love peac success',\n",
       "        b'beuti poetri poetri line poetri eid new poetri tanhai poetri plz tri follow alon sana jan follow',\n",
       "        b'liter bar watch end final game game lebron',\n",
       "        b'hispan feel like stomp listen retweet boricua',\n",
       "        b'po take paint asshol fuck chump',\n",
       "        b'model love yoyou take yoyou time yoyour',\n",
       "        b'sex citi paint good morn sexandthec',\n",
       "        b'consult firm run small sta check us see', b'hershey bihday'],\n",
       "       dtype=object)>,\n",
       " <tf.Tensor: shape=(16,), dtype=int32, numpy=array([0, 0, 0, 0, 0, 0, 0, 0, 0, 0, 1, 1, 0, 0, 0, 0])>)"
      ]
     },
     "execution_count": 52,
     "metadata": {},
     "output_type": "execute_result"
    }
   ],
   "source": [
    "raw "
   ]
  },
  {
   "cell_type": "code",
   "execution_count": 104,
   "id": "1dbd0913",
   "metadata": {},
   "outputs": [],
   "source": [
    "AUTOTUNE = tf.data.experimental.AUTOTUNE\n",
    "\n",
    "train_data = train_data.cache().prefetch(buffer_size=AUTOTUNE)\n",
    "valid_data = valid_data.cache().prefetch(buffer_size=AUTOTUNE)"
   ]
  },
  {
   "cell_type": "code",
   "execution_count": 105,
   "id": "5697af21",
   "metadata": {},
   "outputs": [
    {
     "data": {
      "text/plain": [
       "<PrefetchDataset shapes: ((None,), (None,)), types: (tf.string, tf.int32)>"
      ]
     },
     "execution_count": 105,
     "metadata": {},
     "output_type": "execute_result"
    }
   ],
   "source": [
    "train_data"
   ]
  },
  {
   "cell_type": "code",
   "execution_count": 91,
   "id": "3c86918b",
   "metadata": {},
   "outputs": [
    {
     "data": {
      "text/plain": [
       "1339"
      ]
     },
     "execution_count": 91,
     "metadata": {},
     "output_type": "execute_result"
    }
   ],
   "source": [
    "len(train_data)"
   ]
  },
  {
   "cell_type": "code",
   "execution_count": 96,
   "id": "6752f9c9",
   "metadata": {},
   "outputs": [
    {
     "data": {
      "text/plain": [
       "(1339,)"
      ]
     },
     "execution_count": 96,
     "metadata": {},
     "output_type": "execute_result"
    }
   ],
   "source": [
    "(len(train_data),)"
   ]
  },
  {
   "cell_type": "code",
   "execution_count": 95,
   "id": "fb43df26",
   "metadata": {},
   "outputs": [
    {
     "data": {
      "text/plain": [
       "660"
      ]
     },
     "execution_count": 95,
     "metadata": {},
     "output_type": "execute_result"
    }
   ],
   "source": [
    "len(valid_data)"
   ]
  },
  {
   "cell_type": "code",
   "execution_count": 83,
   "id": "a194da94",
   "metadata": {},
   "outputs": [
    {
     "data": {
      "text/plain": [
       "<MapDataset shapes: (None,), types: tf.string>"
      ]
     },
     "execution_count": 83,
     "metadata": {},
     "output_type": "execute_result"
    }
   ],
   "source": [
    "text_data"
   ]
  },
  {
   "cell_type": "code",
   "execution_count": 113,
   "id": "07bd8f16",
   "metadata": {},
   "outputs": [],
   "source": [
    "def custom_standardization(input_data):\n",
    "    return input_data\n",
    "\n",
    "vocab_size = 10000\n",
    "seq_len = 50\n",
    "\n",
    "vectorize_layer = TextVectorization(\n",
    "    standardize=custom_standardization,\n",
    "    max_tokens=vocab_size,\n",
    "    output_mode='int',\n",
    "    output_sequence_length=seq_len)\n",
    "\n",
    "text_data = train_data.map(lambda x, y: x)\n",
    "vectorize_layer.adapt(text_data)"
   ]
  },
  {
   "cell_type": "code",
   "execution_count": 132,
   "id": "458dae44",
   "metadata": {},
   "outputs": [],
   "source": [
    "embedding_dim = 200\n",
    "\n",
    "model = Sequential([\n",
    "    vectorize_layer,\n",
    "    Embedding(vocab_size, embedding_dim),\n",
    "    Conv1D(200, (3)),\n",
    "    Conv1D(200, (2)),\n",
    "#     GRU(300),\n",
    "#     GlobalAveragePooling1D(),\n",
    "    Dense(200, activation='relu'),\n",
    "    Dense(1)\n",
    "])"
   ]
  },
  {
   "cell_type": "code",
   "execution_count": 133,
   "id": "42abcd9e",
   "metadata": {},
   "outputs": [],
   "source": [
    "model.compile(optimizer='adam',\n",
    "             loss=tf.keras.losses.BinaryCrossentropy(from_logits=True),\n",
    "             metrics=['accuracy'])"
   ]
  },
  {
   "cell_type": "code",
   "execution_count": 134,
   "id": "f92ee16a",
   "metadata": {},
   "outputs": [
    {
     "name": "stdout",
     "output_type": "stream",
     "text": [
      "Epoch 1/5\n"
     ]
    },
    {
     "ename": "ValueError",
     "evalue": "in user code:\n\n    J:\\Vadim\\envs\\TensorFlowEd\\lib\\site-packages\\tensorflow\\python\\keras\\engine\\training.py:806 train_function  *\n        return step_function(self, iterator)\n    J:\\Vadim\\envs\\TensorFlowEd\\lib\\site-packages\\tensorflow\\python\\keras\\engine\\training.py:796 step_function  **\n        outputs = model.distribute_strategy.run(run_step, args=(data,))\n    J:\\Vadim\\envs\\TensorFlowEd\\lib\\site-packages\\tensorflow\\python\\distribute\\distribute_lib.py:1211 run\n        return self._extended.call_for_each_replica(fn, args=args, kwargs=kwargs)\n    J:\\Vadim\\envs\\TensorFlowEd\\lib\\site-packages\\tensorflow\\python\\distribute\\distribute_lib.py:2585 call_for_each_replica\n        return self._call_for_each_replica(fn, args, kwargs)\n    J:\\Vadim\\envs\\TensorFlowEd\\lib\\site-packages\\tensorflow\\python\\distribute\\distribute_lib.py:2945 _call_for_each_replica\n        return fn(*args, **kwargs)\n    J:\\Vadim\\envs\\TensorFlowEd\\lib\\site-packages\\tensorflow\\python\\keras\\engine\\training.py:789 run_step  **\n        outputs = model.train_step(data)\n    J:\\Vadim\\envs\\TensorFlowEd\\lib\\site-packages\\tensorflow\\python\\keras\\engine\\training.py:748 train_step\n        loss = self.compiled_loss(\n    J:\\Vadim\\envs\\TensorFlowEd\\lib\\site-packages\\tensorflow\\python\\keras\\engine\\compile_utils.py:204 __call__\n        loss_value = loss_obj(y_t, y_p, sample_weight=sw)\n    J:\\Vadim\\envs\\TensorFlowEd\\lib\\site-packages\\tensorflow\\python\\keras\\losses.py:149 __call__\n        losses = ag_call(y_true, y_pred)\n    J:\\Vadim\\envs\\TensorFlowEd\\lib\\site-packages\\tensorflow\\python\\keras\\losses.py:253 call  **\n        return ag_fn(y_true, y_pred, **self._fn_kwargs)\n    J:\\Vadim\\envs\\TensorFlowEd\\lib\\site-packages\\tensorflow\\python\\util\\dispatch.py:201 wrapper\n        return target(*args, **kwargs)\n    J:\\Vadim\\envs\\TensorFlowEd\\lib\\site-packages\\tensorflow\\python\\keras\\losses.py:1605 binary_crossentropy\n        K.binary_crossentropy(y_true, y_pred, from_logits=from_logits), axis=-1)\n    J:\\Vadim\\envs\\TensorFlowEd\\lib\\site-packages\\tensorflow\\python\\util\\dispatch.py:201 wrapper\n        return target(*args, **kwargs)\n    J:\\Vadim\\envs\\TensorFlowEd\\lib\\site-packages\\tensorflow\\python\\keras\\backend.py:4814 binary_crossentropy\n        return nn.sigmoid_cross_entropy_with_logits(labels=target, logits=output)\n    J:\\Vadim\\envs\\TensorFlowEd\\lib\\site-packages\\tensorflow\\python\\util\\dispatch.py:201 wrapper\n        return target(*args, **kwargs)\n    J:\\Vadim\\envs\\TensorFlowEd\\lib\\site-packages\\tensorflow\\python\\ops\\nn_impl.py:173 sigmoid_cross_entropy_with_logits\n        raise ValueError(\"logits and labels must have the same shape (%s vs %s)\" %\n\n    ValueError: logits and labels must have the same shape ((None, 47) vs (None, 1))\n",
     "output_type": "error",
     "traceback": [
      "\u001b[1;31m---------------------------------------------------------------------------\u001b[0m",
      "\u001b[1;31mValueError\u001b[0m                                Traceback (most recent call last)",
      "Input \u001b[1;32mIn [134]\u001b[0m, in \u001b[0;36m<cell line: 1>\u001b[1;34m()\u001b[0m\n\u001b[1;32m----> 1\u001b[0m \u001b[43mmodel\u001b[49m\u001b[38;5;241;43m.\u001b[39;49m\u001b[43mfit\u001b[49m\u001b[43m(\u001b[49m\u001b[43mtrain_data\u001b[49m\u001b[43m,\u001b[49m\u001b[43m \u001b[49m\u001b[43mvalidation_data\u001b[49m\u001b[38;5;241;43m=\u001b[39;49m\u001b[43mvalid_data\u001b[49m\u001b[43m,\u001b[49m\u001b[43m \u001b[49m\u001b[43mepochs\u001b[49m\u001b[38;5;241;43m=\u001b[39;49m\u001b[38;5;241;43m5\u001b[39;49m\u001b[43m)\u001b[49m\n",
      "File \u001b[1;32mJ:\\Vadim\\envs\\TensorFlowEd\\lib\\site-packages\\tensorflow\\python\\keras\\engine\\training.py:108\u001b[0m, in \u001b[0;36menable_multi_worker.<locals>._method_wrapper\u001b[1;34m(self, *args, **kwargs)\u001b[0m\n\u001b[0;32m    106\u001b[0m \u001b[38;5;28;01mdef\u001b[39;00m \u001b[38;5;21m_method_wrapper\u001b[39m(\u001b[38;5;28mself\u001b[39m, \u001b[38;5;241m*\u001b[39margs, \u001b[38;5;241m*\u001b[39m\u001b[38;5;241m*\u001b[39mkwargs):\n\u001b[0;32m    107\u001b[0m   \u001b[38;5;28;01mif\u001b[39;00m \u001b[38;5;129;01mnot\u001b[39;00m \u001b[38;5;28mself\u001b[39m\u001b[38;5;241m.\u001b[39m_in_multi_worker_mode():  \u001b[38;5;66;03m# pylint: disable=protected-access\u001b[39;00m\n\u001b[1;32m--> 108\u001b[0m     \u001b[38;5;28;01mreturn\u001b[39;00m \u001b[43mmethod\u001b[49m\u001b[43m(\u001b[49m\u001b[38;5;28;43mself\u001b[39;49m\u001b[43m,\u001b[49m\u001b[43m \u001b[49m\u001b[38;5;241;43m*\u001b[39;49m\u001b[43margs\u001b[49m\u001b[43m,\u001b[49m\u001b[43m \u001b[49m\u001b[38;5;241;43m*\u001b[39;49m\u001b[38;5;241;43m*\u001b[39;49m\u001b[43mkwargs\u001b[49m\u001b[43m)\u001b[49m\n\u001b[0;32m    110\u001b[0m   \u001b[38;5;66;03m# Running inside `run_distribute_coordinator` already.\u001b[39;00m\n\u001b[0;32m    111\u001b[0m   \u001b[38;5;28;01mif\u001b[39;00m dc_context\u001b[38;5;241m.\u001b[39mget_current_worker_context():\n",
      "File \u001b[1;32mJ:\\Vadim\\envs\\TensorFlowEd\\lib\\site-packages\\tensorflow\\python\\keras\\engine\\training.py:1098\u001b[0m, in \u001b[0;36mModel.fit\u001b[1;34m(self, x, y, batch_size, epochs, verbose, callbacks, validation_split, validation_data, shuffle, class_weight, sample_weight, initial_epoch, steps_per_epoch, validation_steps, validation_batch_size, validation_freq, max_queue_size, workers, use_multiprocessing)\u001b[0m\n\u001b[0;32m   1091\u001b[0m \u001b[38;5;28;01mwith\u001b[39;00m trace\u001b[38;5;241m.\u001b[39mTrace(\n\u001b[0;32m   1092\u001b[0m     \u001b[38;5;124m'\u001b[39m\u001b[38;5;124mTraceContext\u001b[39m\u001b[38;5;124m'\u001b[39m,\n\u001b[0;32m   1093\u001b[0m     graph_type\u001b[38;5;241m=\u001b[39m\u001b[38;5;124m'\u001b[39m\u001b[38;5;124mtrain\u001b[39m\u001b[38;5;124m'\u001b[39m,\n\u001b[0;32m   1094\u001b[0m     epoch_num\u001b[38;5;241m=\u001b[39mepoch,\n\u001b[0;32m   1095\u001b[0m     step_num\u001b[38;5;241m=\u001b[39mstep,\n\u001b[0;32m   1096\u001b[0m     batch_size\u001b[38;5;241m=\u001b[39mbatch_size):\n\u001b[0;32m   1097\u001b[0m   callbacks\u001b[38;5;241m.\u001b[39mon_train_batch_begin(step)\n\u001b[1;32m-> 1098\u001b[0m   tmp_logs \u001b[38;5;241m=\u001b[39m \u001b[43mtrain_function\u001b[49m\u001b[43m(\u001b[49m\u001b[43miterator\u001b[49m\u001b[43m)\u001b[49m\n\u001b[0;32m   1099\u001b[0m   \u001b[38;5;28;01mif\u001b[39;00m data_handler\u001b[38;5;241m.\u001b[39mshould_sync:\n\u001b[0;32m   1100\u001b[0m     context\u001b[38;5;241m.\u001b[39masync_wait()\n",
      "File \u001b[1;32mJ:\\Vadim\\envs\\TensorFlowEd\\lib\\site-packages\\tensorflow\\python\\eager\\def_function.py:780\u001b[0m, in \u001b[0;36mFunction.__call__\u001b[1;34m(self, *args, **kwds)\u001b[0m\n\u001b[0;32m    778\u001b[0m \u001b[38;5;28;01melse\u001b[39;00m:\n\u001b[0;32m    779\u001b[0m   compiler \u001b[38;5;241m=\u001b[39m \u001b[38;5;124m\"\u001b[39m\u001b[38;5;124mnonXla\u001b[39m\u001b[38;5;124m\"\u001b[39m\n\u001b[1;32m--> 780\u001b[0m   result \u001b[38;5;241m=\u001b[39m \u001b[38;5;28;43mself\u001b[39;49m\u001b[38;5;241;43m.\u001b[39;49m\u001b[43m_call\u001b[49m\u001b[43m(\u001b[49m\u001b[38;5;241;43m*\u001b[39;49m\u001b[43margs\u001b[49m\u001b[43m,\u001b[49m\u001b[43m \u001b[49m\u001b[38;5;241;43m*\u001b[39;49m\u001b[38;5;241;43m*\u001b[39;49m\u001b[43mkwds\u001b[49m\u001b[43m)\u001b[49m\n\u001b[0;32m    782\u001b[0m new_tracing_count \u001b[38;5;241m=\u001b[39m \u001b[38;5;28mself\u001b[39m\u001b[38;5;241m.\u001b[39m_get_tracing_count()\n\u001b[0;32m    783\u001b[0m without_tracing \u001b[38;5;241m=\u001b[39m (tracing_count \u001b[38;5;241m==\u001b[39m new_tracing_count)\n",
      "File \u001b[1;32mJ:\\Vadim\\envs\\TensorFlowEd\\lib\\site-packages\\tensorflow\\python\\eager\\def_function.py:823\u001b[0m, in \u001b[0;36mFunction._call\u001b[1;34m(self, *args, **kwds)\u001b[0m\n\u001b[0;32m    820\u001b[0m \u001b[38;5;28;01mtry\u001b[39;00m:\n\u001b[0;32m    821\u001b[0m   \u001b[38;5;66;03m# This is the first call of __call__, so we have to initialize.\u001b[39;00m\n\u001b[0;32m    822\u001b[0m   initializers \u001b[38;5;241m=\u001b[39m []\n\u001b[1;32m--> 823\u001b[0m   \u001b[38;5;28;43mself\u001b[39;49m\u001b[38;5;241;43m.\u001b[39;49m\u001b[43m_initialize\u001b[49m\u001b[43m(\u001b[49m\u001b[43margs\u001b[49m\u001b[43m,\u001b[49m\u001b[43m \u001b[49m\u001b[43mkwds\u001b[49m\u001b[43m,\u001b[49m\u001b[43m \u001b[49m\u001b[43madd_initializers_to\u001b[49m\u001b[38;5;241;43m=\u001b[39;49m\u001b[43minitializers\u001b[49m\u001b[43m)\u001b[49m\n\u001b[0;32m    824\u001b[0m \u001b[38;5;28;01mfinally\u001b[39;00m:\n\u001b[0;32m    825\u001b[0m   \u001b[38;5;66;03m# At this point we know that the initialization is complete (or less\u001b[39;00m\n\u001b[0;32m    826\u001b[0m   \u001b[38;5;66;03m# interestingly an exception was raised) so we no longer need a lock.\u001b[39;00m\n\u001b[0;32m    827\u001b[0m   \u001b[38;5;28mself\u001b[39m\u001b[38;5;241m.\u001b[39m_lock\u001b[38;5;241m.\u001b[39mrelease()\n",
      "File \u001b[1;32mJ:\\Vadim\\envs\\TensorFlowEd\\lib\\site-packages\\tensorflow\\python\\eager\\def_function.py:696\u001b[0m, in \u001b[0;36mFunction._initialize\u001b[1;34m(self, args, kwds, add_initializers_to)\u001b[0m\n\u001b[0;32m    693\u001b[0m \u001b[38;5;28mself\u001b[39m\u001b[38;5;241m.\u001b[39m_lifted_initializer_graph \u001b[38;5;241m=\u001b[39m lifted_initializer_graph\n\u001b[0;32m    694\u001b[0m \u001b[38;5;28mself\u001b[39m\u001b[38;5;241m.\u001b[39m_graph_deleter \u001b[38;5;241m=\u001b[39m FunctionDeleter(\u001b[38;5;28mself\u001b[39m\u001b[38;5;241m.\u001b[39m_lifted_initializer_graph)\n\u001b[0;32m    695\u001b[0m \u001b[38;5;28mself\u001b[39m\u001b[38;5;241m.\u001b[39m_concrete_stateful_fn \u001b[38;5;241m=\u001b[39m (\n\u001b[1;32m--> 696\u001b[0m     \u001b[38;5;28;43mself\u001b[39;49m\u001b[38;5;241;43m.\u001b[39;49m\u001b[43m_stateful_fn\u001b[49m\u001b[38;5;241;43m.\u001b[39;49m\u001b[43m_get_concrete_function_internal_garbage_collected\u001b[49m\u001b[43m(\u001b[49m\u001b[43m  \u001b[49m\u001b[38;5;66;43;03m# pylint: disable=protected-access\u001b[39;49;00m\n\u001b[0;32m    697\u001b[0m \u001b[43m        \u001b[49m\u001b[38;5;241;43m*\u001b[39;49m\u001b[43margs\u001b[49m\u001b[43m,\u001b[49m\u001b[43m \u001b[49m\u001b[38;5;241;43m*\u001b[39;49m\u001b[38;5;241;43m*\u001b[39;49m\u001b[43mkwds\u001b[49m\u001b[43m)\u001b[49m)\n\u001b[0;32m    699\u001b[0m \u001b[38;5;28;01mdef\u001b[39;00m \u001b[38;5;21minvalid_creator_scope\u001b[39m(\u001b[38;5;241m*\u001b[39munused_args, \u001b[38;5;241m*\u001b[39m\u001b[38;5;241m*\u001b[39munused_kwds):\n\u001b[0;32m    700\u001b[0m   \u001b[38;5;124;03m\"\"\"Disables variable creation.\"\"\"\u001b[39;00m\n",
      "File \u001b[1;32mJ:\\Vadim\\envs\\TensorFlowEd\\lib\\site-packages\\tensorflow\\python\\eager\\function.py:2855\u001b[0m, in \u001b[0;36mFunction._get_concrete_function_internal_garbage_collected\u001b[1;34m(self, *args, **kwargs)\u001b[0m\n\u001b[0;32m   2853\u001b[0m   args, kwargs \u001b[38;5;241m=\u001b[39m \u001b[38;5;28;01mNone\u001b[39;00m, \u001b[38;5;28;01mNone\u001b[39;00m\n\u001b[0;32m   2854\u001b[0m \u001b[38;5;28;01mwith\u001b[39;00m \u001b[38;5;28mself\u001b[39m\u001b[38;5;241m.\u001b[39m_lock:\n\u001b[1;32m-> 2855\u001b[0m   graph_function, _, _ \u001b[38;5;241m=\u001b[39m \u001b[38;5;28;43mself\u001b[39;49m\u001b[38;5;241;43m.\u001b[39;49m\u001b[43m_maybe_define_function\u001b[49m\u001b[43m(\u001b[49m\u001b[43margs\u001b[49m\u001b[43m,\u001b[49m\u001b[43m \u001b[49m\u001b[43mkwargs\u001b[49m\u001b[43m)\u001b[49m\n\u001b[0;32m   2856\u001b[0m \u001b[38;5;28;01mreturn\u001b[39;00m graph_function\n",
      "File \u001b[1;32mJ:\\Vadim\\envs\\TensorFlowEd\\lib\\site-packages\\tensorflow\\python\\eager\\function.py:3213\u001b[0m, in \u001b[0;36mFunction._maybe_define_function\u001b[1;34m(self, args, kwargs)\u001b[0m\n\u001b[0;32m   3210\u001b[0m   \u001b[38;5;28;01mreturn\u001b[39;00m \u001b[38;5;28mself\u001b[39m\u001b[38;5;241m.\u001b[39m_define_function_with_shape_relaxation(args, kwargs)\n\u001b[0;32m   3212\u001b[0m \u001b[38;5;28mself\u001b[39m\u001b[38;5;241m.\u001b[39m_function_cache\u001b[38;5;241m.\u001b[39mmissed\u001b[38;5;241m.\u001b[39madd(call_context_key)\n\u001b[1;32m-> 3213\u001b[0m graph_function \u001b[38;5;241m=\u001b[39m \u001b[38;5;28;43mself\u001b[39;49m\u001b[38;5;241;43m.\u001b[39;49m\u001b[43m_create_graph_function\u001b[49m\u001b[43m(\u001b[49m\u001b[43margs\u001b[49m\u001b[43m,\u001b[49m\u001b[43m \u001b[49m\u001b[43mkwargs\u001b[49m\u001b[43m)\u001b[49m\n\u001b[0;32m   3214\u001b[0m \u001b[38;5;28mself\u001b[39m\u001b[38;5;241m.\u001b[39m_function_cache\u001b[38;5;241m.\u001b[39mprimary[cache_key] \u001b[38;5;241m=\u001b[39m graph_function\n\u001b[0;32m   3215\u001b[0m \u001b[38;5;28;01mreturn\u001b[39;00m graph_function, args, kwargs\n",
      "File \u001b[1;32mJ:\\Vadim\\envs\\TensorFlowEd\\lib\\site-packages\\tensorflow\\python\\eager\\function.py:3065\u001b[0m, in \u001b[0;36mFunction._create_graph_function\u001b[1;34m(self, args, kwargs, override_flat_arg_shapes)\u001b[0m\n\u001b[0;32m   3060\u001b[0m missing_arg_names \u001b[38;5;241m=\u001b[39m [\n\u001b[0;32m   3061\u001b[0m     \u001b[38;5;124m\"\u001b[39m\u001b[38;5;132;01m%s\u001b[39;00m\u001b[38;5;124m_\u001b[39m\u001b[38;5;132;01m%d\u001b[39;00m\u001b[38;5;124m\"\u001b[39m \u001b[38;5;241m%\u001b[39m (arg, i) \u001b[38;5;28;01mfor\u001b[39;00m i, arg \u001b[38;5;129;01min\u001b[39;00m \u001b[38;5;28menumerate\u001b[39m(missing_arg_names)\n\u001b[0;32m   3062\u001b[0m ]\n\u001b[0;32m   3063\u001b[0m arg_names \u001b[38;5;241m=\u001b[39m base_arg_names \u001b[38;5;241m+\u001b[39m missing_arg_names\n\u001b[0;32m   3064\u001b[0m graph_function \u001b[38;5;241m=\u001b[39m ConcreteFunction(\n\u001b[1;32m-> 3065\u001b[0m     \u001b[43mfunc_graph_module\u001b[49m\u001b[38;5;241;43m.\u001b[39;49m\u001b[43mfunc_graph_from_py_func\u001b[49m\u001b[43m(\u001b[49m\n\u001b[0;32m   3066\u001b[0m \u001b[43m        \u001b[49m\u001b[38;5;28;43mself\u001b[39;49m\u001b[38;5;241;43m.\u001b[39;49m\u001b[43m_name\u001b[49m\u001b[43m,\u001b[49m\n\u001b[0;32m   3067\u001b[0m \u001b[43m        \u001b[49m\u001b[38;5;28;43mself\u001b[39;49m\u001b[38;5;241;43m.\u001b[39;49m\u001b[43m_python_function\u001b[49m\u001b[43m,\u001b[49m\n\u001b[0;32m   3068\u001b[0m \u001b[43m        \u001b[49m\u001b[43margs\u001b[49m\u001b[43m,\u001b[49m\n\u001b[0;32m   3069\u001b[0m \u001b[43m        \u001b[49m\u001b[43mkwargs\u001b[49m\u001b[43m,\u001b[49m\n\u001b[0;32m   3070\u001b[0m \u001b[43m        \u001b[49m\u001b[38;5;28;43mself\u001b[39;49m\u001b[38;5;241;43m.\u001b[39;49m\u001b[43minput_signature\u001b[49m\u001b[43m,\u001b[49m\n\u001b[0;32m   3071\u001b[0m \u001b[43m        \u001b[49m\u001b[43mautograph\u001b[49m\u001b[38;5;241;43m=\u001b[39;49m\u001b[38;5;28;43mself\u001b[39;49m\u001b[38;5;241;43m.\u001b[39;49m\u001b[43m_autograph\u001b[49m\u001b[43m,\u001b[49m\n\u001b[0;32m   3072\u001b[0m \u001b[43m        \u001b[49m\u001b[43mautograph_options\u001b[49m\u001b[38;5;241;43m=\u001b[39;49m\u001b[38;5;28;43mself\u001b[39;49m\u001b[38;5;241;43m.\u001b[39;49m\u001b[43m_autograph_options\u001b[49m\u001b[43m,\u001b[49m\n\u001b[0;32m   3073\u001b[0m \u001b[43m        \u001b[49m\u001b[43marg_names\u001b[49m\u001b[38;5;241;43m=\u001b[39;49m\u001b[43marg_names\u001b[49m\u001b[43m,\u001b[49m\n\u001b[0;32m   3074\u001b[0m \u001b[43m        \u001b[49m\u001b[43moverride_flat_arg_shapes\u001b[49m\u001b[38;5;241;43m=\u001b[39;49m\u001b[43moverride_flat_arg_shapes\u001b[49m\u001b[43m,\u001b[49m\n\u001b[0;32m   3075\u001b[0m \u001b[43m        \u001b[49m\u001b[43mcapture_by_value\u001b[49m\u001b[38;5;241;43m=\u001b[39;49m\u001b[38;5;28;43mself\u001b[39;49m\u001b[38;5;241;43m.\u001b[39;49m\u001b[43m_capture_by_value\u001b[49m\u001b[43m)\u001b[49m,\n\u001b[0;32m   3076\u001b[0m     \u001b[38;5;28mself\u001b[39m\u001b[38;5;241m.\u001b[39m_function_attributes,\n\u001b[0;32m   3077\u001b[0m     function_spec\u001b[38;5;241m=\u001b[39m\u001b[38;5;28mself\u001b[39m\u001b[38;5;241m.\u001b[39mfunction_spec,\n\u001b[0;32m   3078\u001b[0m     \u001b[38;5;66;03m# Tell the ConcreteFunction to clean up its graph once it goes out of\u001b[39;00m\n\u001b[0;32m   3079\u001b[0m     \u001b[38;5;66;03m# scope. This is not the default behavior since it gets used in some\u001b[39;00m\n\u001b[0;32m   3080\u001b[0m     \u001b[38;5;66;03m# places (like Keras) where the FuncGraph lives longer than the\u001b[39;00m\n\u001b[0;32m   3081\u001b[0m     \u001b[38;5;66;03m# ConcreteFunction.\u001b[39;00m\n\u001b[0;32m   3082\u001b[0m     shared_func_graph\u001b[38;5;241m=\u001b[39m\u001b[38;5;28;01mFalse\u001b[39;00m)\n\u001b[0;32m   3083\u001b[0m \u001b[38;5;28;01mreturn\u001b[39;00m graph_function\n",
      "File \u001b[1;32mJ:\\Vadim\\envs\\TensorFlowEd\\lib\\site-packages\\tensorflow\\python\\framework\\func_graph.py:986\u001b[0m, in \u001b[0;36mfunc_graph_from_py_func\u001b[1;34m(name, python_func, args, kwargs, signature, func_graph, autograph, autograph_options, add_control_dependencies, arg_names, op_return_value, collections, capture_by_value, override_flat_arg_shapes)\u001b[0m\n\u001b[0;32m    983\u001b[0m \u001b[38;5;28;01melse\u001b[39;00m:\n\u001b[0;32m    984\u001b[0m   _, original_func \u001b[38;5;241m=\u001b[39m tf_decorator\u001b[38;5;241m.\u001b[39munwrap(python_func)\n\u001b[1;32m--> 986\u001b[0m func_outputs \u001b[38;5;241m=\u001b[39m \u001b[43mpython_func\u001b[49m\u001b[43m(\u001b[49m\u001b[38;5;241;43m*\u001b[39;49m\u001b[43mfunc_args\u001b[49m\u001b[43m,\u001b[49m\u001b[43m \u001b[49m\u001b[38;5;241;43m*\u001b[39;49m\u001b[38;5;241;43m*\u001b[39;49m\u001b[43mfunc_kwargs\u001b[49m\u001b[43m)\u001b[49m\n\u001b[0;32m    988\u001b[0m \u001b[38;5;66;03m# invariant: `func_outputs` contains only Tensors, CompositeTensors,\u001b[39;00m\n\u001b[0;32m    989\u001b[0m \u001b[38;5;66;03m# TensorArrays and `None`s.\u001b[39;00m\n\u001b[0;32m    990\u001b[0m func_outputs \u001b[38;5;241m=\u001b[39m nest\u001b[38;5;241m.\u001b[39mmap_structure(convert, func_outputs,\n\u001b[0;32m    991\u001b[0m                                   expand_composites\u001b[38;5;241m=\u001b[39m\u001b[38;5;28;01mTrue\u001b[39;00m)\n",
      "File \u001b[1;32mJ:\\Vadim\\envs\\TensorFlowEd\\lib\\site-packages\\tensorflow\\python\\eager\\def_function.py:600\u001b[0m, in \u001b[0;36mFunction._defun_with_scope.<locals>.wrapped_fn\u001b[1;34m(*args, **kwds)\u001b[0m\n\u001b[0;32m    585\u001b[0m \u001b[38;5;66;03m# We register a variable creator with reduced priority. If an outer\u001b[39;00m\n\u001b[0;32m    586\u001b[0m \u001b[38;5;66;03m# variable creator is just modifying keyword arguments to the variable\u001b[39;00m\n\u001b[0;32m    587\u001b[0m \u001b[38;5;66;03m# constructor, this will work harmoniously. Since the `scope` registered\u001b[39;00m\n\u001b[1;32m   (...)\u001b[0m\n\u001b[0;32m    595\u001b[0m \u001b[38;5;66;03m# better than the alternative, tracing the initialization graph but giving\u001b[39;00m\n\u001b[0;32m    596\u001b[0m \u001b[38;5;66;03m# the user a variable type they didn't want.\u001b[39;00m\n\u001b[0;32m    597\u001b[0m \u001b[38;5;28;01mwith\u001b[39;00m ops\u001b[38;5;241m.\u001b[39mget_default_graph()\u001b[38;5;241m.\u001b[39m_variable_creator_scope(scope, priority\u001b[38;5;241m=\u001b[39m\u001b[38;5;241m50\u001b[39m):  \u001b[38;5;66;03m# pylint: disable=protected-access\u001b[39;00m\n\u001b[0;32m    598\u001b[0m   \u001b[38;5;66;03m# __wrapped__ allows AutoGraph to swap in a converted function. We give\u001b[39;00m\n\u001b[0;32m    599\u001b[0m   \u001b[38;5;66;03m# the function a weak reference to itself to avoid a reference cycle.\u001b[39;00m\n\u001b[1;32m--> 600\u001b[0m   \u001b[38;5;28;01mreturn\u001b[39;00m \u001b[43mweak_wrapped_fn\u001b[49m\u001b[43m(\u001b[49m\u001b[43m)\u001b[49m\u001b[38;5;241;43m.\u001b[39;49m\u001b[43m__wrapped__\u001b[49m\u001b[43m(\u001b[49m\u001b[38;5;241;43m*\u001b[39;49m\u001b[43margs\u001b[49m\u001b[43m,\u001b[49m\u001b[43m \u001b[49m\u001b[38;5;241;43m*\u001b[39;49m\u001b[38;5;241;43m*\u001b[39;49m\u001b[43mkwds\u001b[49m\u001b[43m)\u001b[49m\n",
      "File \u001b[1;32mJ:\\Vadim\\envs\\TensorFlowEd\\lib\\site-packages\\tensorflow\\python\\framework\\func_graph.py:973\u001b[0m, in \u001b[0;36mfunc_graph_from_py_func.<locals>.wrapper\u001b[1;34m(*args, **kwargs)\u001b[0m\n\u001b[0;32m    971\u001b[0m \u001b[38;5;28;01mexcept\u001b[39;00m \u001b[38;5;167;01mException\u001b[39;00m \u001b[38;5;28;01mas\u001b[39;00m e:  \u001b[38;5;66;03m# pylint:disable=broad-except\u001b[39;00m\n\u001b[0;32m    972\u001b[0m   \u001b[38;5;28;01mif\u001b[39;00m \u001b[38;5;28mhasattr\u001b[39m(e, \u001b[38;5;124m\"\u001b[39m\u001b[38;5;124mag_error_metadata\u001b[39m\u001b[38;5;124m\"\u001b[39m):\n\u001b[1;32m--> 973\u001b[0m     \u001b[38;5;28;01mraise\u001b[39;00m e\u001b[38;5;241m.\u001b[39mag_error_metadata\u001b[38;5;241m.\u001b[39mto_exception(e)\n\u001b[0;32m    974\u001b[0m   \u001b[38;5;28;01melse\u001b[39;00m:\n\u001b[0;32m    975\u001b[0m     \u001b[38;5;28;01mraise\u001b[39;00m\n",
      "\u001b[1;31mValueError\u001b[0m: in user code:\n\n    J:\\Vadim\\envs\\TensorFlowEd\\lib\\site-packages\\tensorflow\\python\\keras\\engine\\training.py:806 train_function  *\n        return step_function(self, iterator)\n    J:\\Vadim\\envs\\TensorFlowEd\\lib\\site-packages\\tensorflow\\python\\keras\\engine\\training.py:796 step_function  **\n        outputs = model.distribute_strategy.run(run_step, args=(data,))\n    J:\\Vadim\\envs\\TensorFlowEd\\lib\\site-packages\\tensorflow\\python\\distribute\\distribute_lib.py:1211 run\n        return self._extended.call_for_each_replica(fn, args=args, kwargs=kwargs)\n    J:\\Vadim\\envs\\TensorFlowEd\\lib\\site-packages\\tensorflow\\python\\distribute\\distribute_lib.py:2585 call_for_each_replica\n        return self._call_for_each_replica(fn, args, kwargs)\n    J:\\Vadim\\envs\\TensorFlowEd\\lib\\site-packages\\tensorflow\\python\\distribute\\distribute_lib.py:2945 _call_for_each_replica\n        return fn(*args, **kwargs)\n    J:\\Vadim\\envs\\TensorFlowEd\\lib\\site-packages\\tensorflow\\python\\keras\\engine\\training.py:789 run_step  **\n        outputs = model.train_step(data)\n    J:\\Vadim\\envs\\TensorFlowEd\\lib\\site-packages\\tensorflow\\python\\keras\\engine\\training.py:748 train_step\n        loss = self.compiled_loss(\n    J:\\Vadim\\envs\\TensorFlowEd\\lib\\site-packages\\tensorflow\\python\\keras\\engine\\compile_utils.py:204 __call__\n        loss_value = loss_obj(y_t, y_p, sample_weight=sw)\n    J:\\Vadim\\envs\\TensorFlowEd\\lib\\site-packages\\tensorflow\\python\\keras\\losses.py:149 __call__\n        losses = ag_call(y_true, y_pred)\n    J:\\Vadim\\envs\\TensorFlowEd\\lib\\site-packages\\tensorflow\\python\\keras\\losses.py:253 call  **\n        return ag_fn(y_true, y_pred, **self._fn_kwargs)\n    J:\\Vadim\\envs\\TensorFlowEd\\lib\\site-packages\\tensorflow\\python\\util\\dispatch.py:201 wrapper\n        return target(*args, **kwargs)\n    J:\\Vadim\\envs\\TensorFlowEd\\lib\\site-packages\\tensorflow\\python\\keras\\losses.py:1605 binary_crossentropy\n        K.binary_crossentropy(y_true, y_pred, from_logits=from_logits), axis=-1)\n    J:\\Vadim\\envs\\TensorFlowEd\\lib\\site-packages\\tensorflow\\python\\util\\dispatch.py:201 wrapper\n        return target(*args, **kwargs)\n    J:\\Vadim\\envs\\TensorFlowEd\\lib\\site-packages\\tensorflow\\python\\keras\\backend.py:4814 binary_crossentropy\n        return nn.sigmoid_cross_entropy_with_logits(labels=target, logits=output)\n    J:\\Vadim\\envs\\TensorFlowEd\\lib\\site-packages\\tensorflow\\python\\util\\dispatch.py:201 wrapper\n        return target(*args, **kwargs)\n    J:\\Vadim\\envs\\TensorFlowEd\\lib\\site-packages\\tensorflow\\python\\ops\\nn_impl.py:173 sigmoid_cross_entropy_with_logits\n        raise ValueError(\"logits and labels must have the same shape (%s vs %s)\" %\n\n    ValueError: logits and labels must have the same shape ((None, 47) vs (None, 1))\n"
     ]
    }
   ],
   "source": [
    "model.fit(train_data, validation_data=valid_data, epochs=5)"
   ]
  },
  {
   "cell_type": "code",
   "execution_count": 114,
   "id": "267a2b50",
   "metadata": {},
   "outputs": [],
   "source": [
    "model = models.Sequential()"
   ]
  },
  {
   "cell_type": "code",
   "execution_count": 116,
   "id": "6ba1673a",
   "metadata": {},
   "outputs": [],
   "source": [
    "model.add(vectorize_layer)\n",
    "model.add(layers.Dense(64, activation='relu', input_shape=(vocab_size,)))\n",
    "model.add(layers.Dense(64, activation='relu'))\n",
    "model.add(layers.Dense(1, activation = 'sigmoid'))"
   ]
  },
  {
   "cell_type": "code",
   "execution_count": 117,
   "id": "3da80069",
   "metadata": {},
   "outputs": [],
   "source": [
    "model.compile(optimizer='adam',loss='binary_crossentropy',metrics=['accuracy'])"
   ]
  },
  {
   "cell_type": "code",
   "execution_count": 118,
   "id": "1d45faf9",
   "metadata": {},
   "outputs": [
    {
     "name": "stdout",
     "output_type": "stream",
     "text": [
      "Epoch 1/20\n",
      "1339/1339 [==============================] - 3s 2ms/step - loss: 8.9148 - accuracy: 0.8682 - val_loss: 6.7869 - val_accuracy: 0.6323\n",
      "Epoch 2/20\n",
      "1339/1339 [==============================] - 2s 2ms/step - loss: 2.9386 - accuracy: 0.8766 - val_loss: 3.2272 - val_accuracy: 0.6548\n",
      "Epoch 3/20\n",
      "1339/1339 [==============================] - 2s 2ms/step - loss: 1.4809 - accuracy: 0.8817 - val_loss: 0.8525 - val_accuracy: 0.8688\n",
      "Epoch 4/20\n",
      "1339/1339 [==============================] - 2s 1ms/step - loss: 0.8689 - accuracy: 0.8914 - val_loss: 0.5432 - val_accuracy: 0.8907\n",
      "Epoch 5/20\n",
      "1339/1339 [==============================] - 2s 2ms/step - loss: 0.5770 - accuracy: 0.9017 - val_loss: 0.5611 - val_accuracy: 0.8438\n",
      "Epoch 6/20\n",
      "1339/1339 [==============================] - 2s 2ms/step - loss: 0.4008 - accuracy: 0.9113 - val_loss: 0.3628 - val_accuracy: 0.9067\n",
      "Epoch 7/20\n",
      "1339/1339 [==============================] - 2s 2ms/step - loss: 0.3211 - accuracy: 0.9200 - val_loss: 0.3176 - val_accuracy: 0.9143\n",
      "Epoch 8/20\n",
      "1339/1339 [==============================] - 2s 1ms/step - loss: 0.2900 - accuracy: 0.9263 - val_loss: 0.2890 - val_accuracy: 0.9285\n",
      "Epoch 9/20\n",
      "1339/1339 [==============================] - 2s 2ms/step - loss: 0.2694 - accuracy: 0.9274 - val_loss: 0.2900 - val_accuracy: 0.9275\n",
      "Epoch 10/20\n",
      "1339/1339 [==============================] - 2s 2ms/step - loss: 0.2686 - accuracy: 0.9280 - val_loss: 0.2777 - val_accuracy: 0.9279\n",
      "Epoch 11/20\n",
      "1339/1339 [==============================] - 2s 2ms/step - loss: 0.2609 - accuracy: 0.9286 - val_loss: 0.2578 - val_accuracy: 0.9291\n",
      "Epoch 12/20\n",
      "1339/1339 [==============================] - 2s 2ms/step - loss: 0.2539 - accuracy: 0.9293 - val_loss: 0.2794 - val_accuracy: 0.9290\n",
      "Epoch 13/20\n",
      "1339/1339 [==============================] - 2s 2ms/step - loss: 0.2578 - accuracy: 0.9293 - val_loss: 0.2635 - val_accuracy: 0.9292\n",
      "Epoch 14/20\n",
      "1339/1339 [==============================] - 2s 2ms/step - loss: 0.2546 - accuracy: 0.9297 - val_loss: 0.2613 - val_accuracy: 0.9293\n",
      "Epoch 15/20\n",
      "1339/1339 [==============================] - 2s 2ms/step - loss: 0.2525 - accuracy: 0.9295 - val_loss: 0.2636 - val_accuracy: 0.9296\n",
      "Epoch 16/20\n",
      "1339/1339 [==============================] - 2s 2ms/step - loss: 0.2519 - accuracy: 0.9292 - val_loss: 0.2647 - val_accuracy: 0.9297\n",
      "Epoch 17/20\n",
      "1339/1339 [==============================] - 2s 2ms/step - loss: 0.2463 - accuracy: 0.9299 - val_loss: 0.2555 - val_accuracy: 0.9296\n",
      "Epoch 18/20\n",
      "1339/1339 [==============================] - 2s 2ms/step - loss: 0.2462 - accuracy: 0.9296 - val_loss: 0.2548 - val_accuracy: 0.9297\n",
      "Epoch 19/20\n",
      "1339/1339 [==============================] - 2s 2ms/step - loss: 0.2435 - accuracy: 0.9297 - val_loss: 0.2596 - val_accuracy: 0.9295\n",
      "Epoch 20/20\n",
      "1339/1339 [==============================] - 2s 2ms/step - loss: 0.2458 - accuracy: 0.9298 - val_loss: 0.2525 - val_accuracy: 0.9296\n"
     ]
    }
   ],
   "source": [
    "history=model.fit(train_data, validation_data=valid_data, epochs=20, batch_size=16)"
   ]
  },
  {
   "cell_type": "code",
   "execution_count": 120,
   "id": "6def0e2c",
   "metadata": {},
   "outputs": [
    {
     "data": {
      "text/plain": [
       "dict_keys(['loss', 'accuracy', 'val_loss', 'val_accuracy'])"
      ]
     },
     "execution_count": 120,
     "metadata": {},
     "output_type": "execute_result"
    }
   ],
   "source": [
    "history_dict = history.history\n",
    "history_dict.keys()\n",
    "# dict_keys(['loss', 'accuracy', 'val_loss', 'val_accuracy'])"
   ]
  },
  {
   "cell_type": "code",
   "execution_count": 121,
   "id": "4f513cc6",
   "metadata": {},
   "outputs": [
    {
     "data": {
      "image/png": "[encoded data removed]",
      "text/plain": [
       "<Figure size 640x480 with 1 Axes>"
      ]
     },
     "metadata": {},
     "output_type": "display_data"
    },
    {
     "data": {
      "image/png": "[encoded data removed]",
      "text/plain": [
       "<Figure size 640x480 with 1 Axes>"
      ]
     },
     "metadata": {},
     "output_type": "display_data"
    }
   ],
   "source": [
    "# построение графика потери на этапах проверки и обучения\n",
    "loss_values = history_dict['loss']\n",
    "val_loss_values = history_dict['val_loss']\n",
    "epochs = range(1, len(history_dict['accuracy'])+1)\n",
    "\n",
    "# построение графика потери на этапах проверки и обучения\n",
    "loss_values = history_dict['loss']\n",
    "val_loss_values = history_dict['val_loss']\n",
    "epochs = range(1, len(history_dict['accuracy'])+1)\n",
    "\n",
    "plt.plot(epochs, loss_values, 'bo', label = 'Потери на этапе обучения')\n",
    "plt.plot(epochs, val_loss_values, 'b', label = 'Потери на этапе проверки')\n",
    "plt.title('Потери на этапах обучения и проверки')\n",
    "plt.xlabel('Эпохи')\n",
    "plt.ylabel('Потери')\n",
    "plt.legend()\n",
    "plt.show()\n",
    "\n",
    "# построение графика точности на этапах обучения и проверки\n",
    "acc_values = history_dict['accuracy']\n",
    "val_acc_values = history_dict['val_accuracy']\n",
    "plt.plot(epochs, acc_values, 'bo', label = 'Точность на этапе обучения')\n",
    "plt.plot(epochs, val_acc_values, 'b', label = 'Точность на этапе проверки')\n",
    "plt.title('Точность на этапах обучения и проверки')\n",
    "plt.xlabel('Эпохи')\n",
    "plt.ylabel('Точность')\n",
    "plt.legend()\n",
    "plt.show()"
   ]
  },
  {
   "cell_type": "code",
   "execution_count": null,
   "id": "c91fec7f",
   "metadata": {},
   "outputs": [],
   "source": []
  },
  {
   "cell_type": "code",
   "execution_count": null,
   "id": "613cd945",
   "metadata": {},
   "outputs": [],
   "source": []
  },
  {
   "cell_type": "code",
   "execution_count": null,
   "id": "dfd9067d",
   "metadata": {},
   "outputs": [],
   "source": []
  },
  {
   "cell_type": "code",
   "execution_count": 67,
   "id": "3cb5db88",
   "metadata": {},
   "outputs": [],
   "source": [
    "class myNet(tf.keras.Model):\n",
    "    def __init__(self):\n",
    "        super(myNet, self).__init__()\n",
    "        self.emb = Embedding(vocab_size, embedding_dim, name='embedding')\n",
    "        self.conv1 = Conv1D(200, (3))\n",
    "        self.conv2 = Conv1D(200, (3))\n",
    "        self.gPool = GlobalAveragePooling1D()\n",
    "        self.fc1 = Dense(100, activation='relu')\n",
    "        self.fc2 = Dense(1)\n",
    "        \n",
    "        \n",
    "    def call(self, x):\n",
    "        x = vectorize_layer(x)\n",
    "        x = self.emb(x)\n",
    "        x1 = self.conv1(x)\n",
    "        x = self.conv2(x)\n",
    "        x = self.gPool((x + x1)/2)\n",
    "        x = self.fc1(x)\n",
    "#         x = self.ss(x)\n",
    "        return self.fc2(x)"
   ]
  },
  {
   "cell_type": "code",
   "execution_count": 68,
   "id": "ba6dec40",
   "metadata": {},
   "outputs": [],
   "source": [
    "mmodel = myNet()"
   ]
  },
  {
   "cell_type": "code",
   "execution_count": 69,
   "id": "dd177d88",
   "metadata": {},
   "outputs": [],
   "source": [
    "mmodel.compile(optimizer='adam',\n",
    "              loss=tf.keras.losses.BinaryCrossentropy(from_logits=True),\n",
    "              metrics=['accuracy'])"
   ]
  },
  {
   "cell_type": "code",
   "execution_count": 70,
   "id": "c3b93914",
   "metadata": {},
   "outputs": [
    {
     "name": "stdout",
     "output_type": "stream",
     "text": [
      "Epoch 1/15\n",
      "1339/1339 [==============================] - 29s 22ms/step - loss: 0.1743 - accuracy: 0.9441 - val_loss: 0.1341 - val_accuracy: 0.9534\n",
      "Epoch 2/15\n",
      "1339/1339 [==============================] - 28s 21ms/step - loss: 0.0876 - accuracy: 0.9699 - val_loss: 0.1297 - val_accuracy: 0.9569\n",
      "Epoch 3/15\n",
      "1339/1339 [==============================] - 28s 21ms/step - loss: 0.0563 - accuracy: 0.9805 - val_loss: 0.1482 - val_accuracy: 0.9568\n",
      "Epoch 4/15\n",
      "1339/1339 [==============================] - 28s 21ms/step - loss: 0.0368 - accuracy: 0.9878 - val_loss: 0.1546 - val_accuracy: 0.9549\n",
      "Epoch 5/15\n",
      "1339/1339 [==============================] - 29s 21ms/step - loss: 0.0273 - accuracy: 0.9914 - val_loss: 0.1618 - val_accuracy: 0.9552\n",
      "Epoch 6/15\n",
      "1339/1339 [==============================] - 28s 21ms/step - loss: 0.0194 - accuracy: 0.9942 - val_loss: 0.1852 - val_accuracy: 0.9514\n",
      "Epoch 7/15\n",
      "1339/1339 [==============================] - 29s 21ms/step - loss: 0.0161 - accuracy: 0.9949 - val_loss: 0.2196 - val_accuracy: 0.9494\n",
      "Epoch 8/15\n",
      "1339/1339 [==============================] - 29s 21ms/step - loss: 0.0155 - accuracy: 0.9951 - val_loss: 0.2307 - val_accuracy: 0.9540\n",
      "Epoch 9/15\n",
      "1339/1339 [==============================] - 28s 21ms/step - loss: 0.0123 - accuracy: 0.9960 - val_loss: 0.2544 - val_accuracy: 0.9540\n",
      "Epoch 10/15\n",
      "1339/1339 [==============================] - 28s 21ms/step - loss: 0.0111 - accuracy: 0.9966 - val_loss: 0.2575 - val_accuracy: 0.9557\n",
      "Epoch 11/15\n",
      "1339/1339 [==============================] - 28s 21ms/step - loss: 0.0093 - accuracy: 0.9969 - val_loss: 0.2472 - val_accuracy: 0.9552\n",
      "Epoch 12/15\n",
      "1339/1339 [==============================] - 29s 22ms/step - loss: 0.0077 - accuracy: 0.9978 - val_loss: 0.2593 - val_accuracy: 0.9534\n",
      "Epoch 13/15\n",
      "1339/1339 [==============================] - 29s 22ms/step - loss: 0.0089 - accuracy: 0.9970 - val_loss: 0.2869 - val_accuracy: 0.9552\n",
      "Epoch 14/15\n",
      "1339/1339 [==============================] - 29s 21ms/step - loss: 0.0083 - accuracy: 0.9972 - val_loss: 0.3746 - val_accuracy: 0.9472\n",
      "Epoch 15/15\n",
      "1339/1339 [==============================] - 28s 21ms/step - loss: 0.0060 - accuracy: 0.9982 - val_loss: 0.4729 - val_accuracy: 0.9428\n"
     ]
    },
    {
     "data": {
      "text/plain": [
       "<tensorflow.python.keras.callbacks.History at 0x19e39e2cc40>"
      ]
     },
     "execution_count": 70,
     "metadata": {},
     "output_type": "execute_result"
    }
   ],
   "source": [
    "mmodel.fit(train_data, validation_data=valid_data, epochs=15)"
   ]
  },
  {
   "cell_type": "code",
   "execution_count": null,
   "id": "ad6d5d43",
   "metadata": {},
   "outputs": [],
   "source": []
  },
  {
   "cell_type": "code",
   "execution_count": null,
   "id": "5b12463f",
   "metadata": {},
   "outputs": [],
   "source": []
  },
  {
   "cell_type": "code",
   "execution_count": null,
   "id": "27139ffb",
   "metadata": {},
   "outputs": [],
   "source": []
  },
  {
   "cell_type": "markdown",
   "id": "203fcd93",
   "metadata": {},
   "source": [
    "---"
   ]
  },
  {
   "cell_type": "code",
   "execution_count": null,
   "id": "a3a37950",
   "metadata": {},
   "outputs": [],
   "source": []
  },
  {
   "cell_type": "code",
   "execution_count": null,
   "id": "3f89ae35",
   "metadata": {},
   "outputs": [],
   "source": []
  },
  {
   "cell_type": "code",
   "execution_count": null,
   "id": "93085dac",
   "metadata": {},
   "outputs": [],
   "source": []
  },
  {
   "cell_type": "code",
   "execution_count": null,
   "id": "f240a9d5",
   "metadata": {},
   "outputs": [],
   "source": []
  },
  {
   "cell_type": "code",
   "execution_count": null,
   "id": "4c2a53d3",
   "metadata": {},
   "outputs": [],
   "source": []
  },
  {
   "cell_type": "code",
   "execution_count": null,
   "id": "e51cafc3",
   "metadata": {},
   "outputs": [],
   "source": []
  },
  {
   "cell_type": "code",
   "execution_count": null,
   "id": "ef9a756d",
   "metadata": {},
   "outputs": [],
   "source": []
  },
  {
   "cell_type": "code",
   "execution_count": null,
   "id": "4b266079",
   "metadata": {},
   "outputs": [],
   "source": []
  },
  {
   "cell_type": "code",
   "execution_count": null,
   "id": "324ca4f2",
   "metadata": {},
   "outputs": [],
   "source": []
  },
  {
   "cell_type": "code",
   "execution_count": null,
   "id": "b180abe7",
   "metadata": {},
   "outputs": [],
   "source": []
  },
  {
   "cell_type": "code",
   "execution_count": null,
   "id": "58c38565",
   "metadata": {},
   "outputs": [],
   "source": []
  },
  {
   "cell_type": "code",
   "execution_count": null,
   "id": "7cd62e05",
   "metadata": {},
   "outputs": [],
   "source": []
  },
  {
   "cell_type": "code",
   "execution_count": null,
   "id": "30cfa7f4",
   "metadata": {},
   "outputs": [],
   "source": []
  },
  {
   "cell_type": "code",
   "execution_count": null,
   "id": "cf6e4be1",
   "metadata": {},
   "outputs": [],
   "source": []
  }
 ],
 "metadata": {
  "kernelspec": {
   "display_name": "Python 3 (ipykernel)",
   "language": "python",
   "name": "python3"
  },
  "language_info": {
   "codemirror_mode": {
    "name": "ipython",
    "version": 3
   },
   "file_extension": ".py",
   "mimetype": "text/x-python",
   "name": "python",
   "nbconvert_exporter": "python",
   "pygments_lexer": "ipython3",
   "version": "3.8.13"
  }
 },
 "nbformat": 4,
 "nbformat_minor": 5
}
