{
 "cells": [
  {
   "cell_type": "code",
   "execution_count": 1,
   "id": "81cbcd03",
   "metadata": {},
   "outputs": [],
   "source": [
    "import pandas as pd\n",
    "import numpy as np\n",
    "import re\n",
    "import os\n",
    "\n",
    "from gensim.models import LdaModel, CoherenceModel\n",
    "from gensim import corpora\n",
    "from gensim.test.utils import datapath\n",
    "from tqdm.notebook import tqdm\n",
    "from pymystem3 import Mystem\n",
    "import pymorphy2\n",
    "import nltk\n",
    "from nltk.corpus import stopwords\n",
    "\n",
    "import pickle\n",
    "import matplotlib.pyplot as plt\n",
    "%matplotlib inline\n",
    "\n",
    "import warnings \n",
    "warnings.filterwarnings(\"ignore\", category=DeprecationWarning)"
   ]
  },
  {
   "cell_type": "code",
   "execution_count": 2,
   "id": "2ce2d394",
   "metadata": {},
   "outputs": [
    {
     "name": "stderr",
     "output_type": "stream",
     "text": [
      "J:\\Vadim\\envs\\TensorFlowEd\\lib\\site-packages\\past\\builtins\\misc.py:45: DeprecationWarning: the imp module is deprecated in favour of importlib; see the module's documentation for alternative uses\n",
      "  from imp import reload\n"
     ]
    }
   ],
   "source": [
    "import pyLDAvis\n",
    "import pyLDAvis.gensim_models as gensimvis"
   ]
  },
  {
   "cell_type": "code",
   "execution_count": 3,
   "id": "bb248887",
   "metadata": {},
   "outputs": [],
   "source": [
    "f = open(r'C:/Users/Вадим/Desktop/GeekBrains/Introduction_to_NLP/HW_Lesson_2/combine_df.txt', 'rb')\n",
    "train_df = pickle.load(f)\n",
    "f.close()"
   ]
  },
  {
   "cell_type": "code",
   "execution_count": 4,
   "id": "0396d949",
   "metadata": {},
   "outputs": [
    {
     "data": {
      "text/html": [
       "<div>\n",
       "<style scoped>\n",
       "    .dataframe tbody tr th:only-of-type {\n",
       "        vertical-align: middle;\n",
       "    }\n",
       "\n",
       "    .dataframe tbody tr th {\n",
       "        vertical-align: top;\n",
       "    }\n",
       "\n",
       "    .dataframe thead th {\n",
       "        text-align: right;\n",
       "    }\n",
       "</style>\n",
       "<table border=\"1\" class=\"dataframe\">\n",
       "  <thead>\n",
       "    <tr style=\"text-align: right;\">\n",
       "      <th></th>\n",
       "      <th>id</th>\n",
       "      <th>label</th>\n",
       "      <th>tweet</th>\n",
       "    </tr>\n",
       "  </thead>\n",
       "  <tbody>\n",
       "    <tr>\n",
       "      <th>0</th>\n",
       "      <td>1</td>\n",
       "      <td>0.0</td>\n",
       "      <td>father dysfunctional selfish drag kid dysfunct...</td>\n",
       "    </tr>\n",
       "    <tr>\n",
       "      <th>1</th>\n",
       "      <td>2</td>\n",
       "      <td>0.0</td>\n",
       "      <td>thanks lyft credit use cause offer wheelchair ...</td>\n",
       "    </tr>\n",
       "    <tr>\n",
       "      <th>2</th>\n",
       "      <td>3</td>\n",
       "      <td>0.0</td>\n",
       "      <td>bihday majesty</td>\n",
       "    </tr>\n",
       "    <tr>\n",
       "      <th>3</th>\n",
       "      <td>4</td>\n",
       "      <td>0.0</td>\n",
       "      <td>model love yoyou take yoyou time yoyour</td>\n",
       "    </tr>\n",
       "    <tr>\n",
       "      <th>4</th>\n",
       "      <td>5</td>\n",
       "      <td>0.0</td>\n",
       "      <td>factsguide society motivation</td>\n",
       "    </tr>\n",
       "  </tbody>\n",
       "</table>\n",
       "</div>"
      ],
      "text/plain": [
       "   id  label                                              tweet\n",
       "0   1    0.0  father dysfunctional selfish drag kid dysfunct...\n",
       "1   2    0.0  thanks lyft credit use cause offer wheelchair ...\n",
       "2   3    0.0                                     bihday majesty\n",
       "3   4    0.0            model love yoyou take yoyou time yoyour\n",
       "4   5    0.0                      factsguide society motivation"
      ]
     },
     "execution_count": 4,
     "metadata": {},
     "output_type": "execute_result"
    }
   ],
   "source": [
    "train_df.drop(columns = ['tweet', 'tweet_token', 'tweet_token_filtered', 'tweet_stemmed'], axis = 1, inplace=True)\n",
    "train_df.rename(columns = {'tweet_lemmatized' : 'tweet'}, inplace = True)\n",
    "train_df.head()"
   ]
  },
  {
   "cell_type": "code",
   "execution_count": 5,
   "id": "43fc96a0",
   "metadata": {},
   "outputs": [],
   "source": [
    "bad_word = ['good', 'one', 'year', 'think', 'next', 'went', 'word', 'sign', 'blue', 'bring', 'wwim', 'end', 'en', 'por', 'mi', 'se', \n",
    "            'new', 'today', 'see', 'oh', 'hour', 'close', 'trying', 'living', 'place', 'could', 'would', 'made', 'okay', 'enough', 'del',\n",
    "            'something', 'talking', 'huge', 'tear', 'adapt', 'really', 'someone', 'come', 'day', 'say', 'much', 'really', 'su', 'el', \n",
    "            'last', 'back', 'coming', 'share', \"work\", \"th\", \"week\", \"medium\", \"follow\", \"hea\", \"followme\", 'minute', 'getting', 'e',\n",
    "            'reuters', \"half\", \"thank\", \"live\", \"never\", \"look\", \"little\", \"monday\", \"hard\", \"due\", \"cute\", \"loud\", \"always\", \"want\", \"go\", \n",
    "            \"whatever\", \"man\", \"wrong\", \"open\", \"cleveland\", \"yo\", \"hea\", \"reach\", \"complete\", \"u\", \"people\", \"friday\", \"via\", 'o', 'hhm',\n",
    "            \"around\", \"thing\", \"really\", \"even\", \"impoant\", \"simple\", \"count\", \"cool\", \"going\", \"fuhered\", \"shit\", \"someone\", 'boo',\n",
    "            \"thankful\", \"tonight\", \"rip\", \"away\", \"forever\", \"including\", \"early\", \"able\", \"evening\", \"sleep\", \"don't\", \"fuck\", 'vmas',\n",
    "            \"thanks\", \"amazing\", \"use\", \"grateful\", \"ready\", \"losing\", \"wanted\", \"great\", \"lovely\", \"agree\", \"retweet\", \"first\", \"absolutely\", \n",
    "            \"looking\", \"stomping\", \"miami\", \"back\", \"everyone\", \"please\", \"watching\", \"tampa\", \"yet\", \"many\", \"spend\", \"america\", 'askdemi',\n",
    "            \"butt\", \"try\", \"wait\", \"long\", \"every\", \"always\", \"smh\", \"еp\", \"watched\", \"awesome\", \"shall\", \"finally\", \"working\", \"well\", \n",
    "            \"deletetweets\", \"might\", \"tweet\", \"old\", \"oitnb\", \"sta\", \"thing\", \"first\", \"together\", \"watching\", 'also', 'gyouys', 'nothing',\n",
    "            \"tomorrow\", \"welcome\", \"first\", \"wait\", \"yes\", \"new\", \"back\", \"going\", \"wake\", \"last\", \"hopefully\", \"mad\", \"done\", \"listen\",\n",
    "            \"shall\", \"week\", \"gone\", \"morning\", \"water\", \"berlin\", \"rich\", \"shower\", \"newyork\", \"god\", \"work\", \"listening\", 'haha',\n",
    "            \"nice\", \"dear\", \"always\", \"easy\", \"positivity\", \"embrace\", \"aар\", \"sjw\", \"minion\", \"melbourne\", \"ashiq\", \"kejriwal\", 'taking',\n",
    "            \"faraz\", \"ghalib\", \"iqbal\", \"mohsin\", \"sirf\", \"wasi\", \"sukhbir\", \"average\", 'tf', 'tgif', 'get', 'take', 'st', 'got', 'may', 'los',\n",
    "            'used', 'pa', 'tbt', 'ever', 'bob', 'yoy', 'make', 'another', 'making', 'mean', 'everything', 'perfect', 'huh', 'empty', 'ok',\n",
    "            'almost', 'side', 'high', 'htt', 'remember', 'others', 'glad', 'third', 'put', 'na', 'still', 'set', 'let', 'fbi', 'ht', 'became',\n",
    "            'believe', 'cant', 'edc', 'staing', 'whole', 'line', 'dropped', 'perfect', 'enjoy', 'cancelled', 'ohio', 'wow', 'find', 'become',\n",
    "            'nmm', 'fff', 'things', 'sometimes', 'years', 'hashtag', 'shak', 'gonna', 'shakhq', 'shakirahq', 'shq', 'aqui', 'que',\n",
    "            'ya', 'anyone', 'as', 'le', 'si', 'yeah', 'hahaha', 'give', 'two', 'est', 'april', 'pm', 'month', 'anything', 'nyc', 'devonnebydemi',\n",
    "            'para', 'know', 'hmm', 'ru', 'ta', 'de', 'la', 'nyfw', 'gr', 'inc', 'ing', 'omg', 'soooo', 'hi', 'ft', 'time', 'big', 'tt', 'rt',\n",
    "            'cavs', 'silence', 'nz', 'without', 'wakeup', 'pre', 'gon', 'yay', 'better', 'thats', 'hey', 'aap', 'hbd', 'among'] \n",
    "# \\ '', '', '', '', '', '', '', '', '', '',"
   ]
  },
  {
   "cell_type": "code",
   "execution_count": 6,
   "id": "be9b2014",
   "metadata": {},
   "outputs": [],
   "source": [
    "def stop_bad_word(tweets, stopwords = bad_word):\n",
    "    return \" \".join([w for w in tweets if not w in stopwords])"
   ]
  },
  {
   "cell_type": "code",
   "execution_count": 7,
   "id": "1d0bfa6b",
   "metadata": {},
   "outputs": [
    {
     "data": {
      "text/plain": [
       "True"
      ]
     },
     "execution_count": 7,
     "metadata": {},
     "output_type": "execute_result"
    }
   ],
   "source": [
    "'taking' in bad_word"
   ]
  },
  {
   "cell_type": "code",
   "execution_count": 8,
   "id": "3983db39",
   "metadata": {
    "scrolled": true
   },
   "outputs": [
    {
     "data": {
      "text/html": [
       "<div>\n",
       "<style scoped>\n",
       "    .dataframe tbody tr th:only-of-type {\n",
       "        vertical-align: middle;\n",
       "    }\n",
       "\n",
       "    .dataframe tbody tr th {\n",
       "        vertical-align: top;\n",
       "    }\n",
       "\n",
       "    .dataframe thead th {\n",
       "        text-align: right;\n",
       "    }\n",
       "</style>\n",
       "<table border=\"1\" class=\"dataframe\">\n",
       "  <thead>\n",
       "    <tr style=\"text-align: right;\">\n",
       "      <th></th>\n",
       "      <th>tweet_lemmatized</th>\n",
       "    </tr>\n",
       "  </thead>\n",
       "  <tbody>\n",
       "    <tr>\n",
       "      <th>0</th>\n",
       "      <td>history repeating dontnormalizehate</td>\n",
       "    </tr>\n",
       "    <tr>\n",
       "      <th>1</th>\n",
       "      <td>thank incredible grace leadership exceptional</td>\n",
       "    </tr>\n",
       "    <tr>\n",
       "      <th>2</th>\n",
       "      <td>life goal</td>\n",
       "    </tr>\n",
       "    <tr>\n",
       "      <th>3</th>\n",
       "      <td>right</td>\n",
       "    </tr>\n",
       "    <tr>\n",
       "      <th>4</th>\n",
       "      <td>sister doin</td>\n",
       "    </tr>\n",
       "  </tbody>\n",
       "</table>\n",
       "</div>"
      ],
      "text/plain": [
       "                                tweet_lemmatized\n",
       "0            history repeating dontnormalizehate\n",
       "1  thank incredible grace leadership exceptional\n",
       "2                                      life goal\n",
       "3                                          right\n",
       "4                                    sister doin"
      ]
     },
     "execution_count": 8,
     "metadata": {},
     "output_type": "execute_result"
    }
   ],
   "source": [
    "f = open(r'df_dop_tweet.txt', 'rb')\n",
    "tweets = pickle.load(f)\n",
    "f.close()\n",
    "tweets.drop(columns = ['tweet', 'tweet_token', 'tweet_token_filtered', 'tweet_stemmed'], axis = 1, inplace=True)\n",
    "tweets.head()"
   ]
  },
  {
   "cell_type": "code",
   "execution_count": 9,
   "id": "a6eb4d71",
   "metadata": {},
   "outputs": [
    {
     "data": {
      "text/html": [
       "<div>\n",
       "<style scoped>\n",
       "    .dataframe tbody tr th:only-of-type {\n",
       "        vertical-align: middle;\n",
       "    }\n",
       "\n",
       "    .dataframe tbody tr th {\n",
       "        vertical-align: top;\n",
       "    }\n",
       "\n",
       "    .dataframe thead th {\n",
       "        text-align: right;\n",
       "    }\n",
       "</style>\n",
       "<table border=\"1\" class=\"dataframe\">\n",
       "  <thead>\n",
       "    <tr style=\"text-align: right;\">\n",
       "      <th></th>\n",
       "      <th>tweet</th>\n",
       "    </tr>\n",
       "  </thead>\n",
       "  <tbody>\n",
       "    <tr>\n",
       "      <th>0</th>\n",
       "      <td>history repeating dontnormalizehate</td>\n",
       "    </tr>\n",
       "    <tr>\n",
       "      <th>1</th>\n",
       "      <td>thank incredible grace leadership exceptional</td>\n",
       "    </tr>\n",
       "    <tr>\n",
       "      <th>2</th>\n",
       "      <td>life goal</td>\n",
       "    </tr>\n",
       "  </tbody>\n",
       "</table>\n",
       "</div>"
      ],
      "text/plain": [
       "                                           tweet\n",
       "0            history repeating dontnormalizehate\n",
       "1  thank incredible grace leadership exceptional\n",
       "2                                      life goal"
      ]
     },
     "execution_count": 9,
     "metadata": {},
     "output_type": "execute_result"
    }
   ],
   "source": [
    "# df_tweets = pd.DataFrame(tweets, columns=['content'])\n",
    "df_tweets = pd.DataFrame(tweets, columns=['tweet_lemmatized'])\n",
    "df_tweets.columns = ['tweet']\n",
    "df_tweets.head(3)"
   ]
  },
  {
   "cell_type": "code",
   "execution_count": 10,
   "id": "2a7b45ca",
   "metadata": {},
   "outputs": [
    {
     "data": {
      "text/html": [
       "<div>\n",
       "<style scoped>\n",
       "    .dataframe tbody tr th:only-of-type {\n",
       "        vertical-align: middle;\n",
       "    }\n",
       "\n",
       "    .dataframe tbody tr th {\n",
       "        vertical-align: top;\n",
       "    }\n",
       "\n",
       "    .dataframe thead th {\n",
       "        text-align: right;\n",
       "    }\n",
       "</style>\n",
       "<table border=\"1\" class=\"dataframe\">\n",
       "  <thead>\n",
       "    <tr style=\"text-align: right;\">\n",
       "      <th></th>\n",
       "      <th>id</th>\n",
       "      <th>label</th>\n",
       "      <th>tweet</th>\n",
       "    </tr>\n",
       "  </thead>\n",
       "  <tbody>\n",
       "    <tr>\n",
       "      <th>0</th>\n",
       "      <td>1.0</td>\n",
       "      <td>0.0</td>\n",
       "      <td>father dysfunctional selfish drag kid dysfunct...</td>\n",
       "    </tr>\n",
       "    <tr>\n",
       "      <th>1</th>\n",
       "      <td>2.0</td>\n",
       "      <td>0.0</td>\n",
       "      <td>thanks lyft credit use cause offer wheelchair ...</td>\n",
       "    </tr>\n",
       "    <tr>\n",
       "      <th>2</th>\n",
       "      <td>3.0</td>\n",
       "      <td>0.0</td>\n",
       "      <td>bihday majesty</td>\n",
       "    </tr>\n",
       "    <tr>\n",
       "      <th>3</th>\n",
       "      <td>4.0</td>\n",
       "      <td>0.0</td>\n",
       "      <td>model love yoyou take yoyou time yoyour</td>\n",
       "    </tr>\n",
       "    <tr>\n",
       "      <th>4</th>\n",
       "      <td>5.0</td>\n",
       "      <td>0.0</td>\n",
       "      <td>factsguide society motivation</td>\n",
       "    </tr>\n",
       "  </tbody>\n",
       "</table>\n",
       "</div>"
      ],
      "text/plain": [
       "    id  label                                              tweet\n",
       "0  1.0    0.0  father dysfunctional selfish drag kid dysfunct...\n",
       "1  2.0    0.0  thanks lyft credit use cause offer wheelchair ...\n",
       "2  3.0    0.0                                     bihday majesty\n",
       "3  4.0    0.0            model love yoyou take yoyou time yoyour\n",
       "4  5.0    0.0                      factsguide society motivation"
      ]
     },
     "execution_count": 10,
     "metadata": {},
     "output_type": "execute_result"
    }
   ],
   "source": [
    "train_df = pd.concat([train_df, df_tweets], sort=False, axis=0)\n",
    "train_df.head()"
   ]
  },
  {
   "cell_type": "code",
   "execution_count": 11,
   "id": "33683821",
   "metadata": {},
   "outputs": [],
   "source": [
    "train_df['tweet_list'] = train_df['tweet'].apply(lambda x: stop_bad_word(list(x.split())))"
   ]
  },
  {
   "cell_type": "code",
   "execution_count": 12,
   "id": "b0f44f1b",
   "metadata": {},
   "outputs": [
    {
     "data": {
      "text/plain": [
       "(101701, 4)"
      ]
     },
     "execution_count": 12,
     "metadata": {},
     "output_type": "execute_result"
    }
   ],
   "source": [
    "train_df.shape"
   ]
  },
  {
   "cell_type": "code",
   "execution_count": 14,
   "id": "5ebae151",
   "metadata": {},
   "outputs": [
    {
     "data": {
      "text/html": [
       "<div>\n",
       "<style scoped>\n",
       "    .dataframe tbody tr th:only-of-type {\n",
       "        vertical-align: middle;\n",
       "    }\n",
       "\n",
       "    .dataframe tbody tr th {\n",
       "        vertical-align: top;\n",
       "    }\n",
       "\n",
       "    .dataframe thead th {\n",
       "        text-align: right;\n",
       "    }\n",
       "</style>\n",
       "<table border=\"1\" class=\"dataframe\">\n",
       "  <thead>\n",
       "    <tr style=\"text-align: right;\">\n",
       "      <th></th>\n",
       "      <th>id</th>\n",
       "      <th>label</th>\n",
       "      <th>tweet</th>\n",
       "      <th>tweet_list</th>\n",
       "    </tr>\n",
       "  </thead>\n",
       "  <tbody>\n",
       "    <tr>\n",
       "      <th>0</th>\n",
       "      <td>1.0</td>\n",
       "      <td>0.0</td>\n",
       "      <td>father dysfunctional selfish drag kid dysfunct...</td>\n",
       "      <td>father dysfunctional selfish drag kid dysfunct...</td>\n",
       "    </tr>\n",
       "    <tr>\n",
       "      <th>1</th>\n",
       "      <td>2.0</td>\n",
       "      <td>0.0</td>\n",
       "      <td>thanks lyft credit use cause offer wheelchair ...</td>\n",
       "      <td>lyft credit cause offer wheelchair van pdx dis...</td>\n",
       "    </tr>\n",
       "    <tr>\n",
       "      <th>2</th>\n",
       "      <td>3.0</td>\n",
       "      <td>0.0</td>\n",
       "      <td>bihday majesty</td>\n",
       "      <td>bihday majesty</td>\n",
       "    </tr>\n",
       "    <tr>\n",
       "      <th>3</th>\n",
       "      <td>4.0</td>\n",
       "      <td>0.0</td>\n",
       "      <td>model love yoyou take yoyou time yoyour</td>\n",
       "      <td>model love yoyou yoyou yoyour</td>\n",
       "    </tr>\n",
       "    <tr>\n",
       "      <th>4</th>\n",
       "      <td>5.0</td>\n",
       "      <td>0.0</td>\n",
       "      <td>factsguide society motivation</td>\n",
       "      <td>factsguide society motivation</td>\n",
       "    </tr>\n",
       "  </tbody>\n",
       "</table>\n",
       "</div>"
      ],
      "text/plain": [
       "    id  label                                              tweet  \\\n",
       "0  1.0    0.0  father dysfunctional selfish drag kid dysfunct...   \n",
       "1  2.0    0.0  thanks lyft credit use cause offer wheelchair ...   \n",
       "2  3.0    0.0                                     bihday majesty   \n",
       "3  4.0    0.0            model love yoyou take yoyou time yoyour   \n",
       "4  5.0    0.0                      factsguide society motivation   \n",
       "\n",
       "                                          tweet_list  \n",
       "0  father dysfunctional selfish drag kid dysfunct...  \n",
       "1  lyft credit cause offer wheelchair van pdx dis...  \n",
       "2                                     bihday majesty  \n",
       "3                      model love yoyou yoyou yoyour  \n",
       "4                      factsguide society motivation  "
      ]
     },
     "execution_count": 14,
     "metadata": {},
     "output_type": "execute_result"
    }
   ],
   "source": [
    "train_df.set_index(np.arange(0,len(train_df)))\n",
    "train_df = train_df.loc[~(train_df['tweet_list'] == '')]\n",
    "train_df.head()"
   ]
  },
  {
   "cell_type": "code",
   "execution_count": 15,
   "id": "79041086",
   "metadata": {},
   "outputs": [
    {
     "data": {
      "text/plain": [
       "98773"
      ]
     },
     "execution_count": 15,
     "metadata": {},
     "output_type": "execute_result"
    }
   ],
   "source": [
    "len(train_df)"
   ]
  },
  {
   "cell_type": "code",
   "execution_count": 16,
   "id": "bb2811c8",
   "metadata": {},
   "outputs": [
    {
     "data": {
      "text/html": [
       "<div>\n",
       "<style scoped>\n",
       "    .dataframe tbody tr th:only-of-type {\n",
       "        vertical-align: middle;\n",
       "    }\n",
       "\n",
       "    .dataframe tbody tr th {\n",
       "        vertical-align: top;\n",
       "    }\n",
       "\n",
       "    .dataframe thead th {\n",
       "        text-align: right;\n",
       "    }\n",
       "</style>\n",
       "<table border=\"1\" class=\"dataframe\">\n",
       "  <thead>\n",
       "    <tr style=\"text-align: right;\">\n",
       "      <th></th>\n",
       "      <th>id</th>\n",
       "      <th>label</th>\n",
       "      <th>tweet</th>\n",
       "      <th>tweet_list</th>\n",
       "    </tr>\n",
       "  </thead>\n",
       "  <tbody>\n",
       "    <tr>\n",
       "      <th>0</th>\n",
       "      <td>1.0</td>\n",
       "      <td>0.0</td>\n",
       "      <td>father dysfunctional selfish drag kid dysfunct...</td>\n",
       "      <td>[father, dysfunctional, selfish, drag, kid, dy...</td>\n",
       "    </tr>\n",
       "    <tr>\n",
       "      <th>1</th>\n",
       "      <td>2.0</td>\n",
       "      <td>0.0</td>\n",
       "      <td>thanks lyft credit use cause offer wheelchair ...</td>\n",
       "      <td>[lyft, credit, cause, offer, wheelchair, van, ...</td>\n",
       "    </tr>\n",
       "    <tr>\n",
       "      <th>2</th>\n",
       "      <td>3.0</td>\n",
       "      <td>0.0</td>\n",
       "      <td>bihday majesty</td>\n",
       "      <td>[bihday, majesty]</td>\n",
       "    </tr>\n",
       "  </tbody>\n",
       "</table>\n",
       "</div>"
      ],
      "text/plain": [
       "    id  label                                              tweet  \\\n",
       "0  1.0    0.0  father dysfunctional selfish drag kid dysfunct...   \n",
       "1  2.0    0.0  thanks lyft credit use cause offer wheelchair ...   \n",
       "2  3.0    0.0                                     bihday majesty   \n",
       "\n",
       "                                          tweet_list  \n",
       "0  [father, dysfunctional, selfish, drag, kid, dy...  \n",
       "1  [lyft, credit, cause, offer, wheelchair, van, ...  \n",
       "2                                  [bihday, majesty]  "
      ]
     },
     "execution_count": 16,
     "metadata": {},
     "output_type": "execute_result"
    }
   ],
   "source": [
    "train_df['tweet_list'] = train_df['tweet_list'].apply(lambda x: list(x.split()))\n",
    "train_df.head(3)"
   ]
  },
  {
   "cell_type": "markdown",
   "id": "502603da",
   "metadata": {},
   "source": [
    "## Модель LDA\n",
    "\n",
    "\n",
    "Первая модель, которую мы рассмотрим, LDA - латентное размещение Дирихле. Воспользуемся реализацией из библиотеки gensim.\n",
    "\n",
    "Модель использует векторное представление документов, например, мешок слов (bow), поэтому сперва создадим словарь:"
   ]
  },
  {
   "cell_type": "code",
   "execution_count": 20,
   "id": "27c44565",
   "metadata": {},
   "outputs": [],
   "source": [
    "import warnings \n",
    "warnings.filterwarnings(\"ignore\", category=DeprecationWarning)"
   ]
  },
  {
   "cell_type": "code",
   "execution_count": 21,
   "id": "1c67ba4c",
   "metadata": {},
   "outputs": [],
   "source": [
    "morph = pymorphy2.MorphAnalyzer()"
   ]
  },
  {
   "cell_type": "code",
   "execution_count": 22,
   "id": "33ca9d27",
   "metadata": {},
   "outputs": [],
   "source": [
    "dictionary = corpora.Dictionary(train_df['tweet_list'])\n",
    "\n",
    "# игнорируем слова, которые встречаются реже 10 раз или составляют более 0.9 словаря \n",
    "dictionary.filter_extremes(no_below = 10, no_above = 0.9, keep_n=None) \n",
    "dictionary.save('tweet.dict')"
   ]
  },
  {
   "cell_type": "markdown",
   "id": "28201987",
   "metadata": {},
   "source": [
    "Векторизуем tweets:"
   ]
  },
  {
   "cell_type": "code",
   "execution_count": 23,
   "id": "e2ba208e",
   "metadata": {},
   "outputs": [],
   "source": [
    "corpus = [dictionary.doc2bow(text) for text in train_df['tweet_list']]\n",
    "corpora.MmCorpus.serialize('tweet.model', corpus) "
   ]
  },
  {
   "cell_type": "markdown",
   "id": "652e69be",
   "metadata": {},
   "source": [
    "Обучим модель:"
   ]
  },
  {
   "cell_type": "code",
   "execution_count": 24,
   "id": "65fc39aa",
   "metadata": {},
   "outputs": [
    {
     "name": "stdout",
     "output_type": "stream",
     "text": [
      "CPU times: total: 0 ns\n",
      "Wall time: 0 ns\n"
     ]
    }
   ],
   "source": [
    "%time \n",
    "lda = LdaModel(corpus, id2word=dictionary, num_topics=12, chunksize=50, update_every=1, passes=10)"
   ]
  },
  {
   "cell_type": "code",
   "execution_count": 25,
   "id": "8592387a",
   "metadata": {},
   "outputs": [],
   "source": [
    "# Сохраняем модель на диск\n",
    "temp_file = datapath(\"C:/Users/Вадим/Desktop/GeekBrains/Introduction_to_NLP/Lectures/Lesson_4/model_lda.lda\")\n",
    "lda.save(temp_file)"
   ]
  },
  {
   "cell_type": "markdown",
   "id": "e2998858",
   "metadata": {},
   "source": [
    "Посмотрим на получившиеся темы:"
   ]
  },
  {
   "cell_type": "code",
   "execution_count": 26,
   "id": "c2722450",
   "metadata": {
    "scrolled": false
   },
   "outputs": [
    {
     "data": {
      "text/plain": [
       "[(1,\n",
       "  '0.065*\"friend\" + 0.054*\"miss\" + 0.045*\"meet\" + 0.036*\"change\" + 0.036*\"soon\" + 0.032*\"weeklyfluff\" + 0.028*\"picture\" + 0.027*\"performance\" + 0.027*\"track\" + 0.024*\"stop\"'),\n",
       " (11,\n",
       "  '0.106*\"song\" + 0.043*\"support\" + 0.039*\"fan\" + 0.032*\"game\" + 0.031*\"hondacivictour\" + 0.028*\"playing\" + 0.026*\"behind\" + 0.025*\"studio\" + 0.022*\"lot\" + 0.020*\"futurenow\"'),\n",
       " (0,\n",
       "  '0.078*\"video\" + 0.042*\"album\" + 0.038*\"shakira\" + 0.034*\"check\" + 0.026*\"post\" + 0.017*\"stage\" + 0.016*\"scene\" + 0.015*\"mind\" + 0.013*\"shoot\" + 0.013*\"free\"'),\n",
       " (9,\n",
       "  '0.097*\"show\" + 0.076*\"project\" + 0.056*\"night\" + 0.042*\"submission\" + 0.034*\"music\" + 0.029*\"hope\" + 0.029*\"participate\" + 0.028*\"congrats\" + 0.025*\"tune\" + 0.020*\"family\"'),\n",
       " (2,\n",
       "  '0.242*\"love\" + 0.032*\"fun\" + 0.024*\"artist\" + 0.023*\"moment\" + 0.023*\"order\" + 0.019*\"un\" + 0.018*\"play\" + 0.015*\"gracias\" + 0.012*\"second\" + 0.012*\"exclusive\"'),\n",
       " (4,\n",
       "  '0.098*\"guy\" + 0.071*\"like\" + 0.063*\"coolforthesummer\" + 0.058*\"watch\" + 0.045*\"way\" + 0.039*\"proud\" + 0.030*\"need\" + 0.023*\"twitter\" + 0.023*\"photographer\" + 0.023*\"help\"'),\n",
       " (10,\n",
       "  '0.062*\"woman\" + 0.051*\"fucking\" + 0.035*\"con\" + 0.034*\"featured\" + 0.032*\"hear\" + 0.030*\"available\" + 0.022*\"thought\" + 0.019*\"food\" + 0.018*\"phone\" + 0.018*\"actually\"'),\n",
       " (7,\n",
       "  '0.046*\"photo\" + 0.037*\"heart\" + 0.028*\"wan\" + 0.026*\"celebrating\" + 0.023*\"special\" + 0.023*\"makeup\" + 0.022*\"party\" + 0.022*\"loved\" + 0.021*\"performing\" + 0.018*\"hint\"'),\n",
       " (3,\n",
       "  '0.111*\"confident\" + 0.054*\"weekend\" + 0.051*\"world\" + 0.035*\"right\" + 0.032*\"favorite\" + 0.023*\"send\" + 0.020*\"feel\" + 0.018*\"buddy\" + 0.017*\"sweet\" + 0.016*\"explore\"'),\n",
       " (5,\n",
       "  '0.083*\"instagram\" + 0.080*\"life\" + 0.051*\"best\" + 0.051*\"girl\" + 0.033*\"real\" + 0.032*\"baby\" + 0.028*\"face\" + 0.021*\"already\" + 0.020*\"dream\" + 0.019*\"pic\"')]"
      ]
     },
     "execution_count": 26,
     "metadata": {},
     "output_type": "execute_result"
    }
   ],
   "source": [
    "lda.show_topics(num_topics=10, num_words=10, formatted=True)"
   ]
  },
  {
   "cell_type": "markdown",
   "id": "8cde3e59",
   "metadata": {},
   "source": [
    "На полученные темы посмотрим, изобразив их на плоскости с помощью библиотеки pyLDAvis. Чтобы спроецировать темы на плоскость, внутри применяется PCA-разложение."
   ]
  },
  {
   "cell_type": "code",
   "execution_count": 27,
   "id": "c24dd393",
   "metadata": {},
   "outputs": [],
   "source": [
    "pyLDAvis.enable_notebook()"
   ]
  },
  {
   "cell_type": "code",
   "execution_count": 28,
   "id": "1aadd5c1",
   "metadata": {
    "scrolled": false
   },
   "outputs": [
    {
     "name": "stdout",
     "output_type": "stream",
     "text": [
      "CPU times: total: 0 ns\n",
      "Wall time: 0 ns\n"
     ]
    },
    {
     "name": "stderr",
     "output_type": "stream",
     "text": [
      "J:\\Vadim\\envs\\TensorFlowEd\\lib\\site-packages\\pyLDAvis\\_prepare.py:246: FutureWarning: In a future version of pandas all arguments of DataFrame.drop except for the argument 'labels' will be keyword-only.\n",
      "  default_term_info = default_term_info.sort_values(\n"
     ]
    },
    {
     "data": {
      "text/html": [
       "\n",
       "<link rel=\"stylesheet\" type=\"text/css\" href=\"https://cdn.jsdelivr.net/gh/bmabey/pyLDAvis@3.3.1/pyLDAvis/js/ldavis.v1.0.0.css\">\n",
       "\n",
       "\n",
       "<div id=\"ldavis_el1090420780604106888043975759\"></div>\n",
       "<script type=\"text/javascript\">\n",
       "\n",
       "var ldavis_el1090420780604106888043975759_data = {\"mdsDat\": {\"x\": [-0.22313121790139795, 0.05099227188309716, 0.4672483572976825, -0.43541844861272533, 0.1684566224954789, -0.11289919765982977, -0.3301409080819525, -0.06727008311873933, -0.4267894619138527, 0.16699351665173534, 0.37095797242824213, 0.3710005765322616], \"y\": [0.3933885401765257, 0.4747886315859524, -0.012282348446686953, -0.09210312718962424, 0.15818413754591212, -0.008528174195341302, -0.348107695228995, -0.43963085381781464, 0.2004702994691847, -0.3786438788129432, -0.2653963904518425, 0.31786085936567293], \"topics\": [1, 2, 3, 4, 5, 6, 7, 8, 9, 10, 11, 12], \"cluster\": [1, 1, 1, 1, 1, 1, 1, 1, 1, 1, 1, 1], \"Freq\": [12.809452082214548, 9.334352379149799, 9.293178875719347, 9.164621469858997, 9.127683674557908, 8.591060945693101, 8.33496920990029, 7.105088923128017, 6.739285774876561, 6.716770432331123, 6.465681142815395, 6.317855089754912]}, \"tinfo\": {\"Term\": [\"love\", \"confident\", \"happy\", \"guy\", \"show\", \"song\", \"instagram\", \"excited\", \"life\", \"video\", \"project\", \"like\", \"weekend\", \"world\", \"coolforthesummer\", \"watch\", \"friend\", \"night\", \"woman\", \"best\", \"girl\", \"incredible\", \"story\", \"way\", \"miss\", \"fucking\", \"right\", \"album\", \"proud\", \"submission\", \"confident\", \"weekend\", \"world\", \"right\", \"favorite\", \"send\", \"feel\", \"buddy\", \"sweet\", \"explore\", \"literally\", \"yesterday\", \"keep\", \"ago\", \"mom\", \"boy\", \"ask\", \"fight\", \"sound\", \"voice\", \"forget\", \"honor\", \"red\", \"home\", \"part\", \"country\", \"ton\", \"community\", \"idea\", \"killed\", \"instagram\", \"life\", \"best\", \"girl\", \"real\", \"baby\", \"face\", \"already\", \"dream\", \"pic\", \"join\", \"pretty\", \"win\", \"start\", \"skin\", \"beauty\", \"using\", \"tired\", \"though\", \"hate\", \"person\", \"school\", \"glam\", \"kid\", \"christmas\", \"product\", \"seen\", \"fallontonight\", \"wear\", \"blessed\", \"guy\", \"like\", \"watch\", \"way\", \"proud\", \"need\", \"twitter\", \"photographer\", \"help\", \"body\", \"talented\", \"light\", \"dog\", \"theweekoninstagram\", \"kind\", \"child\", \"selfie\", \"bitch\", \"giving\", \"cover\", \"case\", \"power\", \"capturing\", \"experience\", \"boomerangoftheweek\", \"care\", \"found\", \"street\", \"called\", \"learn\", \"coolforthesummer\", \"video\", \"album\", \"check\", \"post\", \"stage\", \"scene\", \"mind\", \"shoot\", \"free\", \"worldwide\", \"shakira\", \"singing\", \"aqu\", \"download\", \"nuevo\", \"itunes\", \"box\", \"crazy\", \"fresh\", \"full\", \"million\", \"deo\", \"kick\", \"wrote\", \"heard\", \"selfies\", \"possible\", \"recorded\", \"et\", \"ni\", \"love\", \"fun\", \"artist\", \"moment\", \"order\", \"un\", \"play\", \"gracias\", \"second\", \"exclusive\", \"hoy\", \"health\", \"success\", \"app\", \"true\", \"super\", \"coffee\", \"movie\", \"una\", \"bae\", \"grammys\", \"rock\", \"magic\", \"room\", \"inside\", \"since\", \"gym\", \"eat\", \"concert\", \"mexico\", \"demiworldtour\", \"happy\", \"incredible\", \"story\", \"beautiful\", \"birthday\", \"art\", \"single\", \"celebrate\", \"brazil\", \"wish\", \"sing\", \"gift\", \"stay\", \"strong\", \"york\", \"edition\", \"father\", \"exciting\", \"halloween\", \"park\", \"pant\", \"launch\", \"inspiration\", \"streaming\", \"yall\", \"bos\", \"te\", \"dad\", \"easter\", \"result\", \"show\", \"project\", \"night\", \"music\", \"hope\", \"congrats\", \"tune\", \"family\", \"tell\", \"cold\", \"view\", \"feeling\", \"yoyou\", \"short\", \"action\", \"walk\", \"past\", \"ddlovato\", \"lost\", \"saw\", \"far\", \"late\", \"said\", \"inspired\", \"australia\", \"personal\", \"message\", \"shot\", \"starting\", \"helped\", \"submission\", \"participate\", \"woman\", \"fucking\", \"con\", \"featured\", \"hear\", \"available\", \"thought\", \"food\", \"phone\", \"actually\", \"playlist\", \"beat\", \"top\", \"sunday\", \"finding\", \"gorgeous\", \"babe\", \"sleepy\", \"lo\", \"train\", \"este\", \"sweat\", \"papa\", \"fav\", \"crime\", \"al\", \"cat\", \"nov\", \"hold\", \"bc\", \"song\", \"support\", \"fan\", \"game\", \"playing\", \"behind\", \"studio\", \"lot\", \"city\", \"head\", \"totally\", \"talk\", \"obsessed\", \"speak\", \"young\", \"stuff\", \"futurenow\", \"loving\", \"helping\", \"road\", \"showing\", \"team\", \"fact\", \"couple\", \"golden\", \"holy\", \"stream\", \"wave\", \"kiss\", \"globe\", \"hondacivictour\", \"bevocalspeakup\", \"friend\", \"miss\", \"meet\", \"change\", \"soon\", \"weeklyfluff\", \"picture\", \"performance\", \"track\", \"stop\", \"event\", \"instameet\", \"color\", \"award\", \"beach\", \"chance\", \"hang\", \"visit\", \"bye\", \"definitely\", \"saturday\", \"understand\", \"enter\", \"batman\", \"biggest\", \"round\", \"oct\", \"preview\", \"chat\", \"national\", \"coolforthesummer\", \"photo\", \"heart\", \"wan\", \"celebrating\", \"special\", \"makeup\", \"party\", \"loved\", \"performing\", \"hint\", \"future\", \"ad\", \"mental\", \"honest\", \"stand\", \"colombia\", \"sick\", \"kicking\", \"surprise\", \"interview\", \"trip\", \"happen\", \"guess\", \"holiday\", \"business\", \"bad\", \"season\", \"human\", \"job\", \"london\", \"excited\", \"workout\", \"tour\", \"sale\", \"seeing\", \"question\", \"futurenowtour\", \"summer\", \"cause\", \"ticket\", \"perform\", \"star\", \"lovatics\", \"news\", \"paris\", \"vote\", \"stone\", \"seriously\", \"eye\", \"fall\", \"missed\", \"teamshakira\", \"tix\", \"officially\", \"sorry\", \"periscope\", \"pst\", \"honored\", \"worth\", \"deserves\", \"ufc\", \"embarrassing\"], \"Freq\": [9750.0, 6301.0, 4210.0, 4012.0, 3591.0, 3157.0, 3428.0, 2908.0, 3298.0, 3170.0, 2818.0, 2899.0, 3069.0, 2879.0, 3081.0, 2375.0, 1918.0, 2080.0, 1944.0, 2110.0, 2088.0, 2006.0, 1841.0, 1864.0, 1596.0, 1591.0, 1999.0, 1705.0, 1606.0, 1554.0, 6299.97366868021, 3068.4124142290852, 2877.9090626454363, 1998.3956249175994, 1785.0961438429729, 1302.4823428243012, 1124.2432392745245, 1023.3875369627192, 986.2120263604635, 933.4011161270514, 821.6140963130955, 766.4913945796775, 718.853740297858, 639.7369702003872, 595.8467983063102, 545.1041248687347, 542.8801122354686, 524.9185726357045, 519.5353120756436, 506.3521817823109, 506.2553823709721, 502.4907556733194, 477.54805307814655, 472.1199535537051, 467.16978463783556, 448.8087034895811, 439.42636119988083, 415.07511092074634, 399.0170644865131, 395.4435572805664, 3426.8261252452403, 3297.4467133534677, 2108.8345640510884, 2086.878824466733, 1347.4426049439178, 1308.0657340536743, 1136.4084920947669, 866.7100853679581, 812.9861788622819, 768.2527625414734, 756.6217098810675, 712.2165763812731, 655.0712248208923, 601.9601769821281, 571.4118459810926, 527.1522101952957, 507.97269000396835, 505.1824013471829, 502.0722099226599, 468.44567008575285, 450.97437378203955, 380.9730979208792, 367.11729487801557, 365.40395838909075, 361.9421891330695, 356.2354497330153, 353.56974709764745, 340.9895573021528, 313.4254670625194, 287.57507849761873, 4011.1613170598703, 2898.5395004985435, 2374.2244156623706, 1863.6379222987825, 1605.0387456755723, 1249.0348451522843, 956.3888229107464, 946.6388133747893, 924.8301314126202, 749.2224181116276, 699.3920551996601, 587.0109122038834, 574.7864495840407, 906.3115351766863, 501.5962407352853, 459.58132399412216, 444.89499946622595, 433.33277911567853, 416.8000294534539, 411.7788675410902, 408.1005602718746, 359.74952657149646, 345.43810526077647, 315.99940037067967, 320.75124889602114, 308.5597567867539, 306.48579111774586, 300.6314684216006, 280.4958245964736, 278.6028235928818, 2602.6234465615785, 3168.8848868173027, 1704.5554754524353, 1390.847066126227, 1058.5253918243375, 704.7762858199864, 660.3044956017385, 598.6859668348052, 527.192869566612, 507.9304108531035, 454.63776063696184, 1560.2011469124307, 432.40658323129867, 422.39954161686086, 400.11960202822735, 390.5676489604276, 387.82636131670887, 374.0293431916685, 367.1478367324209, 366.9487873880048, 366.1673469867657, 360.80796037209535, 362.65280887501575, 351.45815146218195, 345.1910787016628, 339.8696979060722, 331.90398770828824, 325.7030005378473, 298.5610146333759, 295.90022988151145, 293.6459602014531, 9748.78793568971, 1280.039975972428, 962.1204474504913, 944.2678354889767, 923.7751618170317, 749.8655603968465, 731.5365389738462, 588.3985381675519, 493.89403454586204, 470.2245585369633, 461.6133654263051, 451.316019624005, 415.59827839383735, 393.99370698867864, 379.5286617518843, 378.9941013169947, 369.8403036161087, 363.3950181250508, 329.67722682374176, 322.0117482184901, 314.7679299520594, 303.81539897430577, 293.63696758982246, 289.30253987961254, 289.00520684818184, 282.9019295222911, 270.3360755303161, 263.0444809954975, 261.8054555363295, 260.9017473093836, 432.498184200913, 4209.004071976698, 2005.1677292467828, 1839.826272546521, 1374.243640732209, 1207.2464188444521, 1031.5895450260946, 995.021687823477, 860.3982840702513, 761.6776010768034, 759.1858159880151, 667.7270785256549, 558.1626194972298, 552.6764113705347, 544.273296905202, 533.0370549893512, 448.80024873271435, 436.1872805189788, 434.59746290219914, 402.231499038429, 359.3605895499518, 357.0869904421738, 350.1679439751288, 346.0332011133297, 344.0734190400193, 333.7929569647708, 331.57026909854847, 305.1247625476127, 304.355786984574, 301.5254191427017, 293.9085631740422, 3589.8780379846753, 2816.797187634725, 2079.66006689186, 1238.4309816377565, 1060.3095428407246, 1045.7440188435037, 907.8171818812973, 744.4549971799452, 732.3964312746903, 687.7316206903039, 630.4131179697833, 581.7307762649076, 503.44740915451627, 487.84087764027447, 469.32187290593146, 467.52424020104144, 461.6136872998969, 459.01099688252305, 438.862963667888, 428.36319736598557, 396.0826622730125, 378.9451000515298, 373.1376936680801, 372.3486657139202, 361.96725188889354, 281.6907542394921, 281.6257255946426, 276.7326504474975, 275.1227066473513, 268.9853343821711, 1543.2288384510102, 1051.559628893419, 1942.8111343882733, 1590.2222883272457, 1105.1005807963559, 1074.2344662236724, 1006.6050421197535, 943.9147206882217, 690.0140617160889, 598.5068851595234, 576.590845974457, 562.2986394771932, 479.8788266360815, 432.37367103449054, 417.0852756178898, 412.5342787384326, 399.1392450263628, 394.54640622260746, 366.4721135834734, 349.72179644400256, 343.03689068543093, 328.1573757234744, 336.5067415265883, 309.2719500413254, 302.9881708143637, 294.9882582293559, 290.460698679523, 277.24500004019643, 276.0113362554027, 270.7679871992036, 258.68415650227007, 257.3282148142305, 3156.309915363068, 1277.495989749031, 1170.334519063718, 944.919224469472, 824.9758144010191, 775.7097711097372, 757.8103933616453, 668.2768698150071, 548.5864619383176, 521.1271760105299, 513.7958296994419, 456.0030907772765, 447.49121559071085, 440.0862666235723, 399.4423914883677, 388.15534647281856, 596.218870410426, 374.4878716648648, 368.55136784540184, 351.7288036162036, 348.79968434034515, 345.0665698370625, 324.59909217582174, 301.2635532490209, 280.1760037395593, 261.6746217635667, 251.46294707757684, 247.38196843743987, 242.7748362703773, 237.3100610877512, 930.9831221698466, 265.93971805839425, 1916.737467033067, 1594.7323979585099, 1323.4656413147097, 1070.6240438691127, 1058.3663843798233, 937.8652435348598, 826.5038787511187, 791.5104931453319, 787.1327655165625, 698.2916482930573, 537.0778396591519, 606.254090632527, 532.455810796891, 531.2090225497901, 474.7757695442871, 463.66587221334163, 409.71502069090667, 376.0999233394692, 329.46106969589135, 320.42109422914797, 315.07589830977645, 292.78728328229147, 274.083495650556, 285.7763191810711, 266.3700271984544, 262.93891152762706, 251.39097588898562, 251.05727456642666, 239.19566411032676, 238.30354416211952, 424.12973393813667, 1309.4535878046815, 1071.2420107867645, 813.6258243817529, 751.228859187795, 658.4314457949326, 656.7562418938135, 632.8977532979542, 625.2300089579771, 611.7821002212844, 518.9345217753383, 408.20121139614804, 391.99598211432226, 390.72353648971267, 373.7088232488646, 371.5984561510643, 349.55698625076366, 339.1072648692865, 338.604309621039, 317.2883691084374, 312.7631298453923, 305.0224278379793, 304.9956944445101, 304.6432609823997, 304.2222899159169, 297.7676931255933, 291.0412624568559, 268.4672015842727, 260.1559386652473, 254.3655495443362, 251.8119513034194, 2907.2786595333714, 995.9756656039981, 979.0933462462198, 793.9744376311679, 785.6934454408381, 784.7087119926588, 718.1731182397548, 660.9335352060426, 641.8353574449765, 627.1423580177227, 571.0300356417947, 552.3695345364375, 562.0271969923049, 483.95439247724335, 479.611553536314, 464.9033074962767, 433.54537002490815, 407.1239007048277, 376.77491954256254, 362.6877518195165, 354.2208081930701, 404.4710941529264, 302.92849690559865, 300.57768256287665, 268.30630126624186, 222.81639288545642, 217.53877526860802, 215.6671234588704, 213.853387963222, 211.6111211777237, 294.9104437405092, 250.28353006862937], \"Total\": [9750.0, 6301.0, 4210.0, 4012.0, 3591.0, 3157.0, 3428.0, 2908.0, 3298.0, 3170.0, 2818.0, 2899.0, 3069.0, 2879.0, 3081.0, 2375.0, 1918.0, 2080.0, 1944.0, 2110.0, 2088.0, 2006.0, 1841.0, 1864.0, 1596.0, 1591.0, 1999.0, 1705.0, 1606.0, 1554.0, 6301.2830243259405, 3069.7214970511886, 2879.218142954412, 1999.7047130764806, 1786.4052258569918, 1303.7914530648652, 1125.5523286935772, 1024.6966679077602, 987.5211095324233, 934.7699897997077, 822.9231970136678, 767.8004891974393, 720.1628279349429, 641.0460781207421, 597.1558779251902, 546.4132096666974, 544.1892185505999, 526.2276835089413, 520.8444167355332, 507.661259199597, 507.56445437653343, 503.7998551051511, 478.8571387710747, 473.4290409903461, 468.4788695859954, 450.1177895698068, 440.73548658011333, 416.38418544453555, 400.3261426732053, 396.75264607406467, 3428.135341439753, 3298.7559268580967, 2110.1437859705084, 2088.188044554511, 1348.7518162923773, 1309.37494316982, 1137.7177130095113, 868.0193109050209, 814.2953893635728, 769.5619947367644, 757.930936621749, 713.5257865376915, 656.3804502683544, 603.2693967608296, 572.7212494821553, 528.4624522064303, 509.28191472863466, 506.4916312921687, 503.3814442910933, 469.7549123789377, 452.28359126836716, 382.28229939558395, 368.42653083329367, 366.7131641934629, 363.2514065667428, 357.5451993857198, 354.8789628815953, 342.29884039394324, 314.7346890473784, 288.88440834897716, 4012.473202526174, 2899.851377954986, 2375.536288492001, 1864.9498001799934, 1606.350635269645, 1250.3467246545433, 957.7007120083175, 947.9507061016341, 926.1420088136555, 750.5343024987158, 700.7039726314194, 588.3227794846587, 576.0983222377898, 908.4452447375492, 502.90812049665374, 460.8931888801979, 446.20687715309435, 434.64466149830247, 418.11191817247084, 413.0907339796541, 409.4124667189914, 361.06140091967796, 346.7629039259042, 317.3112753563165, 322.09472130183036, 309.8716426212622, 307.7976680202365, 301.9433335947674, 281.807718867304, 279.914692681967, 3081.1420587155008, 3170.201237550498, 1705.8718428452994, 1392.1634265751165, 1059.841777251413, 706.0926643283262, 661.6208608300396, 600.0023451815651, 528.5092473211162, 509.24677563522397, 455.9541233708829, 1564.8907431369696, 433.7229646013076, 423.7305483586764, 401.43595742001736, 391.8901212524973, 389.1427059812161, 375.34577275049145, 368.46420524449394, 368.2651893290619, 367.48370943686376, 362.12431074769285, 363.97652026268815, 352.7745932562336, 346.50761335278236, 341.1860843346332, 333.2204442612878, 327.0193772754803, 299.87752595602086, 297.21659621595984, 294.9623035177103, 9750.104643500532, 1281.3566796341502, 963.437159947003, 945.5845448131416, 925.0918945431719, 751.1822514055837, 732.8532495565039, 589.715239585789, 495.2107530708443, 471.54127969034477, 462.9356915690202, 452.632864445117, 416.91500944454276, 395.310428516515, 380.845374533807, 380.3108326643092, 371.1570393664914, 364.71173343358396, 330.99403293443055, 323.3284535022583, 316.10157467267913, 305.13209894203294, 294.95369451391514, 290.6192542835686, 290.3219294287252, 284.21863519400125, 271.6707611466548, 264.3611849035499, 263.1221957818046, 262.21845542956385, 436.25318336657165, 4210.290709123005, 2006.454380561155, 1841.1129153959118, 1375.530284701356, 1208.5330522880236, 1032.8761813405831, 996.308339379533, 861.6849230265374, 762.9642390723984, 760.4724684188012, 669.0137422570368, 559.4492732244281, 553.9630549904565, 545.5599599174745, 534.3236978503672, 450.08689367578694, 437.47392133310615, 435.8841359884881, 403.51813725767073, 360.6472402814983, 358.37367888487194, 351.4545904401879, 347.31983918194766, 345.3601663253816, 335.0801801659471, 332.8570504604805, 306.4114083461311, 305.64242757097315, 302.81205700238905, 295.19520733179183, 3591.1750333758155, 2818.094173795717, 2080.9570660373324, 1239.727972531624, 1061.6065424693654, 1047.041018973195, 909.1141820651753, 745.7519959566102, 733.6934318632221, 689.028641045515, 631.7101084991137, 583.0277734804017, 504.74439866479156, 489.1378831171008, 470.6188825122902, 468.82125634283915, 462.9107009778028, 460.31072058636613, 440.15996951302236, 429.6602116190092, 397.37966750409646, 380.2421053394781, 374.43468670335704, 373.6456684380123, 363.264275536984, 282.9877571691782, 282.92271993420866, 278.02964156637455, 276.4197078539945, 270.28236208195045, 1554.7927673347688, 1068.7926311708918, 1944.1021454723254, 1591.5133164856538, 1106.3915783521, 1075.5254810266501, 1007.8960581295893, 945.2057485117244, 691.3050819050214, 599.7978921580228, 577.8818681873702, 563.5896570976452, 481.1698335127571, 433.66468145492496, 418.37627663652813, 413.8252890023796, 400.43026746281225, 395.83744287494847, 367.76311125754745, 351.01285346655806, 344.32791467624946, 329.4483833976165, 337.8347646216176, 310.5630742085573, 304.2857010370149, 296.2792671536471, 291.75181164227297, 278.5362001483898, 277.30233627389174, 272.0592059924026, 259.9751657544008, 258.61929900444255, 3157.596205169071, 1278.7822814429278, 1171.620802658022, 946.2055099453248, 826.2621001939895, 776.9960541483999, 759.0966828188278, 669.5631567653693, 549.872751182391, 522.4134589097029, 515.0821262958858, 457.289377176006, 448.77751290259266, 441.372553307231, 400.7286879302096, 389.44164638717, 598.2015745600099, 375.77415690595893, 369.83767262925363, 353.01508481489554, 350.08598793335733, 346.35285419345803, 325.885446783736, 302.5498421430213, 281.4622921144324, 262.96093824121147, 252.74924427146615, 248.66826168400496, 244.061129387182, 238.59635360406358, 938.9179985319281, 267.48976653561255, 1918.0335661781523, 1596.0284931041203, 1324.7617294001338, 1071.920145141622, 1059.6624737126385, 939.1697168728114, 827.7999800664014, 792.8065843131536, 788.4288638251307, 699.5877374289126, 538.3739316980937, 607.723751016012, 533.7519115468094, 532.5051107248396, 476.0718585704681, 464.9619701330618, 411.01111990655164, 377.3960297245026, 330.75717128558153, 321.7171994853851, 316.372028012722, 294.0833958580754, 275.3795924175253, 287.16169515539366, 267.66616873177003, 264.2350023868516, 252.68710898592934, 252.35337033403846, 240.49175387624715, 239.59963933347512, 3081.1420587155008, 1310.7476633069323, 1072.536096713454, 814.9199214289837, 752.5229334038386, 659.725531687274, 658.0503623275165, 634.1918382326115, 626.52409992717, 613.0761904920176, 520.2286585784542, 409.4952959395467, 393.2900759666539, 392.07107919811864, 375.0029391507243, 372.89253290755437, 350.8521421137072, 340.4013504786881, 339.89839333126895, 318.5824489257471, 314.0572117450131, 306.31651260364345, 306.28978018312216, 305.93738826873505, 305.51637870393006, 299.06178110668776, 292.3353472547416, 269.76127898377456, 261.45001173068493, 255.65963457529304, 253.10602462352753, 2908.60045658647, 997.3085093315477, 980.4151414774454, 795.2962216714383, 787.015235068609, 786.0305036971757, 719.5191794186377, 662.2553327517163, 643.1571693740929, 628.4641743777659, 572.3518254967169, 553.6913201688175, 563.4890188420814, 485.2761854605289, 480.9333372613592, 466.22508816858175, 434.8671842643609, 408.4457021224494, 378.09670899844826, 364.009546405867, 355.5425998792166, 406.060476340957, 304.2502878079196, 301.89947868939845, 269.6280977705344, 224.13817333400425, 218.86063826505975, 216.98891279899408, 215.17519796399623, 212.9330307332722, 297.0213958827499, 253.5153504018318], \"Category\": [\"Default\", \"Default\", \"Default\", \"Default\", \"Default\", \"Default\", \"Default\", \"Default\", \"Default\", \"Default\", \"Default\", \"Default\", \"Default\", \"Default\", \"Default\", \"Default\", \"Default\", \"Default\", \"Default\", \"Default\", \"Default\", \"Default\", \"Default\", \"Default\", \"Default\", \"Default\", \"Default\", \"Default\", \"Default\", \"Default\", \"Topic1\", \"Topic1\", \"Topic1\", \"Topic1\", \"Topic1\", \"Topic1\", \"Topic1\", \"Topic1\", \"Topic1\", \"Topic1\", \"Topic1\", \"Topic1\", \"Topic1\", \"Topic1\", \"Topic1\", \"Topic1\", \"Topic1\", \"Topic1\", \"Topic1\", \"Topic1\", \"Topic1\", \"Topic1\", \"Topic1\", \"Topic1\", \"Topic1\", \"Topic1\", \"Topic1\", \"Topic1\", \"Topic1\", \"Topic1\", \"Topic2\", \"Topic2\", \"Topic2\", \"Topic2\", \"Topic2\", \"Topic2\", \"Topic2\", \"Topic2\", \"Topic2\", \"Topic2\", \"Topic2\", \"Topic2\", \"Topic2\", \"Topic2\", \"Topic2\", \"Topic2\", \"Topic2\", \"Topic2\", \"Topic2\", \"Topic2\", \"Topic2\", \"Topic2\", \"Topic2\", \"Topic2\", \"Topic2\", \"Topic2\", \"Topic2\", \"Topic2\", \"Topic2\", \"Topic2\", \"Topic3\", \"Topic3\", \"Topic3\", \"Topic3\", \"Topic3\", \"Topic3\", \"Topic3\", \"Topic3\", \"Topic3\", \"Topic3\", \"Topic3\", \"Topic3\", \"Topic3\", \"Topic3\", \"Topic3\", \"Topic3\", \"Topic3\", \"Topic3\", \"Topic3\", \"Topic3\", \"Topic3\", \"Topic3\", \"Topic3\", \"Topic3\", \"Topic3\", \"Topic3\", \"Topic3\", \"Topic3\", \"Topic3\", \"Topic3\", \"Topic3\", \"Topic4\", \"Topic4\", \"Topic4\", \"Topic4\", \"Topic4\", \"Topic4\", \"Topic4\", \"Topic4\", \"Topic4\", \"Topic4\", \"Topic4\", \"Topic4\", \"Topic4\", \"Topic4\", \"Topic4\", \"Topic4\", \"Topic4\", \"Topic4\", \"Topic4\", \"Topic4\", \"Topic4\", \"Topic4\", \"Topic4\", \"Topic4\", \"Topic4\", \"Topic4\", \"Topic4\", \"Topic4\", \"Topic4\", \"Topic4\", \"Topic5\", \"Topic5\", \"Topic5\", \"Topic5\", \"Topic5\", \"Topic5\", \"Topic5\", \"Topic5\", \"Topic5\", \"Topic5\", \"Topic5\", \"Topic5\", \"Topic5\", \"Topic5\", \"Topic5\", \"Topic5\", \"Topic5\", \"Topic5\", \"Topic5\", \"Topic5\", \"Topic5\", \"Topic5\", \"Topic5\", \"Topic5\", \"Topic5\", \"Topic5\", \"Topic5\", \"Topic5\", \"Topic5\", \"Topic5\", \"Topic5\", \"Topic6\", \"Topic6\", \"Topic6\", \"Topic6\", \"Topic6\", \"Topic6\", \"Topic6\", \"Topic6\", \"Topic6\", \"Topic6\", \"Topic6\", \"Topic6\", \"Topic6\", \"Topic6\", \"Topic6\", \"Topic6\", \"Topic6\", \"Topic6\", \"Topic6\", \"Topic6\", \"Topic6\", \"Topic6\", \"Topic6\", \"Topic6\", \"Topic6\", \"Topic6\", \"Topic6\", \"Topic6\", \"Topic6\", \"Topic6\", \"Topic7\", \"Topic7\", \"Topic7\", \"Topic7\", \"Topic7\", \"Topic7\", \"Topic7\", \"Topic7\", \"Topic7\", \"Topic7\", \"Topic7\", \"Topic7\", \"Topic7\", \"Topic7\", \"Topic7\", \"Topic7\", \"Topic7\", \"Topic7\", \"Topic7\", \"Topic7\", \"Topic7\", \"Topic7\", \"Topic7\", \"Topic7\", \"Topic7\", \"Topic7\", \"Topic7\", \"Topic7\", \"Topic7\", \"Topic7\", \"Topic7\", \"Topic7\", \"Topic8\", \"Topic8\", \"Topic8\", \"Topic8\", \"Topic8\", \"Topic8\", \"Topic8\", \"Topic8\", \"Topic8\", \"Topic8\", \"Topic8\", \"Topic8\", \"Topic8\", \"Topic8\", \"Topic8\", \"Topic8\", \"Topic8\", \"Topic8\", \"Topic8\", \"Topic8\", \"Topic8\", \"Topic8\", \"Topic8\", \"Topic8\", \"Topic8\", \"Topic8\", \"Topic8\", \"Topic8\", \"Topic8\", \"Topic8\", \"Topic9\", \"Topic9\", \"Topic9\", \"Topic9\", \"Topic9\", \"Topic9\", \"Topic9\", \"Topic9\", \"Topic9\", \"Topic9\", \"Topic9\", \"Topic9\", \"Topic9\", \"Topic9\", \"Topic9\", \"Topic9\", \"Topic9\", \"Topic9\", \"Topic9\", \"Topic9\", \"Topic9\", \"Topic9\", \"Topic9\", \"Topic9\", \"Topic9\", \"Topic9\", \"Topic9\", \"Topic9\", \"Topic9\", \"Topic9\", \"Topic9\", \"Topic9\", \"Topic10\", \"Topic10\", \"Topic10\", \"Topic10\", \"Topic10\", \"Topic10\", \"Topic10\", \"Topic10\", \"Topic10\", \"Topic10\", \"Topic10\", \"Topic10\", \"Topic10\", \"Topic10\", \"Topic10\", \"Topic10\", \"Topic10\", \"Topic10\", \"Topic10\", \"Topic10\", \"Topic10\", \"Topic10\", \"Topic10\", \"Topic10\", \"Topic10\", \"Topic10\", \"Topic10\", \"Topic10\", \"Topic10\", \"Topic10\", \"Topic10\", \"Topic11\", \"Topic11\", \"Topic11\", \"Topic11\", \"Topic11\", \"Topic11\", \"Topic11\", \"Topic11\", \"Topic11\", \"Topic11\", \"Topic11\", \"Topic11\", \"Topic11\", \"Topic11\", \"Topic11\", \"Topic11\", \"Topic11\", \"Topic11\", \"Topic11\", \"Topic11\", \"Topic11\", \"Topic11\", \"Topic11\", \"Topic11\", \"Topic11\", \"Topic11\", \"Topic11\", \"Topic11\", \"Topic11\", \"Topic11\", \"Topic12\", \"Topic12\", \"Topic12\", \"Topic12\", \"Topic12\", \"Topic12\", \"Topic12\", \"Topic12\", \"Topic12\", \"Topic12\", \"Topic12\", \"Topic12\", \"Topic12\", \"Topic12\", \"Topic12\", \"Topic12\", \"Topic12\", \"Topic12\", \"Topic12\", \"Topic12\", \"Topic12\", \"Topic12\", \"Topic12\", \"Topic12\", \"Topic12\", \"Topic12\", \"Topic12\", \"Topic12\", \"Topic12\", \"Topic12\", \"Topic12\", \"Topic12\"], \"logprob\": [30.0, 29.0, 28.0, 27.0, 26.0, 25.0, 24.0, 23.0, 22.0, 21.0, 20.0, 19.0, 18.0, 17.0, 16.0, 15.0, 14.0, 13.0, 12.0, 11.0, 10.0, 9.0, 8.0, 7.0, 6.0, 5.0, 4.0, 3.0, 2.0, 1.0, -2.1962, -2.9156, -2.9797, -3.3444, -3.4573, -3.7725, -3.9196, -4.0136, -4.0506, -4.1057, -4.2332, -4.3027, -4.3668, -4.4834, -4.5545, -4.6435, -4.6476, -4.6813, -4.6916, -4.7173, -4.7175, -4.7249, -4.7758, -4.7873, -4.7978, -4.8379, -4.859, -4.916, -4.9555, -4.9645, -2.4886, -2.5271, -2.9741, -2.9846, -3.4221, -3.4517, -3.5924, -3.8633, -3.9273, -3.9839, -3.9992, -4.0596, -4.1433, -4.2278, -4.2799, -4.3605, -4.3976, -4.4031, -4.4093, -4.4786, -4.5166, -4.6853, -4.7223, -4.727, -4.7365, -4.7524, -4.7599, -4.7962, -4.8805, -4.9665, -2.3268, -2.6516, -2.8512, -3.0933, -3.2427, -3.4935, -3.7604, -3.7707, -3.794, -4.0046, -4.0734, -4.2486, -4.2696, -3.8142, -4.4058, -4.4933, -4.5258, -4.5521, -4.591, -4.6031, -4.6121, -4.7382, -4.7788, -4.8679, -4.8529, -4.8917, -4.8984, -4.9177, -4.987, -4.9938, -2.7593, -2.5485, -3.1686, -3.372, -3.645, -4.0518, -4.117, -4.2149, -4.3421, -4.3793, -4.4902, -3.2571, -4.5403, -4.5637, -4.6179, -4.6421, -4.6491, -4.6853, -4.7039, -4.7044, -4.7066, -4.7213, -4.7162, -4.7476, -4.7656, -4.7811, -4.8048, -4.8237, -4.9107, -4.9196, -4.9273, -1.4207, -3.451, -3.7365, -3.7552, -3.7772, -3.9857, -4.0105, -4.2282, -4.4033, -4.4524, -4.4709, -4.4935, -4.5759, -4.6293, -4.6667, -4.6681, -4.6926, -4.7101, -4.8075, -4.831, -4.8538, -4.8892, -4.9233, -4.9382, -4.9392, -4.9605, -5.006, -5.0333, -5.038, -5.0415, -4.5361, -2.2001, -2.9416, -3.0276, -3.3194, -3.4489, -3.6062, -3.6423, -3.7876, -3.9095, -3.9128, -4.0412, -4.2204, -4.2303, -4.2456, -4.2664, -4.4385, -4.467, -4.4706, -4.548, -4.6607, -4.6671, -4.6866, -4.6985, -4.7042, -4.7345, -4.7412, -4.8243, -4.8268, -4.8362, -4.8618, -2.3289, -2.5714, -2.8748, -3.3932, -3.5485, -3.5623, -3.7037, -3.9021, -3.9185, -3.9814, -4.0684, -4.1488, -4.2933, -4.3248, -4.3635, -4.3673, -4.38, -4.3857, -4.4306, -4.4548, -4.5332, -4.5774, -4.5928, -4.5949, -4.6232, -4.874, -4.8742, -4.8917, -4.8976, -4.9201, -3.1731, -3.5567, -2.7832, -2.9835, -3.3474, -3.3758, -3.4408, -3.5051, -3.8184, -3.9607, -3.998, -4.0231, -4.1816, -4.2858, -4.3218, -4.3328, -4.3658, -4.3774, -4.4512, -4.498, -4.5173, -4.5616, -4.5365, -4.6209, -4.6414, -4.6682, -4.6837, -4.7302, -4.7347, -4.7539, -4.7995, -4.8048, -2.2451, -3.1496, -3.2372, -3.4512, -3.5869, -3.6485, -3.6718, -3.7976, -3.9949, -4.0463, -4.0604, -4.1798, -4.1986, -4.2153, -4.3122, -4.3409, -3.9117, -4.3767, -4.3927, -4.4394, -4.4478, -4.4585, -4.5197, -4.5943, -4.6669, -4.7352, -4.775, -4.7913, -4.8101, -4.8329, -3.466, -4.719, -2.7405, -2.9245, -3.1109, -3.3229, -3.3344, -3.4553, -3.5817, -3.625, -3.6305, -3.7503, -4.0128, -3.8916, -4.0214, -4.0238, -4.1361, -4.1598, -4.2835, -4.3691, -4.5015, -4.5293, -4.5461, -4.6195, -4.6855, -4.6437, -4.714, -4.727, -4.7719, -4.7732, -4.8216, -4.8254, -4.2489, -3.0835, -3.2843, -3.5593, -3.6391, -3.771, -3.7735, -3.8105, -3.8227, -3.8445, -4.009, -4.2491, -4.2896, -4.2928, -4.3373, -4.343, -4.4042, -4.4345, -4.436, -4.501, -4.5154, -4.5404, -4.5405, -4.5417, -4.5431, -4.5645, -4.5874, -4.6681, -4.6995, -4.7221, -4.7321, -2.2627, -3.334, -3.3511, -3.5606, -3.5711, -3.5724, -3.661, -3.744, -3.7734, -3.7965, -3.8903, -3.9235, -3.9061, -4.0557, -4.0647, -4.0959, -4.1657, -4.2286, -4.306, -4.3442, -4.3678, -4.2351, -4.5242, -4.532, -4.6456, -4.8313, -4.8553, -4.864, -4.8724, -4.8829, -4.551, -4.7151], \"loglift\": [30.0, 29.0, 28.0, 27.0, 26.0, 25.0, 24.0, 23.0, 22.0, 21.0, 20.0, 19.0, 18.0, 17.0, 16.0, 15.0, 14.0, 13.0, 12.0, 11.0, 10.0, 9.0, 8.0, 7.0, 6.0, 5.0, 4.0, 3.0, 2.0, 1.0, 2.0548, 2.0546, 2.0545, 2.0543, 2.0543, 2.054, 2.0538, 2.0537, 2.0537, 2.0535, 2.0534, 2.0533, 2.0532, 2.0529, 2.0528, 2.0526, 2.0526, 2.0525, 2.0525, 2.0524, 2.0524, 2.0524, 2.0522, 2.0522, 2.0522, 2.0521, 2.052, 2.0518, 2.0517, 2.0517, 2.3711, 2.3711, 2.3708, 2.3708, 2.3705, 2.3705, 2.3703, 2.37, 2.3699, 2.3698, 2.3697, 2.3696, 2.3695, 2.3693, 2.3692, 2.369, 2.3689, 2.3689, 2.3689, 2.3687, 2.3686, 2.368, 2.3679, 2.3679, 2.3679, 2.3678, 2.3678, 2.3676, 2.3673, 2.3669, 2.3756, 2.3754, 2.3753, 2.3752, 2.3751, 2.3748, 2.3745, 2.3745, 2.3745, 2.3741, 2.374, 2.3737, 2.3736, 2.3735, 2.3733, 2.373, 2.3729, 2.3729, 2.3727, 2.3727, 2.3727, 2.3722, 2.3721, 2.3717, 2.3717, 2.3716, 2.3716, 2.3715, 2.3712, 2.3712, 2.2071, 2.3894, 2.389, 2.3889, 2.3886, 2.388, 2.3878, 2.3876, 2.3873, 2.3872, 2.3869, 2.3868, 2.3868, 2.3867, 2.3865, 2.3864, 2.3864, 2.3863, 2.3862, 2.3862, 2.3862, 2.3862, 2.3862, 2.3861, 2.386, 2.386, 2.3859, 2.3858, 2.3854, 2.3854, 2.3853, 2.3937, 2.3928, 2.3925, 2.3925, 2.3924, 2.3921, 2.3921, 2.3916, 2.3912, 2.3911, 2.391, 2.3909, 2.3907, 2.3905, 2.3904, 2.3904, 2.3903, 2.3902, 2.3899, 2.3898, 2.3896, 2.3895, 2.3894, 2.3893, 2.3893, 2.3892, 2.3889, 2.3889, 2.3888, 2.3888, 2.3852, 2.4541, 2.4538, 2.4537, 2.4535, 2.4534, 2.4532, 2.4532, 2.453, 2.4528, 2.4528, 2.4525, 2.4521, 2.4521, 2.4521, 2.452, 2.4516, 2.4515, 2.4515, 2.4513, 2.4509, 2.4509, 2.4508, 2.4507, 2.4507, 2.4506, 2.4506, 2.4502, 2.4502, 2.4502, 2.4501, 2.4843, 2.4843, 2.4841, 2.4837, 2.4835, 2.4835, 2.4833, 2.483, 2.4829, 2.4828, 2.4827, 2.4825, 2.4821, 2.4821, 2.482, 2.4819, 2.4819, 2.4819, 2.4818, 2.4817, 2.4814, 2.4813, 2.4812, 2.4812, 2.4811, 2.4801, 2.4801, 2.48, 2.48, 2.4799, 2.4772, 2.4685, 2.6437, 2.6435, 2.6432, 2.6432, 2.6431, 2.643, 2.6425, 2.6422, 2.6421, 2.6421, 2.6417, 2.6414, 2.6413, 2.6412, 2.6411, 2.6411, 2.6408, 2.6407, 2.6406, 2.6404, 2.6404, 2.6402, 2.6401, 2.64, 2.6399, 2.6397, 2.6397, 2.6396, 2.6394, 2.6394, 2.6968, 2.6962, 2.6961, 2.6959, 2.6957, 2.6956, 2.6955, 2.6953, 2.6949, 2.6948, 2.6947, 2.6944, 2.6943, 2.6943, 2.694, 2.6939, 2.6939, 2.6938, 2.6937, 2.6936, 2.6935, 2.6935, 2.6933, 2.693, 2.6926, 2.6923, 2.6921, 2.692, 2.6919, 2.6918, 2.6887, 2.6914, 2.6999, 2.6998, 2.6996, 2.6994, 2.6993, 2.6992, 2.699, 2.6989, 2.6989, 2.6987, 2.6982, 2.6981, 2.6981, 2.6981, 2.6978, 2.6978, 2.6974, 2.6971, 2.6966, 2.6965, 2.6965, 2.6961, 2.6958, 2.6957, 2.6957, 2.6956, 2.6954, 2.6954, 2.6952, 2.6951, 0.7175, 2.7377, 2.7375, 2.7371, 2.7369, 2.7367, 2.7367, 2.7366, 2.7366, 2.7365, 2.7362, 2.7355, 2.7354, 2.7352, 2.7352, 2.7352, 2.735, 2.7349, 2.7348, 2.7346, 2.7345, 2.7344, 2.7344, 2.7344, 2.7344, 2.7343, 2.7342, 2.7339, 2.7337, 2.7336, 2.7335, 2.7613, 2.7605, 2.7604, 2.7601, 2.7601, 2.7601, 2.7599, 2.7598, 2.7597, 2.7597, 2.7595, 2.7594, 2.7592, 2.7591, 2.759, 2.759, 2.7587, 2.7585, 2.7583, 2.7582, 2.7581, 2.7579, 2.7574, 2.7574, 2.7569, 2.7559, 2.7557, 2.7557, 2.7556, 2.7556, 2.7547, 2.749]}, \"token.table\": {\"Topic\": [7, 8, 11, 1, 8, 4, 2, 5, 4, 6, 5, 1, 7, 8, 10, 8, 2, 11, 5, 10, 8, 10, 8, 6, 2, 9, 2, 9, 10, 6, 3, 2, 3, 3, 6, 4, 1, 6, 1, 11, 10, 3, 3, 3, 3, 8, 12, 6, 11, 10, 10, 10, 4, 3, 2, 9, 5, 7, 11, 10, 1, 8, 5, 1, 7, 1, 3, 4, 10, 1, 9, 3, 4, 8, 6, 7, 10, 4, 5, 12, 4, 12, 3, 4, 2, 6, 5, 6, 7, 12, 10, 8, 4, 10, 12, 6, 5, 3, 1, 12, 2, 9, 12, 2, 7, 9, 7, 6, 8, 1, 8, 1, 7, 1, 8, 8, 1, 3, 4, 4, 10, 8, 4, 5, 11, 9, 12, 12, 9, 6, 2, 3, 2, 9, 9, 8, 5, 5, 11, 3, 5, 6, 10, 11, 6, 2, 9, 5, 8, 4, 11, 3, 7, 9, 11, 8, 11, 9, 1, 2, 3, 9, 10, 12, 11, 1, 12, 7, 5, 11, 1, 6, 5, 6, 7, 2, 10, 11, 4, 11, 2, 1, 4, 11, 2, 1, 3, 9, 7, 6, 3, 2, 3, 3, 1, 8, 11, 7, 9, 12, 5, 11, 9, 5, 11, 10, 11, 7, 5, 4, 4, 10, 12, 1, 5, 5, 7, 10, 3, 12, 4, 7, 8, 4, 9, 10, 12, 5, 6, 8, 12, 6, 1, 1, 7, 11, 7, 12, 10, 11, 12, 2, 7, 8, 11, 3, 2, 10, 5, 9, 8, 4, 4, 3, 2, 10, 2, 7, 3, 12, 12, 2, 4, 1, 6, 1, 9, 5, 5, 10, 7, 12, 10, 7, 4, 2, 11, 5, 12, 2, 3, 4, 1, 12, 4, 8, 4, 7, 7, 7, 9, 11, 5, 6, 4, 6, 2, 8, 9, 10, 12, 1, 9, 11, 4, 11, 12, 2, 7, 6, 12, 10, 6, 9, 6, 3, 6, 9, 9, 1, 7, 8, 5, 12, 8, 5, 9, 11, 8, 1, 3, 9, 6, 9, 12, 7, 3, 10, 2, 8, 12, 2, 12, 1, 8, 9, 12, 10, 8, 11, 5, 7, 3, 1, 12, 5, 5, 10, 2, 4, 7, 10, 1, 12, 7, 11, 3, 9, 3, 2, 1, 10, 2, 6, 8, 12, 1, 4, 12, 4, 6, 1, 6, 9, 7], \"Freq\": [0.9965600986861212, 0.9971794069007023, 0.9967197851014088, 0.9983681701574265, 0.9944847378991621, 0.9994889165625448, 0.9988257048060853, 0.996685064642912, 0.9959159225942531, 0.9991517072845596, 0.998508299236577, 0.997814696598056, 0.996519681063834, 0.99872435338695, 0.9971735281135784, 0.995205850713198, 0.9989499240252059, 0.9954321389209976, 0.995891318911563, 0.995954560879838, 0.9937386768478762, 0.9977485361691265, 0.9961613626239055, 0.9988874947223075, 0.99723262797513, 0.9987180705190432, 0.9994579582784296, 0.9944305662421885, 0.9937751986376743, 0.9987314767394064, 0.9962160779966029, 0.996938539002393, 0.9979557196871512, 0.9966012442010668, 0.9974251695756637, 0.9964145786413691, 0.997413661233484, 0.9987361936208561, 0.998344224236403, 0.9964496262185071, 0.9946874280042008, 0.9935852755397547, 0.9949161115391948, 0.9971870849042888, 0.9965500153663838, 0.995303551021635, 0.9982007984530142, 0.9980446181875628, 0.9979762299110939, 0.9979310778195762, 0.9991415917073744, 0.9937970684973474, 0.9991643031608877, 0.998062047993445, 0.9965549849384744, 0.99841281245431, 0.9968826150557017, 0.9985071142413555, 0.9975712215733572, 0.9967177418779964, 0.9966757012083497, 0.998742237034945, 0.9957350774666871, 0.9997963868118623, 0.9990057514898358, 0.016876858972766192, 0.8448166135790461, 0.0003245549802455037, 0.13761131162409357, 0.9975166732004191, 0.9948773989368381, 0.9973595777151762, 0.9960261940680986, 0.9939955415103954, 0.994626310280199, 0.997152530828097, 0.9946623945249682, 0.0022922468835252655, 0.9902506536829146, 0.0022922468835252655, 0.99731707896437, 0.9956181963406093, 0.9980935159930279, 0.9964229476869833, 0.9984091898585042, 0.9973182804858307, 0.99485104099512, 0.9975851470214775, 0.00788906863757923, 0.9861335796974037, 0.994990215486144, 0.9975290742426922, 0.9959067016060037, 0.997447997354255, 0.9994497502801233, 0.9979716261375674, 0.9967314002893726, 0.9958675425106024, 0.9981064969789125, 0.9970993955452472, 0.9984902115965414, 0.9972829508268175, 0.9972265935994399, 0.9962055366811982, 0.9976506989373017, 0.9986166149881045, 0.9965280873257507, 0.9966308361224946, 0.995682225199431, 0.9992133778850105, 0.9985816412037082, 0.9986208293883777, 0.9982371792097203, 0.9976670107875075, 0.9964281734448431, 0.9986697316405163, 0.9969177227383759, 0.9941595788174773, 0.9975517260101082, 0.9965644612477031, 0.9994611323824683, 0.9990491336327644, 0.9959625164360689, 0.9989412162470347, 0.9963484417174662, 0.9963196777580714, 0.0016716773116746163, 0.997888618591286, 0.9987259533656758, 0.9974094644612279, 0.9994310643825353, 0.997340620718656, 0.9961280453118639, 0.9933093964767264, 0.9948046606760458, 0.9978843768066352, 0.9970914104458385, 0.9965151243747526, 0.996936012711491, 0.9996328442703999, 0.993850051659579, 0.9962377471605414, 0.9975399208012145, 0.9957890198544952, 0.9996934394292041, 0.9962641957908424, 0.9972943673529147, 0.9963925190294817, 0.9991109617679702, 0.9965236438732656, 0.9985677901954432, 0.9987669182449478, 0.9952554725655326, 0.9977350262256994, 0.997638233576344, 0.9962490042017242, 0.9950366696857207, 0.9963456996782921, 0.9969815096527311, 0.0010650557360318775, 0.0010650557360318775, 0.991566890245678, 0.0010650557360318775, 0.00426022294412751, 0.9973255165599618, 0.9964274402088198, 0.9954425653078868, 0.9984866874825126, 0.9979787871489258, 0.9944539618832431, 0.9966873443129397, 0.9992751489516806, 0.9954466773098182, 0.9961999314952572, 0.9955956442773929, 0.999668816622836, 0.9971635944569713, 0.9966336969651521, 0.9970635297446092, 0.9935084215462873, 0.9987717395124438, 0.998385326359766, 0.9949696115021962, 0.9973568767934912, 0.9953283264394646, 0.9955825220287567, 0.998194261616303, 0.995652198324877, 0.9967333829630226, 0.9958612279373956, 0.9967322448378719, 0.9994677002794295, 0.9977516092682704, 0.9997064063484569, 0.9988781492403932, 0.9961434591282033, 0.9956301924255946, 0.9973646637737055, 0.9976654080357097, 0.9973575015798158, 0.999886704446678, 0.9975673722250314, 0.9952786617351046, 0.9967666297061075, 0.998403826838114, 0.998670153763476, 0.9972681504580515, 0.9967386149319389, 0.9953532811885122, 0.9968952353809899, 0.9983294312270365, 0.999355592266326, 0.9956612797461102, 0.9980643614709005, 0.9983242695517461, 0.9953066126568816, 0.9986061679901477, 0.9933236989090424, 0.9989229190367852, 0.9973701873309159, 0.9967375372844803, 0.9995400837177506, 0.9961067077714246, 0.9977286458519229, 0.9960392112984983, 0.9933233278393189, 0.9970206020450805, 0.9988196907251997, 0.9961669091068677, 0.9957746912436792, 0.9980593209306844, 0.9954325443327597, 0.9968432523172234, 0.014970163091853991, 0.9842882232893999, 0.9981206976174071, 0.9980326638034526, 0.9976381214552017, 0.9989826215761661, 0.9982446056318808, 0.9949220013839045, 0.997161976925213, 0.9965095409813517, 0.9984739646008685, 0.9986666668529296, 0.998997093313487, 0.9979702808253951, 0.9990336070480006, 0.9988357156674679, 0.9984725183525989, 0.997568772123105, 0.9968828230180943, 0.9992057519627164, 0.997060331242901, 0.9978616238312911, 0.9946370031347431, 0.9956783103552376, 0.9996117327071994, 0.9991591902539895, 0.9960676425332479, 0.9986889774731024, 0.998701157417387, 0.9970737188349701, 0.9982100323840333, 0.9959511289407607, 0.9991475175983068, 0.9971245285015857, 0.9962898071164646, 0.9944282622032035, 0.9953261211584546, 0.996168392634805, 0.9983701397842504, 0.9956632448786944, 0.9961359893839057, 0.9975501666800436, 0.9966456741585699, 0.9934709718518183, 0.9975550751607547, 0.998710018531572, 0.9975232037580977, 0.9972952520122628, 0.9963374268226747, 0.9986259665526614, 0.9964604790430235, 0.9968747063279538, 0.0019170667429383728, 0.997144331288873, 0.9976736966070805, 0.9962966482258017, 0.9996727997480226, 0.9968979394469109, 0.9958832405432075, 0.9957123318350697, 0.9984847213248315, 0.9960274997131143, 0.9986868127789157, 0.9969946121543218, 0.9971144832545155, 0.9994944872411305, 0.998431129011473, 0.9939616909958695, 0.9983787543680978, 0.9968902613065848, 0.9973844703526011, 0.9984525199261691, 0.9976064607660684, 0.9969453735191265, 0.9978958044819686, 0.9948639412688172, 0.9982615176557702, 0.9980058640988791, 0.9977304670394198, 0.999395520292859, 0.993079131545939, 0.9960616004449682, 0.9968757926080479, 0.9971406260867999, 0.9985552791315654, 0.9962981709826257, 0.0032158626570993236, 0.9924152159808513, 0.0038590351885191884, 0.9978052854327268, 0.9981044580698198, 0.9980057066972172, 0.9965532597240894, 0.9986062667048242, 0.9950328433625799, 0.9949669669759013, 0.9984596688437946, 0.9975681989856282, 0.9971803911475737, 0.9953937474007601, 0.99609400015886, 0.9949256909721328, 0.9976919081053763, 0.997308319074029, 0.0011007818091324823, 0.9972556710090122, 0.9981121476766451, 0.9976702341398926, 0.9970549734684397, 0.9958905944940011, 0.9960622944306576, 0.9967104333744913, 0.997899118915914, 0.9985565895327637, 0.9981877073624645, 0.9956036105483983, 0.9957021167665651, 0.9977802683442282, 0.9987744311032039, 0.998224171719836, 0.0033667608255223236, 0.9931944435290855, 0.9984261457144767, 0.9969968252127751, 0.9963160250686229, 0.9974828976023669, 0.9996210847638726, 0.9972928904000337, 0.9963008892130589, 0.9967276226627649, 0.9973723246567573, 0.9982482527578942, 0.9988711511342482, 0.9993532877188855, 0.993291215884539, 0.9994907100556263, 0.9944884084667347, 0.999439200900524, 0.9987545202408078, 0.9978968747960273, 0.9980637452637006, 0.9994330825286664, 0.9986879593232141, 0.9995769188390977, 0.9979074136585737, 0.9945384134643953, 0.9956491191111364, 0.9967763531540058, 0.9976550038417905, 0.9975226667735446, 0.9956861388209105, 0.9965439959920188], \"Term\": [\"action\", \"actually\", \"ad\", \"ago\", \"al\", \"album\", \"already\", \"app\", \"aqu\", \"art\", \"artist\", \"ask\", \"australia\", \"available\", \"award\", \"babe\", \"baby\", \"bad\", \"bae\", \"batman\", \"bc\", \"beach\", \"beat\", \"beautiful\", \"beauty\", \"behind\", \"best\", \"bevocalspeakup\", \"biggest\", \"birthday\", \"bitch\", \"blessed\", \"body\", \"boomerangoftheweek\", \"bos\", \"box\", \"boy\", \"brazil\", \"buddy\", \"business\", \"bye\", \"called\", \"capturing\", \"care\", \"case\", \"cat\", \"cause\", \"celebrate\", \"celebrating\", \"chance\", \"change\", \"chat\", \"check\", \"child\", \"christmas\", \"city\", \"coffee\", \"cold\", \"colombia\", \"color\", \"community\", \"con\", \"concert\", \"confident\", \"congrats\", \"coolforthesummer\", \"coolforthesummer\", \"coolforthesummer\", \"coolforthesummer\", \"country\", \"couple\", \"cover\", \"crazy\", \"crime\", \"dad\", \"ddlovato\", \"definitely\", \"demiworldtour\", \"demiworldtour\", \"demiworldtour\", \"deo\", \"deserves\", \"dog\", \"download\", \"dream\", \"easter\", \"eat\", \"edition\", \"embarrassing\", \"embarrassing\", \"enter\", \"este\", \"et\", \"event\", \"excited\", \"exciting\", \"exclusive\", \"experience\", \"explore\", \"eye\", \"face\", \"fact\", \"fall\", \"fallontonight\", \"family\", \"fan\", \"far\", \"father\", \"fav\", \"favorite\", \"featured\", \"feel\", \"feeling\", \"fight\", \"finding\", \"food\", \"forget\", \"found\", \"free\", \"fresh\", \"friend\", \"fucking\", \"full\", \"fun\", \"future\", \"futurenow\", \"futurenow\", \"futurenowtour\", \"game\", \"gift\", \"girl\", \"giving\", \"glam\", \"globe\", \"golden\", \"gorgeous\", \"gracias\", \"grammys\", \"guess\", \"guy\", \"gym\", \"halloween\", \"hang\", \"happen\", \"happy\", \"hate\", \"head\", \"health\", \"hear\", \"heard\", \"heart\", \"help\", \"helped\", \"helping\", \"hint\", \"hold\", \"holiday\", \"holy\", \"home\", \"hondacivictour\", \"hondacivictour\", \"hondacivictour\", \"hondacivictour\", \"hondacivictour\", \"honest\", \"honor\", \"honored\", \"hope\", \"hoy\", \"human\", \"idea\", \"incredible\", \"inside\", \"inspiration\", \"inspired\", \"instagram\", \"instameet\", \"interview\", \"itunes\", \"job\", \"join\", \"keep\", \"kick\", \"kicking\", \"kid\", \"killed\", \"kind\", \"kiss\", \"late\", \"launch\", \"learn\", \"life\", \"light\", \"like\", \"literally\", \"lo\", \"london\", \"lost\", \"lot\", \"lovatics\", \"love\", \"loved\", \"loving\", \"magic\", \"makeup\", \"meet\", \"mental\", \"message\", \"mexico\", \"million\", \"mind\", \"miss\", \"missed\", \"mom\", \"moment\", \"movie\", \"music\", \"national\", \"need\", \"news\", \"ni\", \"night\", \"nov\", \"nuevo\", \"obsessed\", \"oct\", \"officially\", \"order\", \"pant\", \"papa\", \"paris\", \"park\", \"part\", \"participate\", \"participate\", \"party\", \"past\", \"perform\", \"performance\", \"performing\", \"periscope\", \"person\", \"personal\", \"phone\", \"photo\", \"photographer\", \"pic\", \"picture\", \"play\", \"playing\", \"playlist\", \"possible\", \"post\", \"power\", \"pretty\", \"preview\", \"product\", \"project\", \"proud\", \"pst\", \"question\", \"real\", \"recorded\", \"red\", \"result\", \"right\", \"road\", \"rock\", \"room\", \"round\", \"said\", \"sale\", \"saturday\", \"saw\", \"scene\", \"school\", \"season\", \"second\", \"seeing\", \"seen\", \"selfie\", \"selfies\", \"send\", \"seriously\", \"shakira\", \"shakira\", \"shoot\", \"short\", \"shot\", \"show\", \"showing\", \"sick\", \"since\", \"sing\", \"singing\", \"single\", \"skin\", \"sleepy\", \"song\", \"soon\", \"sorry\", \"sound\", \"speak\", \"special\", \"stage\", \"stand\", \"star\", \"start\", \"starting\", \"stay\", \"stone\", \"stop\", \"story\", \"stream\", \"streaming\", \"street\", \"strong\", \"studio\", \"stuff\", \"submission\", \"submission\", \"submission\", \"success\", \"summer\", \"sunday\", \"super\", \"support\", \"surprise\", \"sweat\", \"sweet\", \"talented\", \"talk\", \"te\", \"team\", \"teamshakira\", \"tell\", \"theweekoninstagram\", \"theweekoninstagram\", \"though\", \"thought\", \"ticket\", \"tired\", \"tix\", \"ton\", \"top\", \"totally\", \"tour\", \"track\", \"train\", \"trip\", \"true\", \"tune\", \"twitter\", \"ufc\", \"ufc\", \"un\", \"una\", \"understand\", \"using\", \"video\", \"view\", \"visit\", \"voice\", \"vote\", \"walk\", \"wan\", \"watch\", \"wave\", \"way\", \"wear\", \"weekend\", \"weeklyfluff\", \"win\", \"wish\", \"woman\", \"workout\", \"world\", \"worldwide\", \"worth\", \"wrote\", \"yall\", \"yesterday\", \"york\", \"young\", \"yoyou\"]}, \"R\": 30, \"lambda.step\": 0.01, \"plot.opts\": {\"xlab\": \"PC1\", \"ylab\": \"PC2\"}, \"topic.order\": [4, 6, 5, 1, 3, 9, 10, 11, 12, 2, 8, 7]};\n",
       "\n",
       "function LDAvis_load_lib(url, callback){\n",
       "  var s = document.createElement('script');\n",
       "  s.src = url;\n",
       "  s.async = true;\n",
       "  s.onreadystatechange = s.onload = callback;\n",
       "  s.onerror = function(){console.warn(\"failed to load library \" + url);};\n",
       "  document.getElementsByTagName(\"head\")[0].appendChild(s);\n",
       "}\n",
       "\n",
       "if(typeof(LDAvis) !== \"undefined\"){\n",
       "   // already loaded: just create the visualization\n",
       "   !function(LDAvis){\n",
       "       new LDAvis(\"#\" + \"ldavis_el1090420780604106888043975759\", ldavis_el1090420780604106888043975759_data);\n",
       "   }(LDAvis);\n",
       "}else if(typeof define === \"function\" && define.amd){\n",
       "   // require.js is available: use it to load d3/LDAvis\n",
       "   require.config({paths: {d3: \"https://d3js.org/d3.v5\"}});\n",
       "   require([\"d3\"], function(d3){\n",
       "      window.d3 = d3;\n",
       "      LDAvis_load_lib(\"https://cdn.jsdelivr.net/gh/bmabey/pyLDAvis@3.3.1/pyLDAvis/js/ldavis.v3.0.0.js\", function(){\n",
       "        new LDAvis(\"#\" + \"ldavis_el1090420780604106888043975759\", ldavis_el1090420780604106888043975759_data);\n",
       "      });\n",
       "    });\n",
       "}else{\n",
       "    // require.js not available: dynamically load d3 & LDAvis\n",
       "    LDAvis_load_lib(\"https://d3js.org/d3.v5.js\", function(){\n",
       "         LDAvis_load_lib(\"https://cdn.jsdelivr.net/gh/bmabey/pyLDAvis@3.3.1/pyLDAvis/js/ldavis.v3.0.0.js\", function(){\n",
       "                 new LDAvis(\"#\" + \"ldavis_el1090420780604106888043975759\", ldavis_el1090420780604106888043975759_data);\n",
       "            })\n",
       "         });\n",
       "}\n",
       "</script>"
      ],
      "text/plain": [
       "<IPython.core.display.HTML object>"
      ]
     },
     "execution_count": 28,
     "metadata": {},
     "output_type": "execute_result"
    }
   ],
   "source": [
    "%time \n",
    "vis_data = gensimvis.prepare(lda, corpus, dictionary, mds='mmds')\n",
    "pyLDAvis.display(vis_data)"
   ]
  },
  {
   "cell_type": "markdown",
   "id": "4262aee3",
   "metadata": {},
   "source": [
    "#### Обзор по предложенным темам:\n",
    "\n",
    "    1. confident, weekend, world, right, favorite, send, feel, buddy, sweet, explore\n",
    "       уверенный, выходные, мир, правильный, любимый, отправить, чувствовать, приятель, сладкий, исследовать\n",
    "       -------------------------\n",
    "       Что-то из области выходных-поездок\n",
    "\n",
    "    2. instagram, life, best, girl, real, baby, face, already, dream, pic\n",
    "       инстаграм, жизнь, лучшее, девушка, настоящее, детка, лицо, уже, мечта, фото\n",
    "       ------------------------\n",
    "       обсуждение инстаграма\n",
    "\n",
    "    3. guy, like, coolforthesummer, watch, way, proud, need, twitter, photographer, help\n",
    "       парень, вроде, классно на лето, смотреть, путь, гордый, нужен, твиттер, фотограф, помогите\n",
    "       ------------------------\n",
    "       обсуждение мероприятия на лето, фотограф, парень, помощь\n",
    "\n",
    "    4. video, album, shakira, check, post, stage, scene, mind, shoot, free, worldwide\n",
    "       видео, альбом, шакира, проверить, опубликовать, сцена, сцена, ум, стрелять, бесплатно, по всему миру\n",
    "       ------------------------\n",
    "       обсуждение певицы Шакиры, её туров, выступлений\n",
    "\n",
    "    5. love, fun, artist, moment, order, un, play, gracias, second, exclusive, hoy\n",
    "       любовь, веселье, художник, момент, заказ, ип, игра, грасиас, второй, эксклюзивный, хой\n",
    "       ------------------------\n",
    "       заказ билетов на любимого артиста\n",
    "\n",
    "    6. happy, incredible, story, beautiful, birthday, art, single, celebrate, brazil, wish, sing\n",
    "       счастливый, невероятный, история, красивый, день рождения, искусство, сингл, праздновать, бразилия, желание, петь\n",
    "       ------------------------\n",
    "       обсуждение праздника\n",
    "\n",
    "    7. show, project, night, submission, music, hope, participate, congrats, tune, family\n",
    "       шоу, проект, ночь, подача, музыка, надежда, участие, поздравления, мелодия, семья\n",
    "       ------------------------\n",
    "       участие, посещения шоу\n",
    "\n",
    "    8. woman, fucking, con, featured, hear, available, thought, food, phone, actually, playlist, beat, top, sunday\n",
    "       женщина, чертовски, афера, рекомендуемая, слышать, доступная, мысль, еда, телефон, на самом деле, плейлист, бить, топ, воскресенье\n",
    "       ------------------------\n",
    "       куда же без этой темы\n",
    "\n",
    "    9. song, support, fan, game, hondacivictour, playing, behind, studio, lot, futurenow\n",
    "       Песня, поддержка, поклонник, игра, Honda Civic Tour, Играя, позади, Студия, много, Будущее сейчас\n",
    "       ------------------------\n",
    "       игровая индустрия\n",
    "\n",
    "    10. friend, miss, meet, change, soon, weeklyfluff, picture, performance, track, stop, instameet\n",
    "        друг, мисс, встреча, изменение, скоро, еженедельный пух, картина, представление, трек, стоп, знакомство с инстаграмом\n",
    "        -----------------------\n",
    "        знакомство, встречи\n",
    "\n",
    "    11. photo, heart, wan, celebrating, special, makeup, party, loved, performing, hint, future\n",
    "        фото, сердце, бледный, празднующий, особенный, макияж, вечеринка, любимый, исполнение, намек, будущее\n",
    "        -----------------------\n",
    "        вечеринка, фотосессия\n",
    "\n",
    "    12. excited, workout, tour, sale, seeing, question, futurenowtour, summer, cause, ticket, perform, lovatics\n",
    "        взволнованный, тренировка, тур, распродажа, наблюдение, вопрос, будущее сейчас, лето, причина, билет, выступление, ловатики (Деми Ловато —американская певица, автор песен и актёр)\n",
    "        ----------------------\n",
    "        опять про выступления и посещения шоу\n"
   ]
  },
  {
   "cell_type": "code",
   "execution_count": 29,
   "id": "837bf476",
   "metadata": {},
   "outputs": [
    {
     "name": "stdout",
     "output_type": "stream",
     "text": [
      "-11.571844200610649\n"
     ]
    }
   ],
   "source": [
    "print(lda.log_perplexity(corpus))"
   ]
  },
  {
   "cell_type": "code",
   "execution_count": 30,
   "id": "35a72818",
   "metadata": {},
   "outputs": [
    {
     "name": "stdout",
     "output_type": "stream",
     "text": [
      "Персплексия:  9.428335680908387e-06\n"
     ]
    }
   ],
   "source": [
    "print('Персплексия: ', np.exp(lda.log_perplexity(corpus)))"
   ]
  },
  {
   "cell_type": "code",
   "execution_count": 31,
   "id": "564d0701",
   "metadata": {},
   "outputs": [
    {
     "name": "stdout",
     "output_type": "stream",
     "text": [
      "Средняя когерентность:  0.48180837311732233\n"
     ]
    }
   ],
   "source": [
    "coherence_model_lda = CoherenceModel(model=lda, texts=train_df['tweet_list'], dictionary=dictionary, coherence='c_v')\n",
    "coherence_lda = coherence_model_lda.get_coherence()\n",
    "print('Средняя когерентность: ', coherence_lda)"
   ]
  },
  {
   "cell_type": "code",
   "execution_count": 32,
   "id": "ed6413e6",
   "metadata": {},
   "outputs": [
    {
     "data": {
      "application/vnd.jupyter.widget-view+json": {
       "model_id": "b4eb706aed80430ab79366dcb2545828",
       "version_major": 2,
       "version_minor": 0
      },
      "text/plain": [
       "  0%|          | 0/6 [00:00<?, ?it/s]"
      ]
     },
     "metadata": {},
     "output_type": "display_data"
    },
    {
     "data": {
      "image/png": "[encoded data removed]",
      "text/plain": [
       "<Figure size 640x480 with 1 Axes>"
      ]
     },
     "metadata": {},
     "output_type": "display_data"
    }
   ],
   "source": [
    "topics_list = [3, 5, 10, 15, 18, 20]\n",
    "coherences = []\n",
    "\n",
    "for num in tqdm(topics_list):\n",
    "    lda_it = LdaModel(corpus, id2word=dictionary, num_topics=num, chunksize=50, update_every=1, passes=10)\n",
    "    coherences.append(CoherenceModel(model=lda_it, texts=train_df['tweet_list'], dictionary=dictionary, coherence='c_v').get_coherence())\n",
    "\n",
    "plt.plot(topics_list, coherences)\n",
    "plt.xlabel(\"Число тем\")\n",
    "plt.ylabel(\"Средняя когерентность\")\n",
    "plt.show()"
   ]
  },
  {
   "cell_type": "code",
   "execution_count": 33,
   "id": "e84b3392",
   "metadata": {},
   "outputs": [
    {
     "data": {
      "application/vnd.jupyter.widget-view+json": {
       "model_id": "e8b93c23a5374fefbfdb082052fc6c23",
       "version_major": 2,
       "version_minor": 0
      },
      "text/plain": [
       "  0%|          | 0/3 [00:00<?, ?it/s]"
      ]
     },
     "metadata": {},
     "output_type": "display_data"
    },
    {
     "data": {
      "image/png": "[encoded data removed]",
      "text/plain": [
       "<Figure size 640x480 with 1 Axes>"
      ]
     },
     "metadata": {},
     "output_type": "display_data"
    }
   ],
   "source": [
    "topics_list = [2, 3, 4]\n",
    "coherences = []\n",
    "\n",
    "for num in tqdm(topics_list):\n",
    "    lda_it = LdaModel(corpus, id2word=dictionary, num_topics=num, chunksize=50, update_every=1, passes=4)\n",
    "    coherences.append(CoherenceModel(model=lda_it, texts=train_df['tweet_list'], dictionary=dictionary, coherence='c_v').get_coherence())\n",
    "\n",
    "plt.plot(topics_list, coherences)\n",
    "plt.xlabel(\"Число тем\")\n",
    "plt.ylabel(\"Средняя когерентность\")\n",
    "plt.show()"
   ]
  },
  {
   "cell_type": "markdown",
   "id": "31a0b755",
   "metadata": {},
   "source": [
    "---"
   ]
  },
  {
   "cell_type": "code",
   "execution_count": null,
   "id": "6c7cca91",
   "metadata": {},
   "outputs": [],
   "source": []
  }
 ],
 "metadata": {
  "kernelspec": {
   "display_name": "Python 3 (ipykernel)",
   "language": "python",
   "name": "python3"
  },
  "language_info": {
   "codemirror_mode": {
    "name": "ipython",
    "version": 3
   },
   "file_extension": ".py",
   "mimetype": "text/x-python",
   "name": "python",
   "nbconvert_exporter": "python",
   "pygments_lexer": "ipython3",
   "version": "3.8.13"
  }
 },
 "nbformat": 4,
 "nbformat_minor": 5
}
