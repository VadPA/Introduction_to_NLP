{
 "cells": [
  {
   "cell_type": "code",
   "execution_count": 2,
   "id": "eaa35278",
   "metadata": {},
   "outputs": [],
   "source": [
    "import nltk.data\n",
    "from nltk import pos_tag, word_tokenize\n",
    "from nltk.corpus.reader import WordListCorpusReader"
   ]
  },
  {
   "cell_type": "code",
   "execution_count": 3,
   "id": "228bc855",
   "metadata": {},
   "outputs": [
    {
     "data": {
      "text/plain": [
       "['александр сергеевич пушкин',\n",
       " 'евгений онегин',\n",
       " 'роман в стихах',\n",
       " '1',\n",
       " 'мысля гордый свет забавить',\n",
       " 'вниманье дружбы возлюбя',\n",
       " 'хотел бы я тебе представить',\n",
       " 'залог достойнее тебя',\n",
       " 'достойнее души прекрасной',\n",
       " 'святой исполненной мечты']"
      ]
     },
     "execution_count": 3,
     "metadata": {},
     "output_type": "execute_result"
    }
   ],
   "source": [
    "reader_corpus = WordListCorpusReader('.', ['C:/Users/Вадим/Desktop/GeekBrains/Introduction_to_NLP/Lectures/Lesson_5/russian.txt'])\n",
    "# reader_corpus = WordListCorpusReader('.', ['C:/Users/Вадим/nltk_data/corpus/list.txt'])\n",
    "\n",
    "list_sent = reader_corpus.words()\n",
    "list_sent[:10]"
   ]
  },
  {
   "cell_type": "code",
   "execution_count": 4,
   "id": "3851a9d8",
   "metadata": {},
   "outputs": [],
   "source": [
    "def get_pos(sentens):\n",
    "    res = pos_tag(word_tokenize(sentens), lang='rus')\n",
    "    return res"
   ]
  },
  {
   "cell_type": "code",
   "execution_count": 5,
   "id": "386bd157",
   "metadata": {},
   "outputs": [
    {
     "data": {
      "text/plain": [
       "[[('александр', 'S'), ('сергеевич', 'S'), ('пушкин', 'S')],\n",
       " [('евгений', 'A=m'), ('онегин', 'S')],\n",
       " [('роман', 'S'), ('в', 'PR'), ('стихах', 'S')],\n",
       " [('1', 'NUM=ciph')],\n",
       " [('мысля', 'S'), ('гордый', 'A=m'), ('свет', 'S'), ('забавить', 'V')],\n",
       " [('вниманье', 'S'), ('дружбы', 'S'), ('возлюбя', 'S')],\n",
       " [('хотел', 'V'),\n",
       "  ('бы', 'PART'),\n",
       "  ('я', 'S-PRO'),\n",
       "  ('тебе', 'S-PRO'),\n",
       "  ('представить', 'V')],\n",
       " [('залог', 'S'), ('достойнее', 'A=comp'), ('тебя', 'S-PRO')],\n",
       " [('достойнее', 'A=comp'), ('души', 'S'), ('прекрасной', 'A=f')],\n",
       " [('святой', 'A=f'), ('исполненной', 'A=f'), ('мечты', 'S')]]"
      ]
     },
     "execution_count": 5,
     "metadata": {},
     "output_type": "execute_result"
    }
   ],
   "source": [
    "list_sent_pos = []\n",
    "for el in list_sent:\n",
    "    list_sent_pos.append(get_pos(el))\n",
    "list_sent_pos[:10]"
   ]
  },
  {
   "cell_type": "code",
   "execution_count": 6,
   "id": "1953ac9d",
   "metadata": {},
   "outputs": [
    {
     "data": {
      "text/plain": [
       "[('александр', 'S'),\n",
       " ('сергеевич', 'S'),\n",
       " ('пушкин', 'S'),\n",
       " ('евгений', 'A=m'),\n",
       " ('онегин', 'S'),\n",
       " ('роман', 'S'),\n",
       " ('в', 'PR'),\n",
       " ('стихах', 'S'),\n",
       " ('1', 'NUM=ciph'),\n",
       " ('мысля', 'S')]"
      ]
     },
     "execution_count": 6,
     "metadata": {},
     "output_type": "execute_result"
    }
   ],
   "source": [
    "list_words_pos = []\n",
    "for el in list_sent:\n",
    "    for i in nltk.pos_tag(word_tokenize(el), lang='rus'):\n",
    "        list_words_pos.append(i)\n",
    "list_words_pos[:10]"
   ]
  },
  {
   "cell_type": "code",
   "execution_count": 7,
   "id": "eafb7a83",
   "metadata": {},
   "outputs": [
    {
     "data": {
      "text/plain": [
       "341467"
      ]
     },
     "execution_count": 7,
     "metadata": {},
     "output_type": "execute_result"
    }
   ],
   "source": [
    "len(list_words_pos)"
   ]
  },
  {
   "cell_type": "code",
   "execution_count": 8,
   "id": "be255ec1",
   "metadata": {},
   "outputs": [],
   "source": [
    "from nltk.tag import DefaultTagger\n",
    "from nltk.tag import UnigramTagger\n",
    "from nltk.tag import BigramTagger, TrigramTagger\n",
    "from nltk.tag import RegexpTagger"
   ]
  },
  {
   "cell_type": "code",
   "execution_count": 9,
   "id": "1145c410",
   "metadata": {},
   "outputs": [
    {
     "data": {
      "text/plain": [
       "[('должно', 'A')]"
      ]
     },
     "execution_count": 9,
     "metadata": {},
     "output_type": "execute_result"
    }
   ],
   "source": [
    "train_data = list_sent_pos[:int(len(list_sent_pos) * 0.9)]\n",
    "test_data = list_sent_pos[int(len(list_sent_pos) * 0.9):]\n",
    "test_sent = list_sent_pos[0]\n",
    "test_data[0]"
   ]
  },
  {
   "cell_type": "code",
   "execution_count": 11,
   "id": "b876c799",
   "metadata": {},
   "outputs": [
    {
     "data": {
      "text/plain": [
       "[[('должно', 'A')],\n",
       " [('пронизать', 'V'),\n",
       "  ('насквозь', 'ADV'),\n",
       "  ('скуленье', 'S'),\n",
       "  ('на', 'PR'),\n",
       "  ('мелочность', 'S')],\n",
       " [('высмей', 'V'), ('сейчас', 'ADV-PRO')],\n",
       " [('коммуне', 'ADV')],\n",
       " [('ценен', 'A=m'),\n",
       "  ('гвоздь', 'S'),\n",
       "  ('как', 'CONJ'),\n",
       "  ('тезисы', 'S'),\n",
       "  ('о', 'PR'),\n",
       "  ('коммунизме', 'S'),\n",
       "  ('над', 'PR'),\n",
       "  ('пивом', 'S')],\n",
       " [('нашим', 'A-PRO=pl'), ('юношам', 'S'), ('ли', 'CONJ'), ('склонять', 'V')],\n",
       " [('свои', 'A-PRO=pl'),\n",
       "  ('мысли', 'S'),\n",
       "  ('ракитовые', 'A=pl'),\n",
       "  ('нам', 'S-PRO')],\n",
       " [('пить', 'V')],\n",
       " [('в', 'PR'), ('грядущем', 'S')],\n",
       " [('все', 'A-PRO=pl'),\n",
       "  ('соки', 'S'),\n",
       "  ('земли', 'S'),\n",
       "  ('как', 'CONJ'),\n",
       "  ('чашу', 'S')]]"
      ]
     },
     "execution_count": 11,
     "metadata": {},
     "output_type": "execute_result"
    }
   ],
   "source": [
    "test_data[:10]"
   ]
  },
  {
   "cell_type": "code",
   "execution_count": 12,
   "id": "8a7bcffe",
   "metadata": {},
   "outputs": [],
   "source": [
    "default_tagger = nltk.DefaultTagger('NN')"
   ]
  },
  {
   "cell_type": "code",
   "execution_count": 13,
   "id": "c3c63b30",
   "metadata": {},
   "outputs": [
    {
     "data": {
      "text/plain": [
       "[(('александр', 'S'), 'NN'),\n",
       " (('сергеевич', 'S'), 'NN'),\n",
       " (('пушкин', 'S'), 'NN')]"
      ]
     },
     "execution_count": 13,
     "metadata": {},
     "output_type": "execute_result"
    }
   ],
   "source": [
    "default_tagger.tag(test_sent)"
   ]
  },
  {
   "cell_type": "code",
   "execution_count": 14,
   "id": "a4a193f5",
   "metadata": {},
   "outputs": [
    {
     "name": "stderr",
     "output_type": "stream",
     "text": [
      "C:\\Users\\Вадим\\AppData\\Local\\Temp\\ipykernel_24032\\3415836352.py:1: DeprecationWarning: \n",
      "  Function evaluate() has been deprecated.  Use accuracy(gold)\n",
      "  instead.\n",
      "  default_tagger.evaluate(test_data)\n"
     ]
    },
    {
     "data": {
      "text/plain": [
       "0.0"
      ]
     },
     "execution_count": 14,
     "metadata": {},
     "output_type": "execute_result"
    }
   ],
   "source": [
    "default_tagger.evaluate(test_data)"
   ]
  },
  {
   "cell_type": "code",
   "execution_count": 15,
   "id": "322f4c45",
   "metadata": {},
   "outputs": [
    {
     "name": "stderr",
     "output_type": "stream",
     "text": [
      "C:\\Users\\Вадим\\AppData\\Local\\Temp\\ipykernel_24032\\1335593074.py:1: DeprecationWarning: \n",
      "  Function evaluate() has been deprecated.  Use accuracy(gold)\n",
      "  instead.\n",
      "  display(default_tagger.tag(test_sent), default_tagger.evaluate(test_data))\n"
     ]
    },
    {
     "data": {
      "text/plain": [
       "[(('александр', 'S'), 'NN'),\n",
       " (('сергеевич', 'S'), 'NN'),\n",
       " (('пушкин', 'S'), 'NN')]"
      ]
     },
     "metadata": {},
     "output_type": "display_data"
    },
    {
     "data": {
      "text/plain": [
       "0.0"
      ]
     },
     "metadata": {},
     "output_type": "display_data"
    }
   ],
   "source": [
    "display(default_tagger.tag(test_sent), default_tagger.evaluate(test_data))"
   ]
  },
  {
   "cell_type": "code",
   "execution_count": 16,
   "id": "517fadf6",
   "metadata": {},
   "outputs": [],
   "source": [
    "unigram_tagger = UnigramTagger(train_data)"
   ]
  },
  {
   "cell_type": "code",
   "execution_count": 17,
   "id": "4f4315ac",
   "metadata": {},
   "outputs": [
    {
     "name": "stderr",
     "output_type": "stream",
     "text": [
      "C:\\Users\\Вадим\\AppData\\Local\\Temp\\ipykernel_24032\\1112580513.py:1: DeprecationWarning: \n",
      "  Function evaluate() has been deprecated.  Use accuracy(gold)\n",
      "  instead.\n",
      "  display(unigram_tagger.tag(test_sent), unigram_tagger.evaluate(test_data))\n"
     ]
    },
    {
     "data": {
      "text/plain": [
       "[(('александр', 'S'), None),\n",
       " (('сергеевич', 'S'), None),\n",
       " (('пушкин', 'S'), None)]"
      ]
     },
     "metadata": {},
     "output_type": "display_data"
    },
    {
     "data": {
      "text/plain": [
       "0.7057436776682383"
      ]
     },
     "metadata": {},
     "output_type": "display_data"
    }
   ],
   "source": [
    "display(unigram_tagger.tag(test_sent), unigram_tagger.evaluate(test_data))"
   ]
  },
  {
   "cell_type": "markdown",
   "id": "838d133c",
   "metadata": {},
   "source": [
    "#### BigramTagger"
   ]
  },
  {
   "cell_type": "markdown",
   "id": "7fb6802c",
   "metadata": {},
   "source": [
    "BigramTagger будет учитывает тэги двух слов: текущее и предыдущее слово. Точность немного выше, чем у Unigram tagger."
   ]
  },
  {
   "cell_type": "code",
   "execution_count": 18,
   "id": "3160ba27",
   "metadata": {},
   "outputs": [
    {
     "name": "stderr",
     "output_type": "stream",
     "text": [
      "C:\\Users\\Вадим\\AppData\\Local\\Temp\\ipykernel_24032\\1948416734.py:2: DeprecationWarning: \n",
      "  Function evaluate() has been deprecated.  Use accuracy(gold)\n",
      "  instead.\n",
      "  display(bigram_tagger.tag(test_sent), bigram_tagger.evaluate(test_data))\n"
     ]
    },
    {
     "data": {
      "text/plain": [
       "[(('александр', 'S'), None),\n",
       " (('сергеевич', 'S'), None),\n",
       " (('пушкин', 'S'), None)]"
      ]
     },
     "metadata": {},
     "output_type": "display_data"
    },
    {
     "data": {
      "text/plain": [
       "0.7092798971281612"
      ]
     },
     "metadata": {},
     "output_type": "display_data"
    }
   ],
   "source": [
    "bigram_tagger = BigramTagger(train_data, backoff=unigram_tagger)\n",
    "display(bigram_tagger.tag(test_sent), bigram_tagger.evaluate(test_data))"
   ]
  },
  {
   "cell_type": "markdown",
   "id": "4d08cb7c",
   "metadata": {},
   "source": [
    "#### TrigramTagger"
   ]
  },
  {
   "cell_type": "code",
   "execution_count": 19,
   "id": "e3777707",
   "metadata": {},
   "outputs": [
    {
     "name": "stderr",
     "output_type": "stream",
     "text": [
      "C:\\Users\\Вадим\\AppData\\Local\\Temp\\ipykernel_24032\\2691290041.py:2: DeprecationWarning: \n",
      "  Function evaluate() has been deprecated.  Use accuracy(gold)\n",
      "  instead.\n",
      "  display(trigram_tagger.tag(test_sent), trigram_tagger.evaluate(test_data))\n"
     ]
    },
    {
     "data": {
      "text/plain": [
       "[(('александр', 'S'), None),\n",
       " (('сергеевич', 'S'), None),\n",
       " (('пушкин', 'S'), None)]"
      ]
     },
     "metadata": {},
     "output_type": "display_data"
    },
    {
     "data": {
      "text/plain": [
       "0.7090655807972568"
      ]
     },
     "metadata": {},
     "output_type": "display_data"
    }
   ],
   "source": [
    "trigram_tagger = TrigramTagger(train_data, backoff=bigram_tagger)\n",
    "display(trigram_tagger.tag(test_sent), trigram_tagger.evaluate(test_data))"
   ]
  },
  {
   "cell_type": "code",
   "execution_count": 20,
   "id": "427a5529",
   "metadata": {},
   "outputs": [
    {
     "name": "stderr",
     "output_type": "stream",
     "text": [
      "C:\\Users\\Вадим\\AppData\\Local\\Temp\\ipykernel_24032\\252505076.py:14: DeprecationWarning: \n",
      "  Function evaluate() has been deprecated.  Use accuracy(gold)\n",
      "  instead.\n",
      "  tag.evaluate(test_data)\n"
     ]
    },
    {
     "data": {
      "text/plain": [
       "0.7090655807972568"
      ]
     },
     "execution_count": 20,
     "metadata": {},
     "output_type": "execute_result"
    }
   ],
   "source": [
    "from nltk.tag import TrigramTagger \n",
    "\n",
    "def backoff_tagger(train_sents, tagger_classes, backoff=None):\n",
    "    for cls in tagger_classes:\n",
    "        backoff = cls(train_sents, backoff=backoff)\n",
    "    return backoff\n",
    "\n",
    "\n",
    "backoff = DefaultTagger('NN') \n",
    "tag = backoff_tagger(train_data,  \n",
    "                     [UnigramTagger, BigramTagger, TrigramTagger],  \n",
    "                     backoff = backoff) \n",
    "  \n",
    "tag.evaluate(test_data) "
   ]
  },
  {
   "cell_type": "code",
   "execution_count": null,
   "id": "9ae78264",
   "metadata": {},
   "outputs": [],
   "source": []
  }
 ],
 "metadata": {
  "kernelspec": {
   "display_name": "Python 3 (ipykernel)",
   "language": "python",
   "name": "python3"
  },
  "language_info": {
   "codemirror_mode": {
    "name": "ipython",
    "version": 3
   },
   "file_extension": ".py",
   "mimetype": "text/x-python",
   "name": "python",
   "nbconvert_exporter": "python",
   "pygments_lexer": "ipython3",
   "version": "3.8.13"
  }
 },
 "nbformat": 4,
 "nbformat_minor": 5
}
