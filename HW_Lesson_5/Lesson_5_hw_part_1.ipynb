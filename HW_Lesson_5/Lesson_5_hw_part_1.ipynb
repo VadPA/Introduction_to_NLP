{
 "cells": [
  {
   "cell_type": "code",
   "execution_count": 1,
   "id": "eaa35278",
   "metadata": {},
   "outputs": [],
   "source": [
    "import pandas as pd\n",
    "import numpy as np\n",
    "import re\n",
    "\n",
    "import nltk\n",
    "import nltk.data\n",
    "\n",
    "from nltk.tag import DefaultTagger\n",
    "from nltk.tag import UnigramTagger\n",
    "from nltk.tag import BigramTagger, TrigramTagger\n",
    "from nltk.tag import RegexpTagger\n",
    "\n",
    "from nltk import pos_tag, word_tokenize\n",
    "from nltk.corpus.reader import WordListCorpusReader\n",
    "\n",
    "from corus import load_lenta\n",
    "from tqdm.notebook import tqdm\n",
    "\n",
    "import warnings \n",
    "warnings.filterwarnings(\"ignore\", category=DeprecationWarning)"
   ]
  },
  {
   "cell_type": "code",
   "execution_count": 28,
   "id": "6e00e73e",
   "metadata": {},
   "outputs": [],
   "source": [
    "from nltk.tokenize import sent_tokenize, word_tokenize"
   ]
  },
  {
   "cell_type": "markdown",
   "id": "4ecacb40",
   "metadata": {},
   "source": [
    "#### Создам корпус русского языка на основе новостного портала лента.ру"
   ]
  },
  {
   "cell_type": "code",
   "execution_count": 2,
   "id": "d1b86abf",
   "metadata": {},
   "outputs": [
    {
     "data": {
      "text/html": [
       "<div>\n",
       "<style scoped>\n",
       "    .dataframe tbody tr th:only-of-type {\n",
       "        vertical-align: middle;\n",
       "    }\n",
       "\n",
       "    .dataframe tbody tr th {\n",
       "        vertical-align: top;\n",
       "    }\n",
       "\n",
       "    .dataframe thead th {\n",
       "        text-align: right;\n",
       "    }\n",
       "</style>\n",
       "<table border=\"1\" class=\"dataframe\">\n",
       "  <thead>\n",
       "    <tr style=\"text-align: right;\">\n",
       "      <th></th>\n",
       "      <th>text</th>\n",
       "    </tr>\n",
       "  </thead>\n",
       "  <tbody>\n",
       "    <tr>\n",
       "      <th>422545</th>\n",
       "      <td>Общий объем средств, потраченных россиянами в ...</td>\n",
       "    </tr>\n",
       "    <tr>\n",
       "      <th>265251</th>\n",
       "      <td>Бразильская авиастроительная компания Embraer ...</td>\n",
       "    </tr>\n",
       "    <tr>\n",
       "      <th>18218</th>\n",
       "      <td>Израиль эвакуировал из Сирии активистов «Белых...</td>\n",
       "    </tr>\n",
       "  </tbody>\n",
       "</table>\n",
       "</div>"
      ],
      "text/plain": [
       "                                                     text\n",
       "422545  Общий объем средств, потраченных россиянами в ...\n",
       "265251  Бразильская авиастроительная компания Embraer ...\n",
       "18218   Израиль эвакуировал из Сирии активистов «Белых..."
      ]
     },
     "execution_count": 2,
     "metadata": {},
     "output_type": "execute_result"
    }
   ],
   "source": [
    "path = 'J:/Storage_for_ML/lenta-ru-news.csv.gz'\n",
    "records = load_lenta(path)\n",
    "data = [(record.title, record.topic, record.text, record.tags) for record in records]\n",
    "data = pd.DataFrame(data, columns=['title','topic','text','tags'])\n",
    "data.drop(columns = ['title', 'topic', 'tags'], axis = 1, inplace=True)\n",
    "data = data.sample(frac=0.5)\n",
    "data.sample(3)"
   ]
  },
  {
   "cell_type": "code",
   "execution_count": 5,
   "id": "5ec1fe83",
   "metadata": {},
   "outputs": [
    {
     "data": {
      "text/plain": [
       "'Верховный суд отменил оправдательный приговор по делу об убийстве в подмосковной электричке уроженца Армении Артура Сардаряна, сообщает \"Эхо Москвы\". Адвокаты потерпевших и гособвинитель утверждали, что в суде первой инстанции были нарушены нормы уголовно-процессуального законодательства. Верховный суд признал правоту потерпевших и обвинения и удовлетворил их жалобу. По словам адвоката потерпевших Симона Цатуряна, дело будет направлено на новое рассмотрение в Московский областной суд. 19-летний Артур Сардарян был убит 25 мая 2006 года. Он ехал на электричке домой в Пушкино по Ярославской железной дороге. Когда поезд находился рядом со станцией \"Клязьма\", в вагон вошли зашли двое молодых людей, один из которых подбежал к юноше и с криками \"Слава России!\" со спины нанес ему ножом не менее пяти ударов в голову и шею. Вскоре сотрудники правоохранительных органов задержали одного из нападавших. Против него было возбуждено уголовное дело по пункту \"л\" части 2 статьи 105 Уголовного кодекса (убийство, совершенное по мотивам национальной ненависти). Однако в конце мая 2007 года коллегия присяжных, несмотря на показания свидетелей, оправдала подростка. Второй участник преступления так и не был найден.'"
      ]
     },
     "execution_count": 5,
     "metadata": {},
     "output_type": "execute_result"
    }
   ],
   "source": [
    "data.text.iloc[10]"
   ]
  },
  {
   "cell_type": "markdown",
   "id": "cf8876fc",
   "metadata": {},
   "source": [
    "#### Создам отдельный файл содержащий все новости. это будет мой корпус на русском языке."
   ]
  },
  {
   "cell_type": "code",
   "execution_count": 7,
   "id": "660a2bb5",
   "metadata": {},
   "outputs": [
    {
     "data": {
      "text/plain": [
       "['Челябинский танковый институт, где в начале января 2006 года старослужащие искалечили новобранца, будет расформирован. Как сообщает информационное агентство РИА Новости, об этом заявил журналистам заместитель главнокомандующего Сухопутными войсками генерал-полковник Владимир Молтенской. Однако генерал-полковник утверждает, что расформировано учебное заведение будет только \"в перспективе\". Точной даты он не назвал. Более того, по словам заместителя Главкома, предстоящая ликвидация института никак не связана с издевательствами над новобранцами. Молтенской сказал, что это произойдет в соответствии с общим планом реформирования Российских вооруженных сил. \"Челябинский институт не совсем благополучен в плане профессиональной подготовки будущих офицеров-танкистов, и еще в прошлом году было внесено в план оптимизации вузов Сухопутных войск, который начнет осуществляться с 2006 года. Но после известного чрезвычайного и беспрецедентного происшествия процесс расформирование училища, видимо, будет ускорен\", - приводит информационное агентство \"Интерфакс\" слова Молтенского. Ранее сообщалось, что Генштаб подключился к расследованию обстоятельств происшедшего в институте в начале января.Младшему сержанту Александру Сивякову, издевавшемуся над рядовым Сычевым, предъявлено обвинение по части 3 статьи 286 Уголовного кодекса России (\"Превышение должностных полномочий, повлекшее тяжкие последствия\"). Из-за издевательств солдату были ампутированы ноги.',\n",
       " 'Украинская милиция расценила взрыв в одном из киевских магазинов Roshen как хулиганство, по факту произошедшего возбуждено уголовное дело. Об этом говорится в сообщении, опубликованном на сайте главного управления МВД Украины по столице. В настоящее время ведется розыск лиц, причастных к совершению преступления. Взрыв в магазине, расположенном в Оболонском районе Киева у станции метро «Минская», произошел в ночь на 29 мая. Изначально сообщалось, что в здании начался пожар, однако эта информация не подтвердилась. В результате инцидента были повреждены стены магазина, стеллажи и часть товара. Установлено, что взрывное устройство было заложено между стеной магазина и находящимся на улице кондиционером. Пострадавших нет. Зимой 2015 года на торговые точки предприятия в Киеве была совершена серия нападений. 19 января неизвестные забросали камнями витрину фирменного магазина у станции метро «Позняки». До этого, в период с 3 по 11 января, было совершено еще четыре аналогичных нападения. В Roshen объяснили, что атаки на магазины являются «частью внешнего сценария по дестабилизации ситуации в стране». Roshen, одна из крупнейших кондитерских компаний Украины, принадлежит президенту Петру Порошенко. Перед выборами главы государства он обещал продать свой бизнес в случае победы. Однако к концу 2014 года компания так и не получила новых владельцев. В декабре Порошенко заявлял, что Roshen могут продать менеджменту, если других покупателей не найдется. ',\n",
       " 'Подразделения британских вооруженных сил, занимающиеся разведывательной деятельностью, испытывают жесткий кадровый голод, сообщает AFP со ссылкой на статью в газете The Daily Telegraph, опубликованную в понедельник. По данным издания, за последние три года из подразделений, чья деятельность связана с разведкой, уволилась пятая часть сотрудников. Квалифицированные специалисты предпочли сменить службу в армии на значительно более высокооплачиваемую работу в частных компания, занимающихся обеспечением безопасности. Сложившаяся ситуация, пишет газета, привела к тому, что в разведывательных подразделениях служат люди, не имеющие для этого достаточной квалификации. Для того, чтобы сократить утечку кадров, по данным The Daily Telegraph, министерство обороны Великобритании готово ввести в действие систему денежных поощрений. Так военнослужащим, продлевающим свой контракт на дополнительные три года, собираются выплачивать бонус в размере 50 тысяч фунтов стерлингов (около 100 тысяч долларов США). Официальный представитель оборонного ведомства Великобритании, информацию о системе денежных вознаграждений как-либо прокомментировать отказался, но признал, что военная разведка действительно испытывает недостаток квалифицированных кадров. \"В некоторых подразделениях, имеющих стратегически важное значение, действительно высокая текучка кадров, - сказал он, - Однако мы внимательно следим за ситуацией и делаем все возможное для того, чтобы у нас работали высококвалифицированные специалисты\".']"
      ]
     },
     "execution_count": 7,
     "metadata": {},
     "output_type": "execute_result"
    }
   ],
   "source": [
    "data_sent = [el for el in data.text]\n",
    "data_sent[:3]"
   ]
  },
  {
   "cell_type": "code",
   "execution_count": 8,
   "id": "ac4ae49c",
   "metadata": {},
   "outputs": [],
   "source": [
    "count = 0\n",
    "with open('C:/Users/Вадим/nltk_data/corpora/data.txt', \"w\", encoding='utf-8') as file:\n",
    "    for el in data_sent:\n",
    "        print(el, file=file, sep=\"\\n\")"
   ]
  },
  {
   "cell_type": "code",
   "execution_count": 9,
   "id": "6c3c475d",
   "metadata": {},
   "outputs": [],
   "source": [
    "with open('C:/Users/Вадим/nltk_data/corpora/data.txt', \"r\", encoding='utf-8') as file:\n",
    "    list_sent = [line.rstrip() for line in file if line]"
   ]
  },
  {
   "cell_type": "code",
   "execution_count": 72,
   "id": "004b88f5",
   "metadata": {},
   "outputs": [
    {
     "data": {
      "text/plain": [
       "['Челябинский танковый институт, где в начале января 2006 года старослужащие искалечили новобранца, будет расформирован. Как сообщает информационное агентство РИА Новости, об этом заявил журналистам заместитель главнокомандующего Сухопутными войсками генерал-полковник Владимир Молтенской. Однако генерал-полковник утверждает, что расформировано учебное заведение будет только \"в перспективе\". Точной даты он не назвал. Более того, по словам заместителя Главкома, предстоящая ликвидация института никак не связана с издевательствами над новобранцами. Молтенской сказал, что это произойдет в соответствии с общим планом реформирования Российских вооруженных сил. \"Челябинский институт не совсем благополучен в плане профессиональной подготовки будущих офицеров-танкистов, и еще в прошлом году было внесено в план оптимизации вузов Сухопутных войск, который начнет осуществляться с 2006 года. Но после известного чрезвычайного и беспрецедентного происшествия процесс расформирование училища, видимо, будет ускорен\", - приводит информационное агентство \"Интерфакс\" слова Молтенского. Ранее сообщалось, что Генштаб подключился к расследованию обстоятельств происшедшего в институте в начале января.Младшему сержанту Александру Сивякову, издевавшемуся над рядовым Сычевым, предъявлено обвинение по части 3 статьи 286 Уголовного кодекса России (\"Превышение должностных полномочий, повлекшее тяжкие последствия\"). Из-за издевательств солдату были ампутированы ноги.']"
      ]
     },
     "execution_count": 72,
     "metadata": {},
     "output_type": "execute_result"
    }
   ],
   "source": [
    "list_sent[:1]"
   ]
  },
  {
   "cell_type": "code",
   "execution_count": 92,
   "id": "e02a2f20",
   "metadata": {},
   "outputs": [],
   "source": [
    "reader_corpus = WordListCorpusReader('.', ['C:/Users/Вадим/nltk_data/corpora/data.txt'])"
   ]
  },
  {
   "cell_type": "markdown",
   "id": "12cbad5d",
   "metadata": {},
   "source": [
    "---"
   ]
  },
  {
   "cell_type": "code",
   "execution_count": 14,
   "id": "9f723b71",
   "metadata": {},
   "outputs": [],
   "source": [
    "from nltk.corpus.reader.plaintext import PlaintextCorpusReader"
   ]
  },
  {
   "cell_type": "code",
   "execution_count": 15,
   "id": "b34b0a51",
   "metadata": {},
   "outputs": [],
   "source": [
    "corpus_root = 'C:/Users/Вадим/nltk_data/corpora/'\n",
    "newcorpus = PlaintextCorpusReader(corpus_root, '.*')"
   ]
  },
  {
   "cell_type": "code",
   "execution_count": 18,
   "id": "e41ae4fb",
   "metadata": {},
   "outputs": [],
   "source": [
    "no_of_words_corpus = len(newcorpus.words(\"data.txt\"))"
   ]
  },
  {
   "cell_type": "code",
   "execution_count": 19,
   "id": "394b0a10",
   "metadata": {},
   "outputs": [
    {
     "data": {
      "text/plain": [
       "81228431"
      ]
     },
     "execution_count": 19,
     "metadata": {},
     "output_type": "execute_result"
    }
   ],
   "source": [
    "no_of_words_corpus"
   ]
  },
  {
   "cell_type": "markdown",
   "id": "ab9544e3",
   "metadata": {},
   "source": [
    "---"
   ]
  },
  {
   "cell_type": "code",
   "execution_count": 22,
   "id": "3851a9d8",
   "metadata": {},
   "outputs": [],
   "source": [
    "def get_pos(sentens):\n",
    "    res = pos_tag(word_tokenize(sentens), lang='rus')\n",
    "    return res"
   ]
  },
  {
   "cell_type": "code",
   "execution_count": 83,
   "id": "386bd157",
   "metadata": {},
   "outputs": [],
   "source": [
    "list_sent_pos = []\n",
    "for el in list_sent:\n",
    "    list_sent_pos.append(get_pos(el))"
   ]
  },
  {
   "cell_type": "code",
   "execution_count": 82,
   "id": "f596ce00",
   "metadata": {},
   "outputs": [
    {
     "data": {
      "text/plain": [
       "[[('Челябинский', 'A=m'),\n",
       "  ('танковый', 'A=m'),\n",
       "  ('институт', 'S'),\n",
       "  (',', 'NONLEX'),\n",
       "  ('где', 'ADV-PRO'),\n",
       "  ('в', 'PR'),\n",
       "  ('начале', 'S'),\n",
       "  ('января', 'S'),\n",
       "  ('2006', 'NUM=ciph'),\n",
       "  ('года', 'S'),\n",
       "  ('старослужащие', 'V'),\n",
       "  ('искалечили', 'V'),\n",
       "  ('новобранца', 'S'),\n",
       "  (',', 'NONLEX'),\n",
       "  ('будет', 'V'),\n",
       "  ('расформирован', 'V'),\n",
       "  ('.', 'NONLEX'),\n",
       "  ('Как', 'ADV-PRO'),\n",
       "  ('сообщает', 'V'),\n",
       "  ('информационное', 'A=n'),\n",
       "  ('агентство', 'S'),\n",
       "  ('РИА', 'S'),\n",
       "  ('Новости', 'S'),\n",
       "  (',', 'NONLEX'),\n",
       "  ('об', 'PR'),\n",
       "  ('этом', 'S-PRO'),\n",
       "  ('заявил', 'V'),\n",
       "  ('журналистам', 'S'),\n",
       "  ('заместитель', 'S'),\n",
       "  ('главнокомандующего', 'V'),\n",
       "  ('Сухопутными', 'A=pl'),\n",
       "  ('войсками', 'S'),\n",
       "  ('генерал-полковник', 'S'),\n",
       "  ('Владимир', 'S'),\n",
       "  ('Молтенской', 'S'),\n",
       "  ('.', 'NONLEX'),\n",
       "  ('Однако', 'CONJ'),\n",
       "  ('генерал-полковник', 'S'),\n",
       "  ('утверждает', 'V'),\n",
       "  (',', 'NONLEX'),\n",
       "  ('что', 'CONJ'),\n",
       "  ('расформировано', 'V'),\n",
       "  ('учебное', 'A=n'),\n",
       "  ('заведение', 'S'),\n",
       "  ('будет', 'V'),\n",
       "  ('только', 'PART'),\n",
       "  ('``', 'S'),\n",
       "  ('в', 'PR'),\n",
       "  ('перспективе', 'S'),\n",
       "  (\"''\", 'NONLEX'),\n",
       "  ('.', 'NONLEX'),\n",
       "  ('Точной', 'A=f'),\n",
       "  ('даты', 'S'),\n",
       "  ('он', 'S-PRO'),\n",
       "  ('не', 'PART'),\n",
       "  ('назвал', 'V'),\n",
       "  ('.', 'NONLEX'),\n",
       "  ('Более', 'ADV'),\n",
       "  ('того', 'S-PRO'),\n",
       "  (',', 'NONLEX'),\n",
       "  ('по', 'PR'),\n",
       "  ('словам', 'S'),\n",
       "  ('заместителя', 'S'),\n",
       "  ('Главкома', 'S'),\n",
       "  (',', 'NONLEX'),\n",
       "  ('предстоящая', 'V'),\n",
       "  ('ликвидация', 'S'),\n",
       "  ('института', 'S'),\n",
       "  ('никак', 'ADV-PRO'),\n",
       "  ('не', 'PART'),\n",
       "  ('связана', 'V'),\n",
       "  ('с', 'PR'),\n",
       "  ('издевательствами', 'S'),\n",
       "  ('над', 'PR'),\n",
       "  ('новобранцами', 'S'),\n",
       "  ('.', 'NONLEX'),\n",
       "  ('Молтенской', 'S'),\n",
       "  ('сказал', 'V'),\n",
       "  (',', 'NONLEX'),\n",
       "  ('что', 'CONJ'),\n",
       "  ('это', 'S-PRO'),\n",
       "  ('произойдет', 'V'),\n",
       "  ('в', 'PR'),\n",
       "  ('соответствии', 'S'),\n",
       "  ('с', 'PR'),\n",
       "  ('общим', 'A=m'),\n",
       "  ('планом', 'S'),\n",
       "  ('реформирования', 'S'),\n",
       "  ('Российских', 'A=pl'),\n",
       "  ('вооруженных', 'A=pl'),\n",
       "  ('сил', 'S'),\n",
       "  ('.', 'NONLEX'),\n",
       "  ('``', 'NONLEX'),\n",
       "  ('Челябинский', 'A=m'),\n",
       "  ('институт', 'S'),\n",
       "  ('не', 'PART'),\n",
       "  ('совсем', 'ADV'),\n",
       "  ('благополучен', 'A=m'),\n",
       "  ('в', 'PR'),\n",
       "  ('плане', 'S'),\n",
       "  ('профессиональной', 'A=f'),\n",
       "  ('подготовки', 'S'),\n",
       "  ('будущих', 'A=pl'),\n",
       "  ('офицеров-танкистов', 'S'),\n",
       "  (',', 'NONLEX'),\n",
       "  ('и', 'CONJ'),\n",
       "  ('еще', 'ADV'),\n",
       "  ('в', 'PR'),\n",
       "  ('прошлом', 'A=m'),\n",
       "  ('году', 'S'),\n",
       "  ('было', 'V'),\n",
       "  ('внесено', 'V'),\n",
       "  ('в', 'PR'),\n",
       "  ('план', 'S'),\n",
       "  ('оптимизации', 'S'),\n",
       "  ('вузов', 'S'),\n",
       "  ('Сухопутных', 'A=pl'),\n",
       "  ('войск', 'S'),\n",
       "  (',', 'NONLEX'),\n",
       "  ('который', 'A-PRO=m'),\n",
       "  ('начнет', 'V'),\n",
       "  ('осуществляться', 'V'),\n",
       "  ('с', 'PR'),\n",
       "  ('2006', 'NUM=ciph'),\n",
       "  ('года', 'S'),\n",
       "  ('.', 'NONLEX'),\n",
       "  ('Но', 'CONJ'),\n",
       "  ('после', 'PR'),\n",
       "  ('известного', 'A=m'),\n",
       "  ('чрезвычайного', 'A=m'),\n",
       "  ('и', 'CONJ'),\n",
       "  ('беспрецедентного', 'A=n'),\n",
       "  ('происшествия', 'S'),\n",
       "  ('процесс', 'S'),\n",
       "  ('расформирование', 'S'),\n",
       "  ('училища', 'S'),\n",
       "  (',', 'NONLEX'),\n",
       "  ('видимо', 'PARENTH'),\n",
       "  (',', 'NONLEX'),\n",
       "  ('будет', 'V'),\n",
       "  ('ускорен', 'A=m'),\n",
       "  (\"''\", 'S'),\n",
       "  (',', 'NONLEX'),\n",
       "  ('-', 'NONLEX'),\n",
       "  ('приводит', 'V'),\n",
       "  ('информационное', 'A=n'),\n",
       "  ('агентство', 'S'),\n",
       "  ('``', 'S'),\n",
       "  ('Интерфакс', 'S'),\n",
       "  (\"''\", 'NONLEX'),\n",
       "  ('слова', 'S'),\n",
       "  ('Молтенского', 'A=m'),\n",
       "  ('.', 'NONLEX'),\n",
       "  ('Ранее', 'ADV'),\n",
       "  ('сообщалось', 'V'),\n",
       "  (',', 'NONLEX'),\n",
       "  ('что', 'CONJ'),\n",
       "  ('Генштаб', 'S'),\n",
       "  ('подключился', 'V'),\n",
       "  ('к', 'PR'),\n",
       "  ('расследованию', 'S'),\n",
       "  ('обстоятельств', 'S'),\n",
       "  ('происшедшего', 'V'),\n",
       "  ('в', 'PR'),\n",
       "  ('институте', 'S'),\n",
       "  ('в', 'PR'),\n",
       "  ('начале', 'S'),\n",
       "  ('января.Младшему', 'A=m'),\n",
       "  ('сержанту', 'S'),\n",
       "  ('Александру', 'S'),\n",
       "  ('Сивякову', 'S'),\n",
       "  (',', 'NONLEX'),\n",
       "  ('издевавшемуся', 'V'),\n",
       "  ('над', 'PR'),\n",
       "  ('рядовым', 'S'),\n",
       "  ('Сычевым', 'S'),\n",
       "  (',', 'NONLEX'),\n",
       "  ('предъявлено', 'V'),\n",
       "  ('обвинение', 'S'),\n",
       "  ('по', 'PR'),\n",
       "  ('части', 'S'),\n",
       "  ('3', 'NUM=ciph'),\n",
       "  ('статьи', 'S'),\n",
       "  ('286', 'NUM=ciph'),\n",
       "  ('Уголовного', 'A=m'),\n",
       "  ('кодекса', 'S'),\n",
       "  ('России', 'S'),\n",
       "  ('(', 'NONLEX'),\n",
       "  ('``', 'NONLEX'),\n",
       "  ('Превышение', 'S'),\n",
       "  ('должностных', 'A=pl'),\n",
       "  ('полномочий', 'S'),\n",
       "  (',', 'NONLEX'),\n",
       "  ('повлекшее', 'V'),\n",
       "  ('тяжкие', 'A=pl'),\n",
       "  ('последствия', 'S'),\n",
       "  (\"''\", 'NONLEX'),\n",
       "  (')', 'NONLEX'),\n",
       "  ('.', 'NONLEX'),\n",
       "  ('Из-за', 'PR'),\n",
       "  ('издевательств', 'S'),\n",
       "  ('солдату', 'S'),\n",
       "  ('были', 'V'),\n",
       "  ('ампутированы', 'V'),\n",
       "  ('ноги', 'S'),\n",
       "  ('.', 'NONLEX')]]"
      ]
     },
     "execution_count": 82,
     "metadata": {},
     "output_type": "execute_result"
    }
   ],
   "source": [
    "list_sent_pos[:1]"
   ]
  },
  {
   "cell_type": "markdown",
   "id": "542ead78",
   "metadata": {},
   "source": [
    "Сохраним размеченный POS корпус в файл, для дальнейшего использования."
   ]
  },
  {
   "cell_type": "code",
   "execution_count": 24,
   "id": "7c978f84",
   "metadata": {},
   "outputs": [],
   "source": [
    "import json\n",
    "\n",
    "# открываем выходной файл для записи\n",
    "with open('data_pos.txt', 'w') as filehandle:  \n",
    "    json.dump(list_sent_pos, filehandle, indent=4)"
   ]
  },
  {
   "cell_type": "markdown",
   "id": "68dad54a",
   "metadata": {},
   "source": [
    "Разделим на тест и трэйн"
   ]
  },
  {
   "cell_type": "code",
   "execution_count": 25,
   "id": "ae779c1d",
   "metadata": {},
   "outputs": [
    {
     "data": {
      "text/plain": [
       "[('Краснодарский', 'A=m'),\n",
       " ('офис', 'S'),\n",
       " ('Альфа-банка', 'S'),\n",
       " ('заблокировал', 'V'),\n",
       " ('семь', 'NUM=acc'),\n",
       " ('тысяч', 'S'),\n",
       " ('банковских', 'A=pl'),\n",
       " ('карт', 'S'),\n",
       " ('из-за', 'PR'),\n",
       " ('кражи', 'S'),\n",
       " ('PIN-кодов', 'S'),\n",
       " ('.', 'NONLEX'),\n",
       " ('Об', 'PR'),\n",
       " ('этом', 'S-PRO'),\n",
       " ('сообщает', 'V'),\n",
       " ('РИА', 'S'),\n",
       " ('Новости', 'S'),\n",
       " ('со', 'PR'),\n",
       " ('ссылкой', 'S'),\n",
       " ('на', 'PR'),\n",
       " ('пресс-службу', 'S'),\n",
       " ('кредитной', 'A=f'),\n",
       " ('организации', 'S'),\n",
       " ('.', 'NONLEX'),\n",
       " ('В', 'PR'),\n",
       " ('Альфа-банке', 'S'),\n",
       " ('пояснили', 'V'),\n",
       " (',', 'NONLEX'),\n",
       " ('что', 'CONJ'),\n",
       " ('PIN-коды', 'S'),\n",
       " ('стали', 'V'),\n",
       " ('известны', 'A=pl'),\n",
       " ('мошенникам', 'S'),\n",
       " (',', 'NONLEX'),\n",
       " ('и', 'CONJ'),\n",
       " ('за', 'PR'),\n",
       " ('счет', 'S'),\n",
       " ('блокировки', 'S'),\n",
       " ('карт', 'S'),\n",
       " ('``', 'S'),\n",
       " ('была', 'V'),\n",
       " ('предотвращена', 'V'),\n",
       " ('попытка', 'S'),\n",
       " ('массового', 'A=n'),\n",
       " ('изъятия', 'S'),\n",
       " ('денежных', 'A=pl'),\n",
       " ('средств', 'S'),\n",
       " ('со', 'PR'),\n",
       " ('счетов', 'S'),\n",
       " ('клиентов', 'S'),\n",
       " (\"''\", 'NONLEX'),\n",
       " ('.', 'NONLEX'),\n",
       " ('Предположительно', 'ADV'),\n",
       " (',', 'NONLEX'),\n",
       " ('кража', 'S'),\n",
       " ('данных', 'S'),\n",
       " ('произошла', 'V'),\n",
       " ('в', 'PR'),\n",
       " ('банкоматной', 'A=f'),\n",
       " ('сети', 'S'),\n",
       " ('одного', 'A-PRO=m'),\n",
       " ('из', 'PR'),\n",
       " ('банков', 'S'),\n",
       " ('в', 'PR'),\n",
       " ('Краснодаре', 'S'),\n",
       " ('.', 'NONLEX'),\n",
       " ('Все', 'S-PRO'),\n",
       " ('карты', 'S'),\n",
       " (',', 'NONLEX'),\n",
       " ('PIN-коды', 'NONLEX'),\n",
       " ('которых', 'A-PRO=pl'),\n",
       " ('были', 'V'),\n",
       " ('украдены', 'V'),\n",
       " (',', 'NONLEX'),\n",
       " ('будут', 'V'),\n",
       " ('бесплатно', 'ADV'),\n",
       " ('заменены', 'V'),\n",
       " ('.', 'NONLEX'),\n",
       " ('По', 'PR'),\n",
       " ('словам', 'S'),\n",
       " ('управляющего', 'V'),\n",
       " ('операционным', 'A=m'),\n",
       " ('офисом', 'S'),\n",
       " ('Альфа-банка', 'S'),\n",
       " ('``', 'NONLEX'),\n",
       " ('Краснодарский', 'A=m'),\n",
       " (\"''\", 'S'),\n",
       " ('Михаила', 'S'),\n",
       " ('Волкова', 'S'),\n",
       " (',', 'NONLEX'),\n",
       " ('организация', 'S'),\n",
       " ('пошла', 'V'),\n",
       " ('на', 'PR'),\n",
       " ('расходы', 'S'),\n",
       " (',', 'NONLEX'),\n",
       " ('связанные', 'V'),\n",
       " ('с', 'PR'),\n",
       " ('заменой', 'S'),\n",
       " ('карт', 'S'),\n",
       " (',', 'NONLEX'),\n",
       " ('поскольку', 'CONJ'),\n",
       " ('приоритетом', 'S'),\n",
       " ('для', 'PR'),\n",
       " ('банка', 'S'),\n",
       " ('являются', 'V'),\n",
       " ('сохранность', 'S'),\n",
       " ('и', 'CONJ'),\n",
       " ('безопасность', 'S'),\n",
       " ('средств', 'S'),\n",
       " ('клиентов', 'S'),\n",
       " ('.', 'NONLEX'),\n",
       " ('Альфа-банк', 'S'),\n",
       " ('входит', 'V'),\n",
       " ('в', 'PR'),\n",
       " ('пятерку', 'S'),\n",
       " ('крупнейших', 'A=pl'),\n",
       " ('российских', 'A=pl'),\n",
       " ('финансовых', 'A=pl'),\n",
       " ('организаций', 'S'),\n",
       " ('по', 'PR'),\n",
       " ('объему', 'V'),\n",
       " ('активов', 'S'),\n",
       " ('и', 'CONJ'),\n",
       " ('является', 'V'),\n",
       " ('крупнейшим', 'A=m'),\n",
       " ('частным', 'A=m'),\n",
       " ('банком', 'S'),\n",
       " ('страны', 'S'),\n",
       " ('.', 'NONLEX'),\n",
       " ('По', 'PR'),\n",
       " ('итогам', 'S'),\n",
       " ('первой', 'ANUM=f'),\n",
       " ('половины', 'S'),\n",
       " ('2010', 'NUM=ciph'),\n",
       " ('года', 'S'),\n",
       " ('совокупные', 'A=pl'),\n",
       " ('активы', 'S'),\n",
       " ('финансовой', 'A=f'),\n",
       " ('группы', 'S'),\n",
       " ('Альфа-банк', 'S'),\n",
       " ('составили', 'V'),\n",
       " ('22,6', 'NUM=ciph'),\n",
       " ('миллиарда', 'S'),\n",
       " ('долларов', 'S'),\n",
       " ('.', 'NONLEX'),\n",
       " ('Банк', 'S'),\n",
       " (',', 'NONLEX'),\n",
       " ('основанный', 'V'),\n",
       " ('в', 'PR'),\n",
       " ('1990', 'NUM=ciph'),\n",
       " ('году', 'S'),\n",
       " (',', 'NONLEX'),\n",
       " ('входит', 'V'),\n",
       " ('в', 'PR'),\n",
       " ('``', 'S'),\n",
       " ('Альфу-групп', 'S'),\n",
       " (\"''\", 'NONLEX'),\n",
       " (',', 'NONLEX'),\n",
       " ('основными', 'A=pl'),\n",
       " ('владельцами', 'S'),\n",
       " ('которой', 'A-PRO=f'),\n",
       " ('являются', 'V'),\n",
       " ('Герман', 'S'),\n",
       " ('Хан', 'S'),\n",
       " ('и', 'CONJ'),\n",
       " ('Михаил', 'S'),\n",
       " ('Фридман', 'S'),\n",
       " ('.', 'NONLEX')]"
      ]
     },
     "execution_count": 25,
     "metadata": {},
     "output_type": "execute_result"
    }
   ],
   "source": [
    "train_data = list_sent_pos[:int(len(list_sent_pos) * 0.9)]\n",
    "test_data = list_sent_pos[int(len(list_sent_pos) * 0.9):]\n",
    "test_sent = list_sent_pos[0]\n",
    "test_data[0]"
   ]
  },
  {
   "cell_type": "markdown",
   "id": "ec5cc23c",
   "metadata": {},
   "source": [
    "### DefaultTagger"
   ]
  },
  {
   "cell_type": "code",
   "execution_count": 84,
   "id": "3d17b1b2",
   "metadata": {},
   "outputs": [
    {
     "data": {
      "text/plain": [
       "0.35801745348901615"
      ]
     },
     "execution_count": 84,
     "metadata": {},
     "output_type": "execute_result"
    }
   ],
   "source": [
    "default_tagger = nltk.DefaultTagger('S')\n",
    "default_tagger.evaluate(test_data)"
   ]
  },
  {
   "cell_type": "markdown",
   "id": "24c161d4",
   "metadata": {},
   "source": [
    "### UnigramTagger"
   ]
  },
  {
   "cell_type": "code",
   "execution_count": 36,
   "id": "85d5b9f5",
   "metadata": {},
   "outputs": [],
   "source": [
    "unigram_tagger = UnigramTagger(train_data)"
   ]
  },
  {
   "cell_type": "code",
   "execution_count": 80,
   "id": "d52a209e",
   "metadata": {},
   "outputs": [
    {
     "data": {
      "text/plain": [
       "0.9570454424118258"
      ]
     },
     "execution_count": 80,
     "metadata": {},
     "output_type": "execute_result"
    }
   ],
   "source": [
    "unigram_tagger.evaluate(test_data)"
   ]
  },
  {
   "cell_type": "markdown",
   "id": "4cc2c549",
   "metadata": {},
   "source": [
    "### BigramTagger"
   ]
  },
  {
   "cell_type": "code",
   "execution_count": 81,
   "id": "ae587030",
   "metadata": {},
   "outputs": [
    {
     "data": {
      "text/plain": [
       "0.9625920395416037"
      ]
     },
     "execution_count": 81,
     "metadata": {},
     "output_type": "execute_result"
    }
   ],
   "source": [
    "bigram_tagger = BigramTagger(train_data, backoff=unigram_tagger)\n",
    "bigram_tagger.evaluate(test_data)"
   ]
  },
  {
   "cell_type": "markdown",
   "id": "99fbdc3d",
   "metadata": {},
   "source": [
    "### TrigramTagger"
   ]
  },
  {
   "cell_type": "code",
   "execution_count": 85,
   "id": "539b6fec",
   "metadata": {},
   "outputs": [],
   "source": [
    "trigram_tagger = TrigramTagger(train_data, backoff=bigram_tagger)"
   ]
  },
  {
   "cell_type": "code",
   "execution_count": 86,
   "id": "890bf0d5",
   "metadata": {},
   "outputs": [
    {
     "data": {
      "text/plain": [
       "0.9643195841189929"
      ]
     },
     "execution_count": 86,
     "metadata": {},
     "output_type": "execute_result"
    }
   ],
   "source": [
    "trigram_tagger.evaluate(test_data)"
   ]
  },
  {
   "cell_type": "markdown",
   "id": "cdcd155b",
   "metadata": {},
   "source": [
    "### Combination of taggers"
   ]
  },
  {
   "cell_type": "code",
   "execution_count": 77,
   "id": "d50edb25",
   "metadata": {},
   "outputs": [],
   "source": [
    "def backoff_tagger(train_sents, tagger_classes, backoff=None):\n",
    "    for cls in tagger_classes:\n",
    "        backoff = cls(train_sents, backoff=backoff)\n",
    "    return backoff"
   ]
  },
  {
   "cell_type": "code",
   "execution_count": 78,
   "id": "5e563d5b",
   "metadata": {},
   "outputs": [],
   "source": [
    "backoff = DefaultTagger('S') \n",
    "tag = backoff_tagger(train_data,  \n",
    "                     [UnigramTagger, BigramTagger, TrigramTagger],  \n",
    "                     backoff = backoff) "
   ]
  },
  {
   "cell_type": "code",
   "execution_count": 79,
   "id": "8f856d0d",
   "metadata": {},
   "outputs": [
    {
     "data": {
      "text/plain": [
       "0.9686610135436644"
      ]
     },
     "execution_count": 79,
     "metadata": {},
     "output_type": "execute_result"
    }
   ],
   "source": [
    "tag.evaluate(test_data) "
   ]
  },
  {
   "cell_type": "markdown",
   "id": "6c6b9112",
   "metadata": {},
   "source": [
    "### Протестируем обученные теггеры на другом тексте (не от новостного портала) и сравним результаты."
   ]
  },
  {
   "cell_type": "code",
   "execution_count": 73,
   "id": "00f3278b",
   "metadata": {},
   "outputs": [],
   "source": [
    "reader_corpus_test = WordListCorpusReader('.', ['russian.txt'])"
   ]
  },
  {
   "cell_type": "code",
   "execution_count": 66,
   "id": "5d8339b7",
   "metadata": {},
   "outputs": [
    {
     "data": {
      "text/plain": [
       "['александр сергеевич пушкин',\n",
       " 'евгений онегин',\n",
       " 'роман в стихах',\n",
       " '1',\n",
       " 'мысля гордый свет забавить']"
      ]
     },
     "execution_count": 66,
     "metadata": {},
     "output_type": "execute_result"
    }
   ],
   "source": [
    "list_sent_test = reader_corpus_test.words()\n",
    "list_sent_test[:5]"
   ]
  },
  {
   "cell_type": "code",
   "execution_count": 67,
   "id": "bcdb33e6",
   "metadata": {
    "scrolled": true
   },
   "outputs": [
    {
     "data": {
      "text/plain": [
       "[[('александр', 'S'), ('сергеевич', 'S'), ('пушкин', 'S')],\n",
       " [('евгений', 'A=m'), ('онегин', 'S')],\n",
       " [('роман', 'S'), ('в', 'PR'), ('стихах', 'S')],\n",
       " [('1', 'NUM=ciph')],\n",
       " [('мысля', 'S'), ('гордый', 'A=m'), ('свет', 'S'), ('забавить', 'V')]]"
      ]
     },
     "execution_count": 67,
     "metadata": {},
     "output_type": "execute_result"
    }
   ],
   "source": [
    "list_sent_pos_test = []\n",
    "for el in list_sent_test:\n",
    "    list_sent_pos_test.append(get_pos(el))\n",
    "list_sent_pos_test[:5]"
   ]
  },
  {
   "cell_type": "markdown",
   "id": "f925e36f",
   "metadata": {},
   "source": [
    "### DefaultTagger"
   ]
  },
  {
   "cell_type": "code",
   "execution_count": 68,
   "id": "ffe3090e",
   "metadata": {},
   "outputs": [
    {
     "data": {
      "text/plain": [
       "[(('александр', 'S'), 'S'), (('сергеевич', 'S'), 'S'), (('пушкин', 'S'), 'S')]"
      ]
     },
     "metadata": {},
     "output_type": "display_data"
    },
    {
     "data": {
      "text/plain": [
       "0.292742783343632"
      ]
     },
     "metadata": {},
     "output_type": "display_data"
    }
   ],
   "source": [
    "display(default_tagger.tag(list_sent_pos_test[0]), default_tagger.evaluate(list_sent_pos_test))"
   ]
  },
  {
   "cell_type": "markdown",
   "id": "e7781546",
   "metadata": {},
   "source": [
    "### UnigramTagger"
   ]
  },
  {
   "cell_type": "code",
   "execution_count": 69,
   "id": "02a89212",
   "metadata": {},
   "outputs": [
    {
     "data": {
      "text/plain": [
       "[(('александр', 'S'), None),\n",
       " (('сергеевич', 'S'), None),\n",
       " (('пушкин', 'S'), None)]"
      ]
     },
     "metadata": {},
     "output_type": "display_data"
    },
    {
     "data": {
      "text/plain": [
       "0.8216050160044748"
      ]
     },
     "metadata": {},
     "output_type": "display_data"
    }
   ],
   "source": [
    "display(unigram_tagger.tag(list_sent_pos_test[0]), unigram_tagger.evaluate(list_sent_pos_test))"
   ]
  },
  {
   "cell_type": "markdown",
   "id": "f2551c5c",
   "metadata": {},
   "source": [
    "### BigramTagger"
   ]
  },
  {
   "cell_type": "code",
   "execution_count": 70,
   "id": "7b98977d",
   "metadata": {},
   "outputs": [
    {
     "data": {
      "text/plain": [
       "[(('александр', 'S'), None),\n",
       " (('сергеевич', 'S'), None),\n",
       " (('пушкин', 'S'), None)]"
      ]
     },
     "metadata": {},
     "output_type": "display_data"
    },
    {
     "data": {
      "text/plain": [
       "0.8270345304231449"
      ]
     },
     "metadata": {},
     "output_type": "display_data"
    }
   ],
   "source": [
    "display(bigram_tagger.tag(list_sent_pos_test[0]), bigram_tagger.evaluate(list_sent_pos_test))"
   ]
  },
  {
   "cell_type": "markdown",
   "id": "5806c9ad",
   "metadata": {},
   "source": [
    "### TrigramTagger"
   ]
  },
  {
   "cell_type": "code",
   "execution_count": 71,
   "id": "45473270",
   "metadata": {},
   "outputs": [
    {
     "data": {
      "text/plain": [
       "[(('александр', 'S'), None),\n",
       " (('сергеевич', 'S'), None),\n",
       " (('пушкин', 'S'), None)]"
      ]
     },
     "metadata": {},
     "output_type": "display_data"
    },
    {
     "data": {
      "text/plain": [
       "0.8272453853520252"
      ]
     },
     "metadata": {},
     "output_type": "display_data"
    }
   ],
   "source": [
    "display(trigram_tagger.tag(list_sent_pos_test[0]), trigram_tagger.evaluate(list_sent_pos_test))"
   ]
  },
  {
   "cell_type": "markdown",
   "id": "fce2a3a8",
   "metadata": {},
   "source": [
    "### Combination of taggers"
   ]
  },
  {
   "cell_type": "code",
   "execution_count": null,
   "id": "32abb0a6",
   "metadata": {},
   "outputs": [],
   "source": [
    "backoff = DefaultTagger('S') \n",
    "tag = backoff_tagger(train_data,  \n",
    "                     [UnigramTagger, BigramTagger, TrigramTagger],  \n",
    "                     backoff = backoff) "
   ]
  },
  {
   "cell_type": "code",
   "execution_count": 87,
   "id": "3d051fd7",
   "metadata": {},
   "outputs": [
    {
     "data": {
      "text/plain": [
       "0.891585424067333"
      ]
     },
     "execution_count": 87,
     "metadata": {},
     "output_type": "execute_result"
    }
   ],
   "source": [
    "tag.evaluate(list_sent_pos_test) "
   ]
  },
  {
   "cell_type": "markdown",
   "id": "7ea1b6bf",
   "metadata": {},
   "source": [
    "#### Ожидаемо на \"незнакомом\" тексте показатели чуть ниже, чем на тексте от новостного портала. "
   ]
  },
  {
   "cell_type": "markdown",
   "id": "f881f237",
   "metadata": {},
   "source": [
    "---"
   ]
  },
  {
   "cell_type": "markdown",
   "id": "6cf0a936",
   "metadata": {},
   "source": [
    "#### Создание тэггера stop words"
   ]
  },
  {
   "cell_type": "code",
   "execution_count": 88,
   "id": "97de76db",
   "metadata": {},
   "outputs": [],
   "source": [
    "from nltk.tag import SequentialBackoffTagger\n",
    "from nltk.corpus import stopwords"
   ]
  },
  {
   "cell_type": "code",
   "execution_count": 89,
   "id": "6edd6412",
   "metadata": {},
   "outputs": [],
   "source": [
    "class NamesTagger(SequentialBackoffTagger):\n",
    "    def __init__(self, *args, **kwargs):\n",
    "        SequentialBackoffTagger.__init__(self, *args, **kwargs)\n",
    "        self.stopwords_set = set([n.lower() for n in stopwords.words()])\n",
    "        \n",
    "    def choose_tag(self, tokens, index, history):\n",
    "        word = tokens[index]\n",
    "        if word.lower() in self.stopwords_set:\n",
    "             return 'stop_W'\n",
    "        else:\n",
    "             return None"
   ]
  },
  {
   "cell_type": "code",
   "execution_count": 91,
   "id": "f5ee1498",
   "metadata": {},
   "outputs": [
    {
     "name": "stdout",
     "output_type": "stream",
     "text": [
      "[('and', 'stop_W')]\n",
      "[('sentens', None)]\n",
      "[('the', 'stop_W')]\n"
     ]
    }
   ],
   "source": [
    "nt = NamesTagger()\n",
    "print(nt.tag(['and'])) \n",
    "print(nt.tag(['sentens'])) \n",
    "print(nt.tag(['the']))            "
   ]
  },
  {
   "cell_type": "markdown",
   "id": "a4e40359",
   "metadata": {},
   "source": [
    "---"
   ]
  },
  {
   "cell_type": "code",
   "execution_count": null,
   "id": "0cd37a34",
   "metadata": {},
   "outputs": [],
   "source": []
  },
  {
   "cell_type": "code",
   "execution_count": null,
   "id": "d59dc3ed",
   "metadata": {},
   "outputs": [],
   "source": []
  },
  {
   "cell_type": "code",
   "execution_count": null,
   "id": "9ae78264",
   "metadata": {},
   "outputs": [],
   "source": []
  }
 ],
 "metadata": {
  "kernelspec": {
   "display_name": "Python 3 (ipykernel)",
   "language": "python",
   "name": "python3"
  },
  "language_info": {
   "codemirror_mode": {
    "name": "ipython",
    "version": 3
   },
   "file_extension": ".py",
   "mimetype": "text/x-python",
   "name": "python",
   "nbconvert_exporter": "python",
   "pygments_lexer": "ipython3",
   "version": "3.8.13"
  }
 },
 "nbformat": 4,
 "nbformat_minor": 5
}
